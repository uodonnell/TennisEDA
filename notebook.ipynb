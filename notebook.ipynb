{
 "cells": [
  {
   "cell_type": "markdown",
   "source": "# An Exploration of the Top 80 Tennis Player's",
   "metadata": {
    "cell_id": "9e3d9cc0e5df483687e1f651f7345069",
    "tags": [],
    "is_collapsed": false,
    "formattedRanges": [],
    "deepnote_cell_type": "text-cell-h1"
   }
  },
  {
   "cell_type": "markdown",
   "source": "## Data Exploration and Validation",
   "metadata": {
    "cell_id": "ee40ec526eb14a68a44ed1cfb48c72a8",
    "tags": [],
    "is_collapsed": false,
    "formattedRanges": [],
    "deepnote_cell_type": "text-cell-h2"
   }
  },
  {
   "cell_type": "markdown",
   "source": "To start, install and import pandas and some visualization libraries.",
   "metadata": {
    "cell_id": "9f919bb35d544c20a216864fa8714241",
    "tags": [],
    "is_collapsed": false,
    "formattedRanges": [],
    "deepnote_cell_type": "text-cell-p"
   }
  },
  {
   "cell_type": "code",
   "source": "pip install -r requirements.txt",
   "metadata": {
    "cell_id": "1e6fc9a0e38d4cc0934caa37ade1485d",
    "tags": [],
    "deepnote_to_be_reexecuted": false,
    "source_hash": "2f59421c",
    "execution_start": 1656076837922,
    "execution_millis": 10842,
    "deepnote_cell_type": "code",
    "deepnote_cell_height": 459.375
   },
   "outputs": [
    {
     "name": "stdout",
     "text": "Requirement already satisfied: pandas in /shared-libs/python3.9/py/lib/python3.9/site-packages (from -r requirements.txt (line 1)) (1.2.5)\nRequirement already satisfied: matplotlib in /shared-libs/python3.9/py/lib/python3.9/site-packages (from -r requirements.txt (line 2)) (3.5.2)\nRequirement already satisfied: seaborn in /shared-libs/python3.9/py/lib/python3.9/site-packages (from -r requirements.txt (line 3)) (0.11.2)\nRequirement already satisfied: pytz>=2017.3 in /shared-libs/python3.9/py/lib/python3.9/site-packages (from pandas->-r requirements.txt (line 1)) (2022.1)\nRequirement already satisfied: python-dateutil>=2.7.3 in /shared-libs/python3.9/py-core/lib/python3.9/site-packages (from pandas->-r requirements.txt (line 1)) (2.8.2)\nRequirement already satisfied: numpy>=1.16.5 in /shared-libs/python3.9/py/lib/python3.9/site-packages (from pandas->-r requirements.txt (line 1)) (1.22.4)\nRequirement already satisfied: cycler>=0.10 in /shared-libs/python3.9/py/lib/python3.9/site-packages (from matplotlib->-r requirements.txt (line 2)) (0.11.0)\nRequirement already satisfied: pyparsing>=2.2.1 in /shared-libs/python3.9/py/lib/python3.9/site-packages (from matplotlib->-r requirements.txt (line 2)) (3.0.9)\nRequirement already satisfied: kiwisolver>=1.0.1 in /shared-libs/python3.9/py/lib/python3.9/site-packages (from matplotlib->-r requirements.txt (line 2)) (1.4.2)\nRequirement already satisfied: packaging>=20.0 in /shared-libs/python3.9/py/lib/python3.9/site-packages (from matplotlib->-r requirements.txt (line 2)) (21.3)\nRequirement already satisfied: fonttools>=4.22.0 in /shared-libs/python3.9/py/lib/python3.9/site-packages (from matplotlib->-r requirements.txt (line 2)) (4.33.3)\nRequirement already satisfied: pillow>=6.2.0 in /shared-libs/python3.9/py/lib/python3.9/site-packages (from matplotlib->-r requirements.txt (line 2)) (9.1.1)\nRequirement already satisfied: scipy>=1.0 in /shared-libs/python3.9/py/lib/python3.9/site-packages (from seaborn->-r requirements.txt (line 3)) (1.8.1)\nRequirement already satisfied: six>=1.5 in /shared-libs/python3.9/py-core/lib/python3.9/site-packages (from python-dateutil>=2.7.3->pandas->-r requirements.txt (line 1)) (1.16.0)\n\u001b[33mWARNING: Running pip as the 'root' user can result in broken permissions and conflicting behaviour with the system package manager. It is recommended to use a virtual environment instead: https://pip.pypa.io/warnings/venv\u001b[0m\u001b[33m\n\u001b[0m\u001b[33mWARNING: You are using pip version 22.0.4; however, version 22.1.2 is available.\nYou should consider upgrading via the '/usr/local/bin/python -m pip install --upgrade pip' command.\u001b[0m\u001b[33m\n\u001b[0mNote: you may need to restart the kernel to use updated packages.\n",
     "output_type": "stream"
    }
   ],
   "execution_count": null
  },
  {
   "cell_type": "code",
   "source": "import pandas as pd\nimport matplotlib.pyplot as plt\nimport seaborn as sns",
   "metadata": {
    "cell_id": "14affa79de3d4f7292377759642c270a",
    "tags": [],
    "deepnote_to_be_reexecuted": false,
    "source_hash": "3bc44cd8",
    "execution_start": 1656077314350,
    "execution_millis": 3029,
    "deepnote_cell_type": "code",
    "deepnote_cell_height": 117
   },
   "outputs": [],
   "execution_count": null
  },
  {
   "cell_type": "code",
   "source": "tennis = pd.read_csv(\"tennis_player_data.csv\")\ntennis",
   "metadata": {
    "cell_id": "5079f101bced4424a833baf2c81a565f",
    "tags": [],
    "deepnote_to_be_reexecuted": false,
    "source_hash": "3f8531b6",
    "execution_start": 1656078907586,
    "execution_millis": 134,
    "deepnote_cell_type": "code",
    "deepnote_cell_height": 635
   },
   "outputs": [
    {
     "output_type": "execute_result",
     "execution_count": 10,
     "data": {
      "application/vnd.deepnote.dataframe.v3+json": {
       "column_count": 22,
       "row_count": 80,
       "columns": [
        {
         "name": "player",
         "dtype": "object",
         "stats": {
          "unique_count": 80,
          "nan_count": 0,
          "categories": [
           {
            "name": "Daniil Medvedev",
            "count": 1
           },
           {
            "name": "Alexander Zverev",
            "count": 1
           },
           {
            "name": "78 others",
            "count": 78
           }
          ]
         }
        },
        {
         "name": "career_length",
         "dtype": "int64",
         "stats": {
          "unique_count": 20,
          "nan_count": 0,
          "min": "1",
          "max": "21",
          "histogram": [
           {
            "bin_start": 1,
            "bin_end": 3,
            "count": 3
           },
           {
            "bin_start": 3,
            "bin_end": 5,
            "count": 11
           },
           {
            "bin_start": 5,
            "bin_end": 7,
            "count": 10
           },
           {
            "bin_start": 7,
            "bin_end": 9,
            "count": 19
           },
           {
            "bin_start": 9,
            "bin_end": 11,
            "count": 8
           },
           {
            "bin_start": 11,
            "bin_end": 13,
            "count": 8
           },
           {
            "bin_start": 13,
            "bin_end": 15,
            "count": 7
           },
           {
            "bin_start": 15,
            "bin_end": 17,
            "count": 5
           },
           {
            "bin_start": 17,
            "bin_end": 19,
            "count": 6
           },
           {
            "bin_start": 19,
            "bin_end": 21,
            "count": 3
           }
          ]
         }
        },
        {
         "name": "backhand_type",
         "dtype": "object",
         "stats": {
          "unique_count": 2,
          "nan_count": 0,
          "categories": [
           {
            "name": " Two-Handed Backhand",
            "count": 72
           },
           {
            "name": " One-Handed Backhand",
            "count": 8
           }
          ]
         }
        },
        {
         "name": "aces",
         "dtype": "int64",
         "stats": {
          "unique_count": 78,
          "nan_count": 0,
          "min": "35",
          "max": "13634",
          "histogram": [
           {
            "bin_start": 35,
            "bin_end": 1394.9,
            "count": 49
           },
           {
            "bin_start": 1394.9,
            "bin_end": 2754.8,
            "count": 18
           },
           {
            "bin_start": 2754.8,
            "bin_end": 4114.700000000001,
            "count": 6
           },
           {
            "bin_start": 4114.700000000001,
            "bin_end": 5474.6,
            "count": 2
           },
           {
            "bin_start": 5474.6,
            "bin_end": 6834.5,
            "count": 3
           },
           {
            "bin_start": 6834.5,
            "bin_end": 8194.400000000001,
            "count": 1
           },
           {
            "bin_start": 8194.400000000001,
            "bin_end": 9554.300000000001,
            "count": 0
           },
           {
            "bin_start": 9554.300000000001,
            "bin_end": 10914.2,
            "count": 0
           },
           {
            "bin_start": 10914.2,
            "bin_end": 12274.1,
            "count": 0
           },
           {
            "bin_start": 12274.1,
            "bin_end": 13634,
            "count": 1
           }
          ]
         }
        },
        {
         "name": "double_faults",
         "dtype": "int64",
         "stats": {
          "unique_count": 78,
          "nan_count": 0,
          "min": "23",
          "max": "2917",
          "histogram": [
           {
            "bin_start": 23,
            "bin_end": 312.4,
            "count": 25
           },
           {
            "bin_start": 312.4,
            "bin_end": 601.8,
            "count": 21
           },
           {
            "bin_start": 601.8,
            "bin_end": 891.1999999999999,
            "count": 9
           },
           {
            "bin_start": 891.1999999999999,
            "bin_end": 1180.6,
            "count": 8
           },
           {
            "bin_start": 1180.6,
            "bin_end": 1470,
            "count": 5
           },
           {
            "bin_start": 1470,
            "bin_end": 1759.3999999999999,
            "count": 2
           },
           {
            "bin_start": 1759.3999999999999,
            "bin_end": 2048.7999999999997,
            "count": 1
           },
           {
            "bin_start": 2048.7999999999997,
            "bin_end": 2338.2,
            "count": 4
           },
           {
            "bin_start": 2338.2,
            "bin_end": 2627.6,
            "count": 1
           },
           {
            "bin_start": 2627.6,
            "bin_end": 2917,
            "count": 4
           }
          ]
         }
        },
        {
         "name": "first_serve",
         "dtype": "int64",
         "stats": {
          "unique_count": 16,
          "nan_count": 0,
          "min": "52",
          "max": "73",
          "histogram": [
           {
            "bin_start": 52,
            "bin_end": 54.1,
            "count": 1
           },
           {
            "bin_start": 54.1,
            "bin_end": 56.2,
            "count": 1
           },
           {
            "bin_start": 56.2,
            "bin_end": 58.3,
            "count": 8
           },
           {
            "bin_start": 58.3,
            "bin_end": 60.4,
            "count": 12
           },
           {
            "bin_start": 60.4,
            "bin_end": 62.5,
            "count": 19
           },
           {
            "bin_start": 62.5,
            "bin_end": 64.6,
            "count": 18
           },
           {
            "bin_start": 64.6,
            "bin_end": 66.7,
            "count": 16
           },
           {
            "bin_start": 66.7,
            "bin_end": 68.8,
            "count": 2
           },
           {
            "bin_start": 68.8,
            "bin_end": 70.9,
            "count": 1
           },
           {
            "bin_start": 70.9,
            "bin_end": 73,
            "count": 2
           }
          ]
         }
        },
        {
         "name": "1st_serve_points_won",
         "dtype": "int64",
         "stats": {
          "unique_count": 17,
          "nan_count": 0,
          "min": "62",
          "max": "79",
          "histogram": [
           {
            "bin_start": 62,
            "bin_end": 63.7,
            "count": 1
           },
           {
            "bin_start": 63.7,
            "bin_end": 65.4,
            "count": 5
           },
           {
            "bin_start": 65.4,
            "bin_end": 67.1,
            "count": 5
           },
           {
            "bin_start": 67.1,
            "bin_end": 68.8,
            "count": 9
           },
           {
            "bin_start": 68.8,
            "bin_end": 70.5,
            "count": 22
           },
           {
            "bin_start": 70.5,
            "bin_end": 72.2,
            "count": 11
           },
           {
            "bin_start": 72.2,
            "bin_end": 73.9,
            "count": 3
           },
           {
            "bin_start": 73.9,
            "bin_end": 75.6,
            "count": 14
           },
           {
            "bin_start": 75.6,
            "bin_end": 77.3,
            "count": 6
           },
           {
            "bin_start": 77.3,
            "bin_end": 79,
            "count": 4
           }
          ]
         }
        },
        {
         "name": "2nd_serve_points_won",
         "dtype": "int64",
         "stats": {
          "unique_count": 13,
          "nan_count": 0,
          "min": "45",
          "max": "57",
          "histogram": [
           {
            "bin_start": 45,
            "bin_end": 46.2,
            "count": 4
           },
           {
            "bin_start": 46.2,
            "bin_end": 47.4,
            "count": 1
           },
           {
            "bin_start": 47.4,
            "bin_end": 48.6,
            "count": 3
           },
           {
            "bin_start": 48.6,
            "bin_end": 49.8,
            "count": 13
           },
           {
            "bin_start": 49.8,
            "bin_end": 51,
            "count": 17
           },
           {
            "bin_start": 51,
            "bin_end": 52.2,
            "count": 24
           },
           {
            "bin_start": 52.2,
            "bin_end": 53.4,
            "count": 8
           },
           {
            "bin_start": 53.4,
            "bin_end": 54.6,
            "count": 5
           },
           {
            "bin_start": 54.6,
            "bin_end": 55.8,
            "count": 3
           },
           {
            "bin_start": 55.8,
            "bin_end": 57,
            "count": 2
           }
          ]
         }
        },
        {
         "name": "break_points_faced",
         "dtype": "int64",
         "stats": {
          "unique_count": 78,
          "nan_count": 0,
          "min": "95",
          "max": "6309",
          "histogram": [
           {
            "bin_start": 95,
            "bin_end": 716.4,
            "count": 26
           },
           {
            "bin_start": 716.4,
            "bin_end": 1337.8,
            "count": 19
           },
           {
            "bin_start": 1337.8,
            "bin_end": 1959.1999999999998,
            "count": 14
           },
           {
            "bin_start": 1959.1999999999998,
            "bin_end": 2580.6,
            "count": 3
           },
           {
            "bin_start": 2580.6,
            "bin_end": 3202,
            "count": 5
           },
           {
            "bin_start": 3202,
            "bin_end": 3823.3999999999996,
            "count": 4
           },
           {
            "bin_start": 3823.3999999999996,
            "bin_end": 4444.8,
            "count": 2
           },
           {
            "bin_start": 4444.8,
            "bin_end": 5066.2,
            "count": 2
           },
           {
            "bin_start": 5066.2,
            "bin_end": 5687.599999999999,
            "count": 3
           },
           {
            "bin_start": 5687.599999999999,
            "bin_end": 6309,
            "count": 2
           }
          ]
         }
        },
        {
         "name": "break_points_saved",
         "dtype": "int64",
         "stats": {
          "unique_count": 15,
          "nan_count": 0,
          "min": "56",
          "max": "71",
          "histogram": [
           {
            "bin_start": 56,
            "bin_end": 57.5,
            "count": 7
           },
           {
            "bin_start": 57.5,
            "bin_end": 59,
            "count": 5
           },
           {
            "bin_start": 59,
            "bin_end": 60.5,
            "count": 15
           },
           {
            "bin_start": 60.5,
            "bin_end": 62,
            "count": 13
           },
           {
            "bin_start": 62,
            "bin_end": 63.5,
            "count": 21
           },
           {
            "bin_start": 63.5,
            "bin_end": 65,
            "count": 6
           },
           {
            "bin_start": 65,
            "bin_end": 66.5,
            "count": 7
           },
           {
            "bin_start": 66.5,
            "bin_end": 68,
            "count": 3
           },
           {
            "bin_start": 68,
            "bin_end": 69.5,
            "count": 2
           },
           {
            "bin_start": 69.5,
            "bin_end": 71,
            "count": 1
           }
          ]
         }
        },
        {
         "name": "service_games_played",
         "dtype": "int64",
         "stats": {
          "unique_count": 78,
          "nan_count": 0,
          "min": "122",
          "max": "14780",
          "histogram": [
           {
            "bin_start": 122,
            "bin_end": 1587.8,
            "count": 29
           },
           {
            "bin_start": 1587.8,
            "bin_end": 3053.6,
            "count": 22
           },
           {
            "bin_start": 3053.6,
            "bin_end": 4519.4,
            "count": 11
           },
           {
            "bin_start": 4519.4,
            "bin_end": 5985.2,
            "count": 4
           },
           {
            "bin_start": 5985.2,
            "bin_end": 7451,
            "count": 5
           },
           {
            "bin_start": 7451,
            "bin_end": 8916.8,
            "count": 2
           },
           {
            "bin_start": 8916.8,
            "bin_end": 10382.6,
            "count": 1
           },
           {
            "bin_start": 10382.6,
            "bin_end": 11848.4,
            "count": 4
           },
           {
            "bin_start": 11848.4,
            "bin_end": 13314.199999999999,
            "count": 0
           },
           {
            "bin_start": 13314.199999999999,
            "bin_end": 14780,
            "count": 2
           }
          ]
         }
        },
        {
         "name": "service_games_won",
         "dtype": "int64",
         "stats": {
          "unique_count": 21,
          "nan_count": 0,
          "min": "67",
          "max": "92",
          "histogram": [
           {
            "bin_start": 67,
            "bin_end": 69.5,
            "count": 2
           },
           {
            "bin_start": 69.5,
            "bin_end": 72,
            "count": 1
           },
           {
            "bin_start": 72,
            "bin_end": 74.5,
            "count": 9
           },
           {
            "bin_start": 74.5,
            "bin_end": 77,
            "count": 14
           },
           {
            "bin_start": 77,
            "bin_end": 79.5,
            "count": 21
           },
           {
            "bin_start": 79.5,
            "bin_end": 82,
            "count": 10
           },
           {
            "bin_start": 82,
            "bin_end": 84.5,
            "count": 15
           },
           {
            "bin_start": 84.5,
            "bin_end": 87,
            "count": 3
           },
           {
            "bin_start": 87,
            "bin_end": 89.5,
            "count": 3
           },
           {
            "bin_start": 89.5,
            "bin_end": 92,
            "count": 2
           }
          ]
         }
        },
        {
         "name": "total_service_points_won",
         "dtype": "int64",
         "stats": {
          "unique_count": 14,
          "nan_count": 0,
          "min": "58",
          "max": "72",
          "histogram": [
           {
            "bin_start": 58,
            "bin_end": 59.4,
            "count": 4
           },
           {
            "bin_start": 59.4,
            "bin_end": 60.8,
            "count": 7
           },
           {
            "bin_start": 60.8,
            "bin_end": 62.2,
            "count": 21
           },
           {
            "bin_start": 62.2,
            "bin_end": 63.6,
            "count": 14
           },
           {
            "bin_start": 63.6,
            "bin_end": 65,
            "count": 8
           },
           {
            "bin_start": 65,
            "bin_end": 66.4,
            "count": 18
           },
           {
            "bin_start": 66.4,
            "bin_end": 67.8,
            "count": 2
           },
           {
            "bin_start": 67.8,
            "bin_end": 69.2,
            "count": 4
           },
           {
            "bin_start": 69.2,
            "bin_end": 70.6,
            "count": 1
           },
           {
            "bin_start": 70.6,
            "bin_end": 72,
            "count": 1
           }
          ]
         }
        },
        {
         "name": "1st_serve_return_won",
         "dtype": "int64",
         "stats": {
          "unique_count": 14,
          "nan_count": 0,
          "min": "21",
          "max": "35",
          "histogram": [
           {
            "bin_start": 21,
            "bin_end": 22.4,
            "count": 2
           },
           {
            "bin_start": 22.4,
            "bin_end": 23.8,
            "count": 0
           },
           {
            "bin_start": 23.8,
            "bin_end": 25.2,
            "count": 4
           },
           {
            "bin_start": 25.2,
            "bin_end": 26.6,
            "count": 5
           },
           {
            "bin_start": 26.6,
            "bin_end": 28,
            "count": 5
           },
           {
            "bin_start": 28,
            "bin_end": 29.4,
            "count": 24
           },
           {
            "bin_start": 29.4,
            "bin_end": 30.799999999999997,
            "count": 11
           },
           {
            "bin_start": 30.799999999999997,
            "bin_end": 32.2,
            "count": 22
           },
           {
            "bin_start": 32.2,
            "bin_end": 33.6,
            "count": 2
           },
           {
            "bin_start": 33.6,
            "bin_end": 35,
            "count": 5
           }
          ]
         }
        },
        {
         "name": "2nd_serve_return_won",
         "dtype": "int64",
         "stats": {
          "unique_count": 12,
          "nan_count": 0,
          "min": "42",
          "max": "55",
          "histogram": [
           {
            "bin_start": 42,
            "bin_end": 43.3,
            "count": 2
           },
           {
            "bin_start": 43.3,
            "bin_end": 44.6,
            "count": 0
           },
           {
            "bin_start": 44.6,
            "bin_end": 45.9,
            "count": 2
           },
           {
            "bin_start": 45.9,
            "bin_end": 47.2,
            "count": 9
           },
           {
            "bin_start": 47.2,
            "bin_end": 48.5,
            "count": 7
           },
           {
            "bin_start": 48.5,
            "bin_end": 49.8,
            "count": 10
           },
           {
            "bin_start": 49.8,
            "bin_end": 51.1,
            "count": 33
           },
           {
            "bin_start": 51.1,
            "bin_end": 52.4,
            "count": 7
           },
           {
            "bin_start": 52.4,
            "bin_end": 53.7,
            "count": 4
           },
           {
            "bin_start": 53.7,
            "bin_end": 55,
            "count": 6
           }
          ]
         }
        },
        {
         "name": "total_break_pts",
         "dtype": "int64",
         "stats": {
          "unique_count": 80,
          "nan_count": 0,
          "min": "58",
          "max": "10943",
          "histogram": [
           {
            "bin_start": 58,
            "bin_end": 1146.5,
            "count": 39
           },
           {
            "bin_start": 1146.5,
            "bin_end": 2235,
            "count": 19
           },
           {
            "bin_start": 2235,
            "bin_end": 3323.5,
            "count": 7
           },
           {
            "bin_start": 3323.5,
            "bin_end": 4412,
            "count": 8
           },
           {
            "bin_start": 4412,
            "bin_end": 5500.5,
            "count": 1
           },
           {
            "bin_start": 5500.5,
            "bin_end": 6589,
            "count": 3
           },
           {
            "bin_start": 6589,
            "bin_end": 7677.5,
            "count": 0
           },
           {
            "bin_start": 7677.5,
            "bin_end": 8766,
            "count": 1
           },
           {
            "bin_start": 8766,
            "bin_end": 9854.5,
            "count": 0
           },
           {
            "bin_start": 9854.5,
            "bin_end": 10943,
            "count": 2
           }
          ]
         }
        },
        {
         "name": "break_pts_conv",
         "dtype": "int64",
         "stats": {
          "unique_count": 13,
          "nan_count": 0,
          "min": "30",
          "max": "45",
          "histogram": [
           {
            "bin_start": 30,
            "bin_end": 31.5,
            "count": 2
           },
           {
            "bin_start": 31.5,
            "bin_end": 33,
            "count": 0
           },
           {
            "bin_start": 33,
            "bin_end": 34.5,
            "count": 1
           },
           {
            "bin_start": 34.5,
            "bin_end": 36,
            "count": 0
           },
           {
            "bin_start": 36,
            "bin_end": 37.5,
            "count": 13
           },
           {
            "bin_start": 37.5,
            "bin_end": 39,
            "count": 9
           },
           {
            "bin_start": 39,
            "bin_end": 40.5,
            "count": 25
           },
           {
            "bin_start": 40.5,
            "bin_end": 42,
            "count": 16
           },
           {
            "bin_start": 42,
            "bin_end": 43.5,
            "count": 10
           },
           {
            "bin_start": 43.5,
            "bin_end": 45,
            "count": 4
           }
          ]
         }
        },
        {
         "name": "return_games_played",
         "dtype": "int64",
         "stats": {
          "unique_count": 80,
          "nan_count": 0,
          "min": "121",
          "max": "14633",
          "histogram": [
           {
            "bin_start": 121,
            "bin_end": 1572.2,
            "count": 29
           },
           {
            "bin_start": 1572.2,
            "bin_end": 3023.4,
            "count": 22
           },
           {
            "bin_start": 3023.4,
            "bin_end": 4474.6,
            "count": 11
           },
           {
            "bin_start": 4474.6,
            "bin_end": 5925.8,
            "count": 3
           },
           {
            "bin_start": 5925.8,
            "bin_end": 7377,
            "count": 6
           },
           {
            "bin_start": 7377,
            "bin_end": 8828.2,
            "count": 2
           },
           {
            "bin_start": 8828.2,
            "bin_end": 10279.4,
            "count": 1
           },
           {
            "bin_start": 10279.4,
            "bin_end": 11730.6,
            "count": 4
           },
           {
            "bin_start": 11730.6,
            "bin_end": 13181.800000000001,
            "count": 0
           },
           {
            "bin_start": 13181.800000000001,
            "bin_end": 14633,
            "count": 2
           }
          ]
         }
        },
        {
         "name": "return_games_won",
         "dtype": "int64",
         "stats": {
          "unique_count": 20,
          "nan_count": 0,
          "min": "10",
          "max": "34",
          "histogram": [
           {
            "bin_start": 10,
            "bin_end": 12.4,
            "count": 2
           },
           {
            "bin_start": 12.4,
            "bin_end": 14.8,
            "count": 1
           },
           {
            "bin_start": 14.8,
            "bin_end": 17.2,
            "count": 6
           },
           {
            "bin_start": 17.2,
            "bin_end": 19.6,
            "count": 13
           },
           {
            "bin_start": 19.6,
            "bin_end": 22,
            "count": 10
           },
           {
            "bin_start": 22,
            "bin_end": 24.4,
            "count": 21
           },
           {
            "bin_start": 24.4,
            "bin_end": 26.8,
            "count": 10
           },
           {
            "bin_start": 26.8,
            "bin_end": 29.2,
            "count": 12
           },
           {
            "bin_start": 29.2,
            "bin_end": 31.599999999999998,
            "count": 1
           },
           {
            "bin_start": 31.599999999999998,
            "bin_end": 34,
            "count": 4
           }
          ]
         }
        },
        {
         "name": "return_points_won",
         "dtype": "int64",
         "stats": {
          "unique_count": 13,
          "nan_count": 0,
          "min": "28",
          "max": "42",
          "histogram": [
           {
            "bin_start": 28,
            "bin_end": 29.4,
            "count": 1
           },
           {
            "bin_start": 29.4,
            "bin_end": 30.8,
            "count": 1
           },
           {
            "bin_start": 30.8,
            "bin_end": 32.2,
            "count": 1
           },
           {
            "bin_start": 32.2,
            "bin_end": 33.6,
            "count": 3
           },
           {
            "bin_start": 33.6,
            "bin_end": 35,
            "count": 3
           },
           {
            "bin_start": 35,
            "bin_end": 36.4,
            "count": 17
           },
           {
            "bin_start": 36.4,
            "bin_end": 37.8,
            "count": 14
           },
           {
            "bin_start": 37.8,
            "bin_end": 39.2,
            "count": 28
           },
           {
            "bin_start": 39.2,
            "bin_end": 40.6,
            "count": 6
           },
           {
            "bin_start": 40.6,
            "bin_end": 42,
            "count": 6
           }
          ]
         }
        },
        {
         "name": "total_pts_won",
         "dtype": "int64",
         "stats": {
          "unique_count": 9,
          "nan_count": 0,
          "min": "47",
          "max": "55",
          "histogram": [
           {
            "bin_start": 47,
            "bin_end": 47.8,
            "count": 1
           },
           {
            "bin_start": 47.8,
            "bin_end": 48.6,
            "count": 4
           },
           {
            "bin_start": 48.6,
            "bin_end": 49.4,
            "count": 16
           },
           {
            "bin_start": 49.4,
            "bin_end": 50.2,
            "count": 26
           },
           {
            "bin_start": 50.2,
            "bin_end": 51,
            "count": 0
           },
           {
            "bin_start": 51,
            "bin_end": 51.8,
            "count": 19
           },
           {
            "bin_start": 51.8,
            "bin_end": 52.6,
            "count": 10
           },
           {
            "bin_start": 52.6,
            "bin_end": 53.4,
            "count": 2
           },
           {
            "bin_start": 53.4,
            "bin_end": 54.2,
            "count": 1
           },
           {
            "bin_start": 54.2,
            "bin_end": 55,
            "count": 1
           }
          ]
         }
        },
        {
         "name": "Unnamed: 21",
         "dtype": "float64",
         "stats": {
          "unique_count": 0,
          "nan_count": 80,
          "min": null,
          "max": null,
          "histogram": [
           {
            "bin_start": 0,
            "bin_end": 0.1,
            "count": 0
           },
           {
            "bin_start": 0.1,
            "bin_end": 0.2,
            "count": 0
           },
           {
            "bin_start": 0.2,
            "bin_end": 0.30000000000000004,
            "count": 0
           },
           {
            "bin_start": 0.30000000000000004,
            "bin_end": 0.4,
            "count": 0
           },
           {
            "bin_start": 0.4,
            "bin_end": 0.5,
            "count": 0
           },
           {
            "bin_start": 0.5,
            "bin_end": 0.6000000000000001,
            "count": 0
           },
           {
            "bin_start": 0.6000000000000001,
            "bin_end": 0.7000000000000001,
            "count": 0
           },
           {
            "bin_start": 0.7000000000000001,
            "bin_end": 0.8,
            "count": 0
           },
           {
            "bin_start": 0.8,
            "bin_end": 0.9,
            "count": 0
           },
           {
            "bin_start": 0.9,
            "bin_end": 1,
            "count": 0
           }
          ]
         }
        },
        {
         "name": "_deepnote_index_column",
         "dtype": "int64"
        }
       ],
       "rows": [
        {
         "player": "Daniil Medvedev",
         "career_length": 8,
         "backhand_type": " Two-Handed Backhand",
         "aces": 2845,
         "double_faults": 1187,
         "first_serve": 60,
         "1st_serve_points_won": 75,
         "2nd_serve_points_won": 52,
         "break_points_faced": 1897,
         "break_points_saved": 63,
         "service_games_played": 4230,
         "service_games_won": 83,
         "total_service_points_won": 66,
         "1st_serve_return_won": 31,
         "2nd_serve_return_won": 54,
         "total_break_pts": 2664,
         "break_pts_conv": 42,
         "return_games_played": 4238,
         "return_games_won": 26,
         "return_points_won": 39,
         "total_pts_won": 52,
         "Unnamed: 21": "nan",
         "_deepnote_index_column": 0
        },
        {
         "player": "Alexander Zverev",
         "career_length": 9,
         "backhand_type": " Two-Handed Backhand",
         "aces": 3974,
         "double_faults": 1973,
         "first_serve": 65,
         "1st_serve_points_won": 74,
         "2nd_serve_points_won": 50,
         "break_points_faced": 2709,
         "break_points_saved": 61,
         "service_games_played": 6037,
         "service_games_won": 82,
         "total_service_points_won": 66,
         "1st_serve_return_won": 31,
         "2nd_serve_return_won": 51,
         "total_break_pts": 3631,
         "break_pts_conv": 42,
         "return_games_played": 6045,
         "return_games_won": 25,
         "return_points_won": 38,
         "total_pts_won": 52,
         "Unnamed: 21": "nan",
         "_deepnote_index_column": 1
        },
        {
         "player": "Novak Djokovic",
         "career_length": 19,
         "backhand_type": " Two-Handed Backhand",
         "aces": 6440,
         "double_faults": 2672,
         "first_serve": 65,
         "1st_serve_points_won": 74,
         "2nd_serve_points_won": 55,
         "break_points_faced": 6017,
         "break_points_saved": 66,
         "service_games_played": 14578,
         "service_games_won": 86,
         "total_service_points_won": 67,
         "1st_serve_return_won": 34,
         "2nd_serve_return_won": 55,
         "total_break_pts": 10278,
         "break_pts_conv": 44,
         "return_games_played": 14179,
         "return_games_won": 32,
         "return_points_won": 42,
         "total_pts_won": 54,
         "Unnamed: 21": "nan",
         "_deepnote_index_column": 2
        },
        {
         "player": "Rafael Nadal",
         "career_length": 21,
         "backhand_type": " Two-Handed Backhand",
         "aces": 3856,
         "double_faults": 2066,
         "first_serve": 68,
         "1st_serve_points_won": 72,
         "2nd_serve_points_won": 57,
         "break_points_faced": 6309,
         "break_points_saved": 67,
         "service_games_played": 14780,
         "service_games_won": 86,
         "total_service_points_won": 67,
         "1st_serve_return_won": 34,
         "2nd_serve_return_won": 55,
         "total_break_pts": 10943,
         "break_pts_conv": 45,
         "return_games_played": 14633,
         "return_games_won": 34,
         "return_points_won": 42,
         "total_pts_won": 55,
         "Unnamed: 21": "nan",
         "_deepnote_index_column": 3
        },
        {
         "player": "Casper Ruud",
         "career_length": 7,
         "backhand_type": " Two-Handed Backhand",
         "aces": 986,
         "double_faults": 461,
         "first_serve": 65,
         "1st_serve_points_won": 72,
         "2nd_serve_points_won": 54,
         "break_points_faced": 1137,
         "break_points_saved": 63,
         "service_games_played": 2529,
         "service_games_won": 83,
         "total_service_points_won": 66,
         "1st_serve_return_won": 29,
         "2nd_serve_return_won": 51,
         "total_break_pts": 1424,
         "break_pts_conv": 41,
         "return_games_played": 2466,
         "return_games_won": 24,
         "return_points_won": 37,
         "total_pts_won": 52,
         "Unnamed: 21": "nan",
         "_deepnote_index_column": 4
        },
        {
         "player": "Stefanos Tsitsipas",
         "career_length": 6,
         "backhand_type": " One-Handed Backhand",
         "aces": 2329,
         "double_faults": 735,
         "first_serve": 62,
         "1st_serve_points_won": 76,
         "2nd_serve_points_won": 55,
         "break_points_faced": 1679,
         "break_points_saved": 65,
         "service_games_played": 4250,
         "service_games_won": 86,
         "total_service_points_won": 68,
         "1st_serve_return_won": 29,
         "2nd_serve_return_won": 49,
         "total_break_pts": 2205,
         "break_pts_conv": 40,
         "return_games_played": 4154,
         "return_games_won": 21,
         "return_points_won": 36,
         "total_pts_won": 52,
         "Unnamed: 21": "nan",
         "_deepnote_index_column": 5
        },
        {
         "player": "Carlos Alcaraz",
         "career_length": 4,
         "backhand_type": " Two-Handed Backhand",
         "aces": 267,
         "double_faults": 196,
         "first_serve": 64,
         "1st_serve_points_won": 70,
         "2nd_serve_points_won": 54,
         "break_points_faced": 569,
         "break_points_saved": 62,
         "service_games_played": 1080,
         "service_games_won": 80,
         "total_service_points_won": 64,
         "1st_serve_return_won": 34,
         "2nd_serve_return_won": 53,
         "total_break_pts": 798,
         "break_pts_conv": 43,
         "return_games_played": 1085,
         "return_games_won": 32,
         "return_points_won": 41,
         "total_pts_won": 53,
         "Unnamed: 21": "nan",
         "_deepnote_index_column": 6
        },
        {
         "player": "Andrey Rublev",
         "career_length": 8,
         "backhand_type": " Two-Handed Backhand",
         "aces": 2072,
         "double_faults": 890,
         "first_serve": 60,
         "1st_serve_points_won": 74,
         "2nd_serve_points_won": 50,
         "break_points_faced": 1931,
         "break_points_saved": 62,
         "service_games_played": 3900,
         "service_games_won": 81,
         "total_service_points_won": 65,
         "1st_serve_return_won": 30,
         "2nd_serve_return_won": 53,
         "total_break_pts": 2412,
         "break_pts_conv": 40,
         "return_games_played": 3914,
         "return_games_won": 25,
         "return_points_won": 39,
         "total_pts_won": 52,
         "Unnamed: 21": "nan",
         "_deepnote_index_column": 7
        },
        {
         "player": "Felix Auger-Aliassime",
         "career_length": 5,
         "backhand_type": " Two-Handed Backhand",
         "aces": 1945,
         "double_faults": 919,
         "first_serve": 64,
         "1st_serve_points_won": 75,
         "2nd_serve_points_won": 50,
         "break_points_faced": 1317,
         "break_points_saved": 63,
         "service_games_played": 2719,
         "service_games_won": 82,
         "total_service_points_won": 66,
         "1st_serve_return_won": 30,
         "2nd_serve_return_won": 48,
         "total_break_pts": 1466,
         "break_pts_conv": 38,
         "return_games_played": 2678,
         "return_games_won": 21,
         "return_points_won": 37,
         "total_pts_won": 51,
         "Unnamed: 21": "nan",
         "_deepnote_index_column": 8
        },
        {
         "player": "Hubert Hurkacz",
         "career_length": 7,
         "backhand_type": " Two-Handed Backhand",
         "aces": 1715,
         "double_faults": 447,
         "first_serve": 63,
         "1st_serve_points_won": 75,
         "2nd_serve_points_won": 52,
         "break_points_faced": 1087,
         "break_points_saved": 64,
         "service_games_played": 2422,
         "service_games_won": 84,
         "total_service_points_won": 66,
         "1st_serve_return_won": 28,
         "2nd_serve_return_won": 48,
         "total_break_pts": 1228,
         "break_pts_conv": 38,
         "return_games_played": 2386,
         "return_games_won": 19,
         "return_points_won": 36,
         "total_pts_won": 51,
         "Unnamed: 21": "nan",
         "_deepnote_index_column": 9
        }
       ]
      },
      "text/plain": "                     player  career_length         backhand_type  aces  \\\n0           Daniil Medvedev              8   Two-Handed Backhand  2845   \n1          Alexander Zverev              9   Two-Handed Backhand  3974   \n2            Novak Djokovic             19   Two-Handed Backhand  6440   \n3              Rafael Nadal             21   Two-Handed Backhand  3856   \n4               Casper Ruud              7   Two-Handed Backhand   986   \n..                      ...            ...                   ...   ...   \n75             Benoit Paire             15   Two-Handed Backhand  4455   \n76          James Duckworth             12   Two-Handed Backhand  1096   \n77              Denis Kudla             12   Two-Handed Backhand  1078   \n78  Tomas Martin Etcheverry              5   Two-Handed Backhand    35   \n79         Alejandro Tabilo              7   Two-Handed Backhand   143   \n\n    double_faults  first_serve  1st_serve_points_won  2nd_serve_points_won  \\\n0            1187           60                    75                    52   \n1            1973           65                    74                    50   \n2            2672           65                    74                    55   \n3            2066           68                    72                    57   \n4             461           65                    72                    54   \n..            ...          ...                   ...                   ...   \n75           2722           52                    74                    45   \n76            398           56                    72                    50   \n77            637           58                    70                    51   \n78             23           71                    64                    45   \n79             90           64                    68                    48   \n\n    break_points_faced  break_points_saved  ...  total_service_points_won  \\\n0                 1897                  63  ...                        66   \n1                 2709                  61  ...                        66   \n2                 6017                  66  ...                        67   \n3                 6309                  67  ...                        67   \n4                 1137                  63  ...                        66   \n..                 ...                 ...  ...                       ...   \n75                4219                  60  ...                        60   \n76                1028                  64  ...                        63   \n77                1390                  58  ...                        62   \n78                  98                  61  ...                        58   \n79                 220                  56  ...                        60   \n\n    1st_serve_return_won  2nd_serve_return_won  total_break_pts  \\\n0                     31                    54             2664   \n1                     31                    51             3631   \n2                     34                    55            10278   \n3                     34                    55            10943   \n4                     29                    51             1424   \n..                   ...                   ...              ...   \n75                    31                    49             3853   \n76                    25                    47              736   \n77                    26                    49             1109   \n78                    27                    51               58   \n79                    32                    52              202   \n\n    break_pts_conv  return_games_played  return_games_won  return_points_won  \\\n0               42                 4238                26                 39   \n1               42                 6045                25                 38   \n2               44                14179                32                 42   \n3               45                14633                34                 42   \n4               41                 2466                24                 37   \n..             ...                  ...               ...                ...   \n75              40                 6548                23                 38   \n76              37                 1719                16                 33   \n77              40                 2392                19                 35   \n78              34                  121                17                 36   \n79              44                  331                27                 39   \n\n    total_pts_won  Unnamed: 21  \n0              52          NaN  \n1              52          NaN  \n2              54          NaN  \n3              55          NaN  \n4              52          NaN  \n..            ...          ...  \n75             49          NaN  \n76             48          NaN  \n77             48          NaN  \n78             47          NaN  \n79             50          NaN  \n\n[80 rows x 22 columns]",
      "text/html": "<div>\n<style scoped>\n    .dataframe tbody tr th:only-of-type {\n        vertical-align: middle;\n    }\n\n    .dataframe tbody tr th {\n        vertical-align: top;\n    }\n\n    .dataframe thead th {\n        text-align: right;\n    }\n</style>\n<table border=\"1\" class=\"dataframe\">\n  <thead>\n    <tr style=\"text-align: right;\">\n      <th></th>\n      <th>player</th>\n      <th>career_length</th>\n      <th>backhand_type</th>\n      <th>aces</th>\n      <th>double_faults</th>\n      <th>first_serve</th>\n      <th>1st_serve_points_won</th>\n      <th>2nd_serve_points_won</th>\n      <th>break_points_faced</th>\n      <th>break_points_saved</th>\n      <th>...</th>\n      <th>total_service_points_won</th>\n      <th>1st_serve_return_won</th>\n      <th>2nd_serve_return_won</th>\n      <th>total_break_pts</th>\n      <th>break_pts_conv</th>\n      <th>return_games_played</th>\n      <th>return_games_won</th>\n      <th>return_points_won</th>\n      <th>total_pts_won</th>\n      <th>Unnamed: 21</th>\n    </tr>\n  </thead>\n  <tbody>\n    <tr>\n      <th>0</th>\n      <td>Daniil Medvedev</td>\n      <td>8</td>\n      <td>Two-Handed Backhand</td>\n      <td>2845</td>\n      <td>1187</td>\n      <td>60</td>\n      <td>75</td>\n      <td>52</td>\n      <td>1897</td>\n      <td>63</td>\n      <td>...</td>\n      <td>66</td>\n      <td>31</td>\n      <td>54</td>\n      <td>2664</td>\n      <td>42</td>\n      <td>4238</td>\n      <td>26</td>\n      <td>39</td>\n      <td>52</td>\n      <td>NaN</td>\n    </tr>\n    <tr>\n      <th>1</th>\n      <td>Alexander Zverev</td>\n      <td>9</td>\n      <td>Two-Handed Backhand</td>\n      <td>3974</td>\n      <td>1973</td>\n      <td>65</td>\n      <td>74</td>\n      <td>50</td>\n      <td>2709</td>\n      <td>61</td>\n      <td>...</td>\n      <td>66</td>\n      <td>31</td>\n      <td>51</td>\n      <td>3631</td>\n      <td>42</td>\n      <td>6045</td>\n      <td>25</td>\n      <td>38</td>\n      <td>52</td>\n      <td>NaN</td>\n    </tr>\n    <tr>\n      <th>2</th>\n      <td>Novak Djokovic</td>\n      <td>19</td>\n      <td>Two-Handed Backhand</td>\n      <td>6440</td>\n      <td>2672</td>\n      <td>65</td>\n      <td>74</td>\n      <td>55</td>\n      <td>6017</td>\n      <td>66</td>\n      <td>...</td>\n      <td>67</td>\n      <td>34</td>\n      <td>55</td>\n      <td>10278</td>\n      <td>44</td>\n      <td>14179</td>\n      <td>32</td>\n      <td>42</td>\n      <td>54</td>\n      <td>NaN</td>\n    </tr>\n    <tr>\n      <th>3</th>\n      <td>Rafael Nadal</td>\n      <td>21</td>\n      <td>Two-Handed Backhand</td>\n      <td>3856</td>\n      <td>2066</td>\n      <td>68</td>\n      <td>72</td>\n      <td>57</td>\n      <td>6309</td>\n      <td>67</td>\n      <td>...</td>\n      <td>67</td>\n      <td>34</td>\n      <td>55</td>\n      <td>10943</td>\n      <td>45</td>\n      <td>14633</td>\n      <td>34</td>\n      <td>42</td>\n      <td>55</td>\n      <td>NaN</td>\n    </tr>\n    <tr>\n      <th>4</th>\n      <td>Casper Ruud</td>\n      <td>7</td>\n      <td>Two-Handed Backhand</td>\n      <td>986</td>\n      <td>461</td>\n      <td>65</td>\n      <td>72</td>\n      <td>54</td>\n      <td>1137</td>\n      <td>63</td>\n      <td>...</td>\n      <td>66</td>\n      <td>29</td>\n      <td>51</td>\n      <td>1424</td>\n      <td>41</td>\n      <td>2466</td>\n      <td>24</td>\n      <td>37</td>\n      <td>52</td>\n      <td>NaN</td>\n    </tr>\n    <tr>\n      <th>...</th>\n      <td>...</td>\n      <td>...</td>\n      <td>...</td>\n      <td>...</td>\n      <td>...</td>\n      <td>...</td>\n      <td>...</td>\n      <td>...</td>\n      <td>...</td>\n      <td>...</td>\n      <td>...</td>\n      <td>...</td>\n      <td>...</td>\n      <td>...</td>\n      <td>...</td>\n      <td>...</td>\n      <td>...</td>\n      <td>...</td>\n      <td>...</td>\n      <td>...</td>\n      <td>...</td>\n    </tr>\n    <tr>\n      <th>75</th>\n      <td>Benoit Paire</td>\n      <td>15</td>\n      <td>Two-Handed Backhand</td>\n      <td>4455</td>\n      <td>2722</td>\n      <td>52</td>\n      <td>74</td>\n      <td>45</td>\n      <td>4219</td>\n      <td>60</td>\n      <td>...</td>\n      <td>60</td>\n      <td>31</td>\n      <td>49</td>\n      <td>3853</td>\n      <td>40</td>\n      <td>6548</td>\n      <td>23</td>\n      <td>38</td>\n      <td>49</td>\n      <td>NaN</td>\n    </tr>\n    <tr>\n      <th>76</th>\n      <td>James Duckworth</td>\n      <td>12</td>\n      <td>Two-Handed Backhand</td>\n      <td>1096</td>\n      <td>398</td>\n      <td>56</td>\n      <td>72</td>\n      <td>50</td>\n      <td>1028</td>\n      <td>64</td>\n      <td>...</td>\n      <td>63</td>\n      <td>25</td>\n      <td>47</td>\n      <td>736</td>\n      <td>37</td>\n      <td>1719</td>\n      <td>16</td>\n      <td>33</td>\n      <td>48</td>\n      <td>NaN</td>\n    </tr>\n    <tr>\n      <th>77</th>\n      <td>Denis Kudla</td>\n      <td>12</td>\n      <td>Two-Handed Backhand</td>\n      <td>1078</td>\n      <td>637</td>\n      <td>58</td>\n      <td>70</td>\n      <td>51</td>\n      <td>1390</td>\n      <td>58</td>\n      <td>...</td>\n      <td>62</td>\n      <td>26</td>\n      <td>49</td>\n      <td>1109</td>\n      <td>40</td>\n      <td>2392</td>\n      <td>19</td>\n      <td>35</td>\n      <td>48</td>\n      <td>NaN</td>\n    </tr>\n    <tr>\n      <th>78</th>\n      <td>Tomas Martin Etcheverry</td>\n      <td>5</td>\n      <td>Two-Handed Backhand</td>\n      <td>35</td>\n      <td>23</td>\n      <td>71</td>\n      <td>64</td>\n      <td>45</td>\n      <td>98</td>\n      <td>61</td>\n      <td>...</td>\n      <td>58</td>\n      <td>27</td>\n      <td>51</td>\n      <td>58</td>\n      <td>34</td>\n      <td>121</td>\n      <td>17</td>\n      <td>36</td>\n      <td>47</td>\n      <td>NaN</td>\n    </tr>\n    <tr>\n      <th>79</th>\n      <td>Alejandro Tabilo</td>\n      <td>7</td>\n      <td>Two-Handed Backhand</td>\n      <td>143</td>\n      <td>90</td>\n      <td>64</td>\n      <td>68</td>\n      <td>48</td>\n      <td>220</td>\n      <td>56</td>\n      <td>...</td>\n      <td>60</td>\n      <td>32</td>\n      <td>52</td>\n      <td>202</td>\n      <td>44</td>\n      <td>331</td>\n      <td>27</td>\n      <td>39</td>\n      <td>50</td>\n      <td>NaN</td>\n    </tr>\n  </tbody>\n</table>\n<p>80 rows × 22 columns</p>\n</div>"
     },
     "metadata": {}
    }
   ],
   "execution_count": null
  },
  {
   "cell_type": "code",
   "source": "tennis = tennis.drop('Unnamed: 21', axis = 1)",
   "metadata": {
    "cell_id": "afe75f4a52624d308bfcdc89565e04c1",
    "tags": [],
    "deepnote_to_be_reexecuted": false,
    "source_hash": "29e42d0a",
    "execution_start": 1656078910624,
    "execution_millis": 5,
    "deepnote_cell_type": "code",
    "deepnote_cell_height": 81
   },
   "outputs": [],
   "execution_count": null
  },
  {
   "cell_type": "markdown",
   "source": "The backhand column has 2 values 'One-Handed Backhand' and 'Two-Handed-Backhand' so we can make these numerical dummy values.",
   "metadata": {
    "cell_id": "d97b2b7da6224dac8988f08ab46f3c26",
    "tags": [],
    "is_collapsed": false,
    "formattedRanges": [],
    "deepnote_cell_type": "text-cell-p"
   }
  },
  {
   "cell_type": "code",
   "source": "tennis['backhand_type'] = tennis['backhand_type'].apply(lambda x: 2 if x.strip() == 'Two-Handed Backhand' else 1)",
   "metadata": {
    "cell_id": "05f1980b452f4920869bf10828023493",
    "tags": [],
    "deepnote_to_be_reexecuted": false,
    "source_hash": "5d1da264",
    "execution_start": 1656078912796,
    "execution_millis": 8,
    "deepnote_cell_type": "code",
    "deepnote_cell_height": 81
   },
   "outputs": [],
   "execution_count": null
  },
  {
   "cell_type": "code",
   "source": "tennis",
   "metadata": {
    "cell_id": "2ae18d8fd9b8419bb3b2623947e97bc8",
    "tags": [],
    "deepnote_to_be_reexecuted": false,
    "source_hash": "b5f2c40f",
    "execution_start": 1656078914700,
    "execution_millis": 877,
    "deepnote_cell_type": "code",
    "deepnote_cell_height": 617
   },
   "outputs": [
    {
     "output_type": "execute_result",
     "execution_count": 13,
     "data": {
      "application/vnd.deepnote.dataframe.v3+json": {
       "column_count": 21,
       "row_count": 80,
       "columns": [
        {
         "name": "player",
         "dtype": "object",
         "stats": {
          "unique_count": 80,
          "nan_count": 0,
          "categories": [
           {
            "name": "Daniil Medvedev",
            "count": 1
           },
           {
            "name": "Alexander Zverev",
            "count": 1
           },
           {
            "name": "78 others",
            "count": 78
           }
          ]
         }
        },
        {
         "name": "career_length",
         "dtype": "int64",
         "stats": {
          "unique_count": 20,
          "nan_count": 0,
          "min": "1",
          "max": "21",
          "histogram": [
           {
            "bin_start": 1,
            "bin_end": 3,
            "count": 3
           },
           {
            "bin_start": 3,
            "bin_end": 5,
            "count": 11
           },
           {
            "bin_start": 5,
            "bin_end": 7,
            "count": 10
           },
           {
            "bin_start": 7,
            "bin_end": 9,
            "count": 19
           },
           {
            "bin_start": 9,
            "bin_end": 11,
            "count": 8
           },
           {
            "bin_start": 11,
            "bin_end": 13,
            "count": 8
           },
           {
            "bin_start": 13,
            "bin_end": 15,
            "count": 7
           },
           {
            "bin_start": 15,
            "bin_end": 17,
            "count": 5
           },
           {
            "bin_start": 17,
            "bin_end": 19,
            "count": 6
           },
           {
            "bin_start": 19,
            "bin_end": 21,
            "count": 3
           }
          ]
         }
        },
        {
         "name": "backhand_type",
         "dtype": "int64",
         "stats": {
          "unique_count": 2,
          "nan_count": 0,
          "min": "1",
          "max": "2",
          "histogram": [
           {
            "bin_start": 1,
            "bin_end": 1.1,
            "count": 8
           },
           {
            "bin_start": 1.1,
            "bin_end": 1.2,
            "count": 0
           },
           {
            "bin_start": 1.2,
            "bin_end": 1.3,
            "count": 0
           },
           {
            "bin_start": 1.3,
            "bin_end": 1.4,
            "count": 0
           },
           {
            "bin_start": 1.4,
            "bin_end": 1.5,
            "count": 0
           },
           {
            "bin_start": 1.5,
            "bin_end": 1.6,
            "count": 0
           },
           {
            "bin_start": 1.6,
            "bin_end": 1.7000000000000002,
            "count": 0
           },
           {
            "bin_start": 1.7000000000000002,
            "bin_end": 1.8,
            "count": 0
           },
           {
            "bin_start": 1.8,
            "bin_end": 1.9,
            "count": 0
           },
           {
            "bin_start": 1.9,
            "bin_end": 2,
            "count": 72
           }
          ]
         }
        },
        {
         "name": "aces",
         "dtype": "int64",
         "stats": {
          "unique_count": 78,
          "nan_count": 0,
          "min": "35",
          "max": "13634",
          "histogram": [
           {
            "bin_start": 35,
            "bin_end": 1394.9,
            "count": 49
           },
           {
            "bin_start": 1394.9,
            "bin_end": 2754.8,
            "count": 18
           },
           {
            "bin_start": 2754.8,
            "bin_end": 4114.700000000001,
            "count": 6
           },
           {
            "bin_start": 4114.700000000001,
            "bin_end": 5474.6,
            "count": 2
           },
           {
            "bin_start": 5474.6,
            "bin_end": 6834.5,
            "count": 3
           },
           {
            "bin_start": 6834.5,
            "bin_end": 8194.400000000001,
            "count": 1
           },
           {
            "bin_start": 8194.400000000001,
            "bin_end": 9554.300000000001,
            "count": 0
           },
           {
            "bin_start": 9554.300000000001,
            "bin_end": 10914.2,
            "count": 0
           },
           {
            "bin_start": 10914.2,
            "bin_end": 12274.1,
            "count": 0
           },
           {
            "bin_start": 12274.1,
            "bin_end": 13634,
            "count": 1
           }
          ]
         }
        },
        {
         "name": "double_faults",
         "dtype": "int64",
         "stats": {
          "unique_count": 78,
          "nan_count": 0,
          "min": "23",
          "max": "2917",
          "histogram": [
           {
            "bin_start": 23,
            "bin_end": 312.4,
            "count": 25
           },
           {
            "bin_start": 312.4,
            "bin_end": 601.8,
            "count": 21
           },
           {
            "bin_start": 601.8,
            "bin_end": 891.1999999999999,
            "count": 9
           },
           {
            "bin_start": 891.1999999999999,
            "bin_end": 1180.6,
            "count": 8
           },
           {
            "bin_start": 1180.6,
            "bin_end": 1470,
            "count": 5
           },
           {
            "bin_start": 1470,
            "bin_end": 1759.3999999999999,
            "count": 2
           },
           {
            "bin_start": 1759.3999999999999,
            "bin_end": 2048.7999999999997,
            "count": 1
           },
           {
            "bin_start": 2048.7999999999997,
            "bin_end": 2338.2,
            "count": 4
           },
           {
            "bin_start": 2338.2,
            "bin_end": 2627.6,
            "count": 1
           },
           {
            "bin_start": 2627.6,
            "bin_end": 2917,
            "count": 4
           }
          ]
         }
        },
        {
         "name": "first_serve",
         "dtype": "int64",
         "stats": {
          "unique_count": 16,
          "nan_count": 0,
          "min": "52",
          "max": "73",
          "histogram": [
           {
            "bin_start": 52,
            "bin_end": 54.1,
            "count": 1
           },
           {
            "bin_start": 54.1,
            "bin_end": 56.2,
            "count": 1
           },
           {
            "bin_start": 56.2,
            "bin_end": 58.3,
            "count": 8
           },
           {
            "bin_start": 58.3,
            "bin_end": 60.4,
            "count": 12
           },
           {
            "bin_start": 60.4,
            "bin_end": 62.5,
            "count": 19
           },
           {
            "bin_start": 62.5,
            "bin_end": 64.6,
            "count": 18
           },
           {
            "bin_start": 64.6,
            "bin_end": 66.7,
            "count": 16
           },
           {
            "bin_start": 66.7,
            "bin_end": 68.8,
            "count": 2
           },
           {
            "bin_start": 68.8,
            "bin_end": 70.9,
            "count": 1
           },
           {
            "bin_start": 70.9,
            "bin_end": 73,
            "count": 2
           }
          ]
         }
        },
        {
         "name": "1st_serve_points_won",
         "dtype": "int64",
         "stats": {
          "unique_count": 17,
          "nan_count": 0,
          "min": "62",
          "max": "79",
          "histogram": [
           {
            "bin_start": 62,
            "bin_end": 63.7,
            "count": 1
           },
           {
            "bin_start": 63.7,
            "bin_end": 65.4,
            "count": 5
           },
           {
            "bin_start": 65.4,
            "bin_end": 67.1,
            "count": 5
           },
           {
            "bin_start": 67.1,
            "bin_end": 68.8,
            "count": 9
           },
           {
            "bin_start": 68.8,
            "bin_end": 70.5,
            "count": 22
           },
           {
            "bin_start": 70.5,
            "bin_end": 72.2,
            "count": 11
           },
           {
            "bin_start": 72.2,
            "bin_end": 73.9,
            "count": 3
           },
           {
            "bin_start": 73.9,
            "bin_end": 75.6,
            "count": 14
           },
           {
            "bin_start": 75.6,
            "bin_end": 77.3,
            "count": 6
           },
           {
            "bin_start": 77.3,
            "bin_end": 79,
            "count": 4
           }
          ]
         }
        },
        {
         "name": "2nd_serve_points_won",
         "dtype": "int64",
         "stats": {
          "unique_count": 13,
          "nan_count": 0,
          "min": "45",
          "max": "57",
          "histogram": [
           {
            "bin_start": 45,
            "bin_end": 46.2,
            "count": 4
           },
           {
            "bin_start": 46.2,
            "bin_end": 47.4,
            "count": 1
           },
           {
            "bin_start": 47.4,
            "bin_end": 48.6,
            "count": 3
           },
           {
            "bin_start": 48.6,
            "bin_end": 49.8,
            "count": 13
           },
           {
            "bin_start": 49.8,
            "bin_end": 51,
            "count": 17
           },
           {
            "bin_start": 51,
            "bin_end": 52.2,
            "count": 24
           },
           {
            "bin_start": 52.2,
            "bin_end": 53.4,
            "count": 8
           },
           {
            "bin_start": 53.4,
            "bin_end": 54.6,
            "count": 5
           },
           {
            "bin_start": 54.6,
            "bin_end": 55.8,
            "count": 3
           },
           {
            "bin_start": 55.8,
            "bin_end": 57,
            "count": 2
           }
          ]
         }
        },
        {
         "name": "break_points_faced",
         "dtype": "int64",
         "stats": {
          "unique_count": 78,
          "nan_count": 0,
          "min": "95",
          "max": "6309",
          "histogram": [
           {
            "bin_start": 95,
            "bin_end": 716.4,
            "count": 26
           },
           {
            "bin_start": 716.4,
            "bin_end": 1337.8,
            "count": 19
           },
           {
            "bin_start": 1337.8,
            "bin_end": 1959.1999999999998,
            "count": 14
           },
           {
            "bin_start": 1959.1999999999998,
            "bin_end": 2580.6,
            "count": 3
           },
           {
            "bin_start": 2580.6,
            "bin_end": 3202,
            "count": 5
           },
           {
            "bin_start": 3202,
            "bin_end": 3823.3999999999996,
            "count": 4
           },
           {
            "bin_start": 3823.3999999999996,
            "bin_end": 4444.8,
            "count": 2
           },
           {
            "bin_start": 4444.8,
            "bin_end": 5066.2,
            "count": 2
           },
           {
            "bin_start": 5066.2,
            "bin_end": 5687.599999999999,
            "count": 3
           },
           {
            "bin_start": 5687.599999999999,
            "bin_end": 6309,
            "count": 2
           }
          ]
         }
        },
        {
         "name": "break_points_saved",
         "dtype": "int64",
         "stats": {
          "unique_count": 15,
          "nan_count": 0,
          "min": "56",
          "max": "71",
          "histogram": [
           {
            "bin_start": 56,
            "bin_end": 57.5,
            "count": 7
           },
           {
            "bin_start": 57.5,
            "bin_end": 59,
            "count": 5
           },
           {
            "bin_start": 59,
            "bin_end": 60.5,
            "count": 15
           },
           {
            "bin_start": 60.5,
            "bin_end": 62,
            "count": 13
           },
           {
            "bin_start": 62,
            "bin_end": 63.5,
            "count": 21
           },
           {
            "bin_start": 63.5,
            "bin_end": 65,
            "count": 6
           },
           {
            "bin_start": 65,
            "bin_end": 66.5,
            "count": 7
           },
           {
            "bin_start": 66.5,
            "bin_end": 68,
            "count": 3
           },
           {
            "bin_start": 68,
            "bin_end": 69.5,
            "count": 2
           },
           {
            "bin_start": 69.5,
            "bin_end": 71,
            "count": 1
           }
          ]
         }
        },
        {
         "name": "service_games_played",
         "dtype": "int64",
         "stats": {
          "unique_count": 78,
          "nan_count": 0,
          "min": "122",
          "max": "14780",
          "histogram": [
           {
            "bin_start": 122,
            "bin_end": 1587.8,
            "count": 29
           },
           {
            "bin_start": 1587.8,
            "bin_end": 3053.6,
            "count": 22
           },
           {
            "bin_start": 3053.6,
            "bin_end": 4519.4,
            "count": 11
           },
           {
            "bin_start": 4519.4,
            "bin_end": 5985.2,
            "count": 4
           },
           {
            "bin_start": 5985.2,
            "bin_end": 7451,
            "count": 5
           },
           {
            "bin_start": 7451,
            "bin_end": 8916.8,
            "count": 2
           },
           {
            "bin_start": 8916.8,
            "bin_end": 10382.6,
            "count": 1
           },
           {
            "bin_start": 10382.6,
            "bin_end": 11848.4,
            "count": 4
           },
           {
            "bin_start": 11848.4,
            "bin_end": 13314.199999999999,
            "count": 0
           },
           {
            "bin_start": 13314.199999999999,
            "bin_end": 14780,
            "count": 2
           }
          ]
         }
        },
        {
         "name": "service_games_won",
         "dtype": "int64",
         "stats": {
          "unique_count": 21,
          "nan_count": 0,
          "min": "67",
          "max": "92",
          "histogram": [
           {
            "bin_start": 67,
            "bin_end": 69.5,
            "count": 2
           },
           {
            "bin_start": 69.5,
            "bin_end": 72,
            "count": 1
           },
           {
            "bin_start": 72,
            "bin_end": 74.5,
            "count": 9
           },
           {
            "bin_start": 74.5,
            "bin_end": 77,
            "count": 14
           },
           {
            "bin_start": 77,
            "bin_end": 79.5,
            "count": 21
           },
           {
            "bin_start": 79.5,
            "bin_end": 82,
            "count": 10
           },
           {
            "bin_start": 82,
            "bin_end": 84.5,
            "count": 15
           },
           {
            "bin_start": 84.5,
            "bin_end": 87,
            "count": 3
           },
           {
            "bin_start": 87,
            "bin_end": 89.5,
            "count": 3
           },
           {
            "bin_start": 89.5,
            "bin_end": 92,
            "count": 2
           }
          ]
         }
        },
        {
         "name": "total_service_points_won",
         "dtype": "int64",
         "stats": {
          "unique_count": 14,
          "nan_count": 0,
          "min": "58",
          "max": "72",
          "histogram": [
           {
            "bin_start": 58,
            "bin_end": 59.4,
            "count": 4
           },
           {
            "bin_start": 59.4,
            "bin_end": 60.8,
            "count": 7
           },
           {
            "bin_start": 60.8,
            "bin_end": 62.2,
            "count": 21
           },
           {
            "bin_start": 62.2,
            "bin_end": 63.6,
            "count": 14
           },
           {
            "bin_start": 63.6,
            "bin_end": 65,
            "count": 8
           },
           {
            "bin_start": 65,
            "bin_end": 66.4,
            "count": 18
           },
           {
            "bin_start": 66.4,
            "bin_end": 67.8,
            "count": 2
           },
           {
            "bin_start": 67.8,
            "bin_end": 69.2,
            "count": 4
           },
           {
            "bin_start": 69.2,
            "bin_end": 70.6,
            "count": 1
           },
           {
            "bin_start": 70.6,
            "bin_end": 72,
            "count": 1
           }
          ]
         }
        },
        {
         "name": "1st_serve_return_won",
         "dtype": "int64",
         "stats": {
          "unique_count": 14,
          "nan_count": 0,
          "min": "21",
          "max": "35",
          "histogram": [
           {
            "bin_start": 21,
            "bin_end": 22.4,
            "count": 2
           },
           {
            "bin_start": 22.4,
            "bin_end": 23.8,
            "count": 0
           },
           {
            "bin_start": 23.8,
            "bin_end": 25.2,
            "count": 4
           },
           {
            "bin_start": 25.2,
            "bin_end": 26.6,
            "count": 5
           },
           {
            "bin_start": 26.6,
            "bin_end": 28,
            "count": 5
           },
           {
            "bin_start": 28,
            "bin_end": 29.4,
            "count": 24
           },
           {
            "bin_start": 29.4,
            "bin_end": 30.799999999999997,
            "count": 11
           },
           {
            "bin_start": 30.799999999999997,
            "bin_end": 32.2,
            "count": 22
           },
           {
            "bin_start": 32.2,
            "bin_end": 33.6,
            "count": 2
           },
           {
            "bin_start": 33.6,
            "bin_end": 35,
            "count": 5
           }
          ]
         }
        },
        {
         "name": "2nd_serve_return_won",
         "dtype": "int64",
         "stats": {
          "unique_count": 12,
          "nan_count": 0,
          "min": "42",
          "max": "55",
          "histogram": [
           {
            "bin_start": 42,
            "bin_end": 43.3,
            "count": 2
           },
           {
            "bin_start": 43.3,
            "bin_end": 44.6,
            "count": 0
           },
           {
            "bin_start": 44.6,
            "bin_end": 45.9,
            "count": 2
           },
           {
            "bin_start": 45.9,
            "bin_end": 47.2,
            "count": 9
           },
           {
            "bin_start": 47.2,
            "bin_end": 48.5,
            "count": 7
           },
           {
            "bin_start": 48.5,
            "bin_end": 49.8,
            "count": 10
           },
           {
            "bin_start": 49.8,
            "bin_end": 51.1,
            "count": 33
           },
           {
            "bin_start": 51.1,
            "bin_end": 52.4,
            "count": 7
           },
           {
            "bin_start": 52.4,
            "bin_end": 53.7,
            "count": 4
           },
           {
            "bin_start": 53.7,
            "bin_end": 55,
            "count": 6
           }
          ]
         }
        },
        {
         "name": "total_break_pts",
         "dtype": "int64",
         "stats": {
          "unique_count": 80,
          "nan_count": 0,
          "min": "58",
          "max": "10943",
          "histogram": [
           {
            "bin_start": 58,
            "bin_end": 1146.5,
            "count": 39
           },
           {
            "bin_start": 1146.5,
            "bin_end": 2235,
            "count": 19
           },
           {
            "bin_start": 2235,
            "bin_end": 3323.5,
            "count": 7
           },
           {
            "bin_start": 3323.5,
            "bin_end": 4412,
            "count": 8
           },
           {
            "bin_start": 4412,
            "bin_end": 5500.5,
            "count": 1
           },
           {
            "bin_start": 5500.5,
            "bin_end": 6589,
            "count": 3
           },
           {
            "bin_start": 6589,
            "bin_end": 7677.5,
            "count": 0
           },
           {
            "bin_start": 7677.5,
            "bin_end": 8766,
            "count": 1
           },
           {
            "bin_start": 8766,
            "bin_end": 9854.5,
            "count": 0
           },
           {
            "bin_start": 9854.5,
            "bin_end": 10943,
            "count": 2
           }
          ]
         }
        },
        {
         "name": "break_pts_conv",
         "dtype": "int64",
         "stats": {
          "unique_count": 13,
          "nan_count": 0,
          "min": "30",
          "max": "45",
          "histogram": [
           {
            "bin_start": 30,
            "bin_end": 31.5,
            "count": 2
           },
           {
            "bin_start": 31.5,
            "bin_end": 33,
            "count": 0
           },
           {
            "bin_start": 33,
            "bin_end": 34.5,
            "count": 1
           },
           {
            "bin_start": 34.5,
            "bin_end": 36,
            "count": 0
           },
           {
            "bin_start": 36,
            "bin_end": 37.5,
            "count": 13
           },
           {
            "bin_start": 37.5,
            "bin_end": 39,
            "count": 9
           },
           {
            "bin_start": 39,
            "bin_end": 40.5,
            "count": 25
           },
           {
            "bin_start": 40.5,
            "bin_end": 42,
            "count": 16
           },
           {
            "bin_start": 42,
            "bin_end": 43.5,
            "count": 10
           },
           {
            "bin_start": 43.5,
            "bin_end": 45,
            "count": 4
           }
          ]
         }
        },
        {
         "name": "return_games_played",
         "dtype": "int64",
         "stats": {
          "unique_count": 80,
          "nan_count": 0,
          "min": "121",
          "max": "14633",
          "histogram": [
           {
            "bin_start": 121,
            "bin_end": 1572.2,
            "count": 29
           },
           {
            "bin_start": 1572.2,
            "bin_end": 3023.4,
            "count": 22
           },
           {
            "bin_start": 3023.4,
            "bin_end": 4474.6,
            "count": 11
           },
           {
            "bin_start": 4474.6,
            "bin_end": 5925.8,
            "count": 3
           },
           {
            "bin_start": 5925.8,
            "bin_end": 7377,
            "count": 6
           },
           {
            "bin_start": 7377,
            "bin_end": 8828.2,
            "count": 2
           },
           {
            "bin_start": 8828.2,
            "bin_end": 10279.4,
            "count": 1
           },
           {
            "bin_start": 10279.4,
            "bin_end": 11730.6,
            "count": 4
           },
           {
            "bin_start": 11730.6,
            "bin_end": 13181.800000000001,
            "count": 0
           },
           {
            "bin_start": 13181.800000000001,
            "bin_end": 14633,
            "count": 2
           }
          ]
         }
        },
        {
         "name": "return_games_won",
         "dtype": "int64",
         "stats": {
          "unique_count": 20,
          "nan_count": 0,
          "min": "10",
          "max": "34",
          "histogram": [
           {
            "bin_start": 10,
            "bin_end": 12.4,
            "count": 2
           },
           {
            "bin_start": 12.4,
            "bin_end": 14.8,
            "count": 1
           },
           {
            "bin_start": 14.8,
            "bin_end": 17.2,
            "count": 6
           },
           {
            "bin_start": 17.2,
            "bin_end": 19.6,
            "count": 13
           },
           {
            "bin_start": 19.6,
            "bin_end": 22,
            "count": 10
           },
           {
            "bin_start": 22,
            "bin_end": 24.4,
            "count": 21
           },
           {
            "bin_start": 24.4,
            "bin_end": 26.8,
            "count": 10
           },
           {
            "bin_start": 26.8,
            "bin_end": 29.2,
            "count": 12
           },
           {
            "bin_start": 29.2,
            "bin_end": 31.599999999999998,
            "count": 1
           },
           {
            "bin_start": 31.599999999999998,
            "bin_end": 34,
            "count": 4
           }
          ]
         }
        },
        {
         "name": "return_points_won",
         "dtype": "int64",
         "stats": {
          "unique_count": 13,
          "nan_count": 0,
          "min": "28",
          "max": "42",
          "histogram": [
           {
            "bin_start": 28,
            "bin_end": 29.4,
            "count": 1
           },
           {
            "bin_start": 29.4,
            "bin_end": 30.8,
            "count": 1
           },
           {
            "bin_start": 30.8,
            "bin_end": 32.2,
            "count": 1
           },
           {
            "bin_start": 32.2,
            "bin_end": 33.6,
            "count": 3
           },
           {
            "bin_start": 33.6,
            "bin_end": 35,
            "count": 3
           },
           {
            "bin_start": 35,
            "bin_end": 36.4,
            "count": 17
           },
           {
            "bin_start": 36.4,
            "bin_end": 37.8,
            "count": 14
           },
           {
            "bin_start": 37.8,
            "bin_end": 39.2,
            "count": 28
           },
           {
            "bin_start": 39.2,
            "bin_end": 40.6,
            "count": 6
           },
           {
            "bin_start": 40.6,
            "bin_end": 42,
            "count": 6
           }
          ]
         }
        },
        {
         "name": "total_pts_won",
         "dtype": "int64",
         "stats": {
          "unique_count": 9,
          "nan_count": 0,
          "min": "47",
          "max": "55",
          "histogram": [
           {
            "bin_start": 47,
            "bin_end": 47.8,
            "count": 1
           },
           {
            "bin_start": 47.8,
            "bin_end": 48.6,
            "count": 4
           },
           {
            "bin_start": 48.6,
            "bin_end": 49.4,
            "count": 16
           },
           {
            "bin_start": 49.4,
            "bin_end": 50.2,
            "count": 26
           },
           {
            "bin_start": 50.2,
            "bin_end": 51,
            "count": 0
           },
           {
            "bin_start": 51,
            "bin_end": 51.8,
            "count": 19
           },
           {
            "bin_start": 51.8,
            "bin_end": 52.6,
            "count": 10
           },
           {
            "bin_start": 52.6,
            "bin_end": 53.4,
            "count": 2
           },
           {
            "bin_start": 53.4,
            "bin_end": 54.2,
            "count": 1
           },
           {
            "bin_start": 54.2,
            "bin_end": 55,
            "count": 1
           }
          ]
         }
        },
        {
         "name": "_deepnote_index_column",
         "dtype": "int64"
        }
       ],
       "rows": [
        {
         "player": "Daniil Medvedev",
         "career_length": 8,
         "backhand_type": 2,
         "aces": 2845,
         "double_faults": 1187,
         "first_serve": 60,
         "1st_serve_points_won": 75,
         "2nd_serve_points_won": 52,
         "break_points_faced": 1897,
         "break_points_saved": 63,
         "service_games_played": 4230,
         "service_games_won": 83,
         "total_service_points_won": 66,
         "1st_serve_return_won": 31,
         "2nd_serve_return_won": 54,
         "total_break_pts": 2664,
         "break_pts_conv": 42,
         "return_games_played": 4238,
         "return_games_won": 26,
         "return_points_won": 39,
         "total_pts_won": 52,
         "_deepnote_index_column": 0
        },
        {
         "player": "Alexander Zverev",
         "career_length": 9,
         "backhand_type": 2,
         "aces": 3974,
         "double_faults": 1973,
         "first_serve": 65,
         "1st_serve_points_won": 74,
         "2nd_serve_points_won": 50,
         "break_points_faced": 2709,
         "break_points_saved": 61,
         "service_games_played": 6037,
         "service_games_won": 82,
         "total_service_points_won": 66,
         "1st_serve_return_won": 31,
         "2nd_serve_return_won": 51,
         "total_break_pts": 3631,
         "break_pts_conv": 42,
         "return_games_played": 6045,
         "return_games_won": 25,
         "return_points_won": 38,
         "total_pts_won": 52,
         "_deepnote_index_column": 1
        },
        {
         "player": "Novak Djokovic",
         "career_length": 19,
         "backhand_type": 2,
         "aces": 6440,
         "double_faults": 2672,
         "first_serve": 65,
         "1st_serve_points_won": 74,
         "2nd_serve_points_won": 55,
         "break_points_faced": 6017,
         "break_points_saved": 66,
         "service_games_played": 14578,
         "service_games_won": 86,
         "total_service_points_won": 67,
         "1st_serve_return_won": 34,
         "2nd_serve_return_won": 55,
         "total_break_pts": 10278,
         "break_pts_conv": 44,
         "return_games_played": 14179,
         "return_games_won": 32,
         "return_points_won": 42,
         "total_pts_won": 54,
         "_deepnote_index_column": 2
        },
        {
         "player": "Rafael Nadal",
         "career_length": 21,
         "backhand_type": 2,
         "aces": 3856,
         "double_faults": 2066,
         "first_serve": 68,
         "1st_serve_points_won": 72,
         "2nd_serve_points_won": 57,
         "break_points_faced": 6309,
         "break_points_saved": 67,
         "service_games_played": 14780,
         "service_games_won": 86,
         "total_service_points_won": 67,
         "1st_serve_return_won": 34,
         "2nd_serve_return_won": 55,
         "total_break_pts": 10943,
         "break_pts_conv": 45,
         "return_games_played": 14633,
         "return_games_won": 34,
         "return_points_won": 42,
         "total_pts_won": 55,
         "_deepnote_index_column": 3
        },
        {
         "player": "Casper Ruud",
         "career_length": 7,
         "backhand_type": 2,
         "aces": 986,
         "double_faults": 461,
         "first_serve": 65,
         "1st_serve_points_won": 72,
         "2nd_serve_points_won": 54,
         "break_points_faced": 1137,
         "break_points_saved": 63,
         "service_games_played": 2529,
         "service_games_won": 83,
         "total_service_points_won": 66,
         "1st_serve_return_won": 29,
         "2nd_serve_return_won": 51,
         "total_break_pts": 1424,
         "break_pts_conv": 41,
         "return_games_played": 2466,
         "return_games_won": 24,
         "return_points_won": 37,
         "total_pts_won": 52,
         "_deepnote_index_column": 4
        },
        {
         "player": "Stefanos Tsitsipas",
         "career_length": 6,
         "backhand_type": 1,
         "aces": 2329,
         "double_faults": 735,
         "first_serve": 62,
         "1st_serve_points_won": 76,
         "2nd_serve_points_won": 55,
         "break_points_faced": 1679,
         "break_points_saved": 65,
         "service_games_played": 4250,
         "service_games_won": 86,
         "total_service_points_won": 68,
         "1st_serve_return_won": 29,
         "2nd_serve_return_won": 49,
         "total_break_pts": 2205,
         "break_pts_conv": 40,
         "return_games_played": 4154,
         "return_games_won": 21,
         "return_points_won": 36,
         "total_pts_won": 52,
         "_deepnote_index_column": 5
        },
        {
         "player": "Carlos Alcaraz",
         "career_length": 4,
         "backhand_type": 2,
         "aces": 267,
         "double_faults": 196,
         "first_serve": 64,
         "1st_serve_points_won": 70,
         "2nd_serve_points_won": 54,
         "break_points_faced": 569,
         "break_points_saved": 62,
         "service_games_played": 1080,
         "service_games_won": 80,
         "total_service_points_won": 64,
         "1st_serve_return_won": 34,
         "2nd_serve_return_won": 53,
         "total_break_pts": 798,
         "break_pts_conv": 43,
         "return_games_played": 1085,
         "return_games_won": 32,
         "return_points_won": 41,
         "total_pts_won": 53,
         "_deepnote_index_column": 6
        },
        {
         "player": "Andrey Rublev",
         "career_length": 8,
         "backhand_type": 2,
         "aces": 2072,
         "double_faults": 890,
         "first_serve": 60,
         "1st_serve_points_won": 74,
         "2nd_serve_points_won": 50,
         "break_points_faced": 1931,
         "break_points_saved": 62,
         "service_games_played": 3900,
         "service_games_won": 81,
         "total_service_points_won": 65,
         "1st_serve_return_won": 30,
         "2nd_serve_return_won": 53,
         "total_break_pts": 2412,
         "break_pts_conv": 40,
         "return_games_played": 3914,
         "return_games_won": 25,
         "return_points_won": 39,
         "total_pts_won": 52,
         "_deepnote_index_column": 7
        },
        {
         "player": "Felix Auger-Aliassime",
         "career_length": 5,
         "backhand_type": 2,
         "aces": 1945,
         "double_faults": 919,
         "first_serve": 64,
         "1st_serve_points_won": 75,
         "2nd_serve_points_won": 50,
         "break_points_faced": 1317,
         "break_points_saved": 63,
         "service_games_played": 2719,
         "service_games_won": 82,
         "total_service_points_won": 66,
         "1st_serve_return_won": 30,
         "2nd_serve_return_won": 48,
         "total_break_pts": 1466,
         "break_pts_conv": 38,
         "return_games_played": 2678,
         "return_games_won": 21,
         "return_points_won": 37,
         "total_pts_won": 51,
         "_deepnote_index_column": 8
        },
        {
         "player": "Hubert Hurkacz",
         "career_length": 7,
         "backhand_type": 2,
         "aces": 1715,
         "double_faults": 447,
         "first_serve": 63,
         "1st_serve_points_won": 75,
         "2nd_serve_points_won": 52,
         "break_points_faced": 1087,
         "break_points_saved": 64,
         "service_games_played": 2422,
         "service_games_won": 84,
         "total_service_points_won": 66,
         "1st_serve_return_won": 28,
         "2nd_serve_return_won": 48,
         "total_break_pts": 1228,
         "break_pts_conv": 38,
         "return_games_played": 2386,
         "return_games_won": 19,
         "return_points_won": 36,
         "total_pts_won": 51,
         "_deepnote_index_column": 9
        }
       ]
      },
      "text/plain": "                     player  career_length  backhand_type  aces  \\\n0           Daniil Medvedev              8              2  2845   \n1          Alexander Zverev              9              2  3974   \n2            Novak Djokovic             19              2  6440   \n3              Rafael Nadal             21              2  3856   \n4               Casper Ruud              7              2   986   \n..                      ...            ...            ...   ...   \n75             Benoit Paire             15              2  4455   \n76          James Duckworth             12              2  1096   \n77              Denis Kudla             12              2  1078   \n78  Tomas Martin Etcheverry              5              2    35   \n79         Alejandro Tabilo              7              2   143   \n\n    double_faults  first_serve  1st_serve_points_won  2nd_serve_points_won  \\\n0            1187           60                    75                    52   \n1            1973           65                    74                    50   \n2            2672           65                    74                    55   \n3            2066           68                    72                    57   \n4             461           65                    72                    54   \n..            ...          ...                   ...                   ...   \n75           2722           52                    74                    45   \n76            398           56                    72                    50   \n77            637           58                    70                    51   \n78             23           71                    64                    45   \n79             90           64                    68                    48   \n\n    break_points_faced  break_points_saved  ...  service_games_won  \\\n0                 1897                  63  ...                 83   \n1                 2709                  61  ...                 82   \n2                 6017                  66  ...                 86   \n3                 6309                  67  ...                 86   \n4                 1137                  63  ...                 83   \n..                 ...                 ...  ...                ...   \n75                4219                  60  ...                 74   \n76                1028                  64  ...                 78   \n77                1390                  58  ...                 76   \n78                  98                  61  ...                 69   \n79                 220                  56  ...                 72   \n\n    total_service_points_won  1st_serve_return_won  2nd_serve_return_won  \\\n0                         66                    31                    54   \n1                         66                    31                    51   \n2                         67                    34                    55   \n3                         67                    34                    55   \n4                         66                    29                    51   \n..                       ...                   ...                   ...   \n75                        60                    31                    49   \n76                        63                    25                    47   \n77                        62                    26                    49   \n78                        58                    27                    51   \n79                        60                    32                    52   \n\n    total_break_pts  break_pts_conv  return_games_played  return_games_won  \\\n0              2664              42                 4238                26   \n1              3631              42                 6045                25   \n2             10278              44                14179                32   \n3             10943              45                14633                34   \n4              1424              41                 2466                24   \n..              ...             ...                  ...               ...   \n75             3853              40                 6548                23   \n76              736              37                 1719                16   \n77             1109              40                 2392                19   \n78               58              34                  121                17   \n79              202              44                  331                27   \n\n    return_points_won  total_pts_won  \n0                  39             52  \n1                  38             52  \n2                  42             54  \n3                  42             55  \n4                  37             52  \n..                ...            ...  \n75                 38             49  \n76                 33             48  \n77                 35             48  \n78                 36             47  \n79                 39             50  \n\n[80 rows x 21 columns]",
      "text/html": "<div>\n<style scoped>\n    .dataframe tbody tr th:only-of-type {\n        vertical-align: middle;\n    }\n\n    .dataframe tbody tr th {\n        vertical-align: top;\n    }\n\n    .dataframe thead th {\n        text-align: right;\n    }\n</style>\n<table border=\"1\" class=\"dataframe\">\n  <thead>\n    <tr style=\"text-align: right;\">\n      <th></th>\n      <th>player</th>\n      <th>career_length</th>\n      <th>backhand_type</th>\n      <th>aces</th>\n      <th>double_faults</th>\n      <th>first_serve</th>\n      <th>1st_serve_points_won</th>\n      <th>2nd_serve_points_won</th>\n      <th>break_points_faced</th>\n      <th>break_points_saved</th>\n      <th>...</th>\n      <th>service_games_won</th>\n      <th>total_service_points_won</th>\n      <th>1st_serve_return_won</th>\n      <th>2nd_serve_return_won</th>\n      <th>total_break_pts</th>\n      <th>break_pts_conv</th>\n      <th>return_games_played</th>\n      <th>return_games_won</th>\n      <th>return_points_won</th>\n      <th>total_pts_won</th>\n    </tr>\n  </thead>\n  <tbody>\n    <tr>\n      <th>0</th>\n      <td>Daniil Medvedev</td>\n      <td>8</td>\n      <td>2</td>\n      <td>2845</td>\n      <td>1187</td>\n      <td>60</td>\n      <td>75</td>\n      <td>52</td>\n      <td>1897</td>\n      <td>63</td>\n      <td>...</td>\n      <td>83</td>\n      <td>66</td>\n      <td>31</td>\n      <td>54</td>\n      <td>2664</td>\n      <td>42</td>\n      <td>4238</td>\n      <td>26</td>\n      <td>39</td>\n      <td>52</td>\n    </tr>\n    <tr>\n      <th>1</th>\n      <td>Alexander Zverev</td>\n      <td>9</td>\n      <td>2</td>\n      <td>3974</td>\n      <td>1973</td>\n      <td>65</td>\n      <td>74</td>\n      <td>50</td>\n      <td>2709</td>\n      <td>61</td>\n      <td>...</td>\n      <td>82</td>\n      <td>66</td>\n      <td>31</td>\n      <td>51</td>\n      <td>3631</td>\n      <td>42</td>\n      <td>6045</td>\n      <td>25</td>\n      <td>38</td>\n      <td>52</td>\n    </tr>\n    <tr>\n      <th>2</th>\n      <td>Novak Djokovic</td>\n      <td>19</td>\n      <td>2</td>\n      <td>6440</td>\n      <td>2672</td>\n      <td>65</td>\n      <td>74</td>\n      <td>55</td>\n      <td>6017</td>\n      <td>66</td>\n      <td>...</td>\n      <td>86</td>\n      <td>67</td>\n      <td>34</td>\n      <td>55</td>\n      <td>10278</td>\n      <td>44</td>\n      <td>14179</td>\n      <td>32</td>\n      <td>42</td>\n      <td>54</td>\n    </tr>\n    <tr>\n      <th>3</th>\n      <td>Rafael Nadal</td>\n      <td>21</td>\n      <td>2</td>\n      <td>3856</td>\n      <td>2066</td>\n      <td>68</td>\n      <td>72</td>\n      <td>57</td>\n      <td>6309</td>\n      <td>67</td>\n      <td>...</td>\n      <td>86</td>\n      <td>67</td>\n      <td>34</td>\n      <td>55</td>\n      <td>10943</td>\n      <td>45</td>\n      <td>14633</td>\n      <td>34</td>\n      <td>42</td>\n      <td>55</td>\n    </tr>\n    <tr>\n      <th>4</th>\n      <td>Casper Ruud</td>\n      <td>7</td>\n      <td>2</td>\n      <td>986</td>\n      <td>461</td>\n      <td>65</td>\n      <td>72</td>\n      <td>54</td>\n      <td>1137</td>\n      <td>63</td>\n      <td>...</td>\n      <td>83</td>\n      <td>66</td>\n      <td>29</td>\n      <td>51</td>\n      <td>1424</td>\n      <td>41</td>\n      <td>2466</td>\n      <td>24</td>\n      <td>37</td>\n      <td>52</td>\n    </tr>\n    <tr>\n      <th>...</th>\n      <td>...</td>\n      <td>...</td>\n      <td>...</td>\n      <td>...</td>\n      <td>...</td>\n      <td>...</td>\n      <td>...</td>\n      <td>...</td>\n      <td>...</td>\n      <td>...</td>\n      <td>...</td>\n      <td>...</td>\n      <td>...</td>\n      <td>...</td>\n      <td>...</td>\n      <td>...</td>\n      <td>...</td>\n      <td>...</td>\n      <td>...</td>\n      <td>...</td>\n      <td>...</td>\n    </tr>\n    <tr>\n      <th>75</th>\n      <td>Benoit Paire</td>\n      <td>15</td>\n      <td>2</td>\n      <td>4455</td>\n      <td>2722</td>\n      <td>52</td>\n      <td>74</td>\n      <td>45</td>\n      <td>4219</td>\n      <td>60</td>\n      <td>...</td>\n      <td>74</td>\n      <td>60</td>\n      <td>31</td>\n      <td>49</td>\n      <td>3853</td>\n      <td>40</td>\n      <td>6548</td>\n      <td>23</td>\n      <td>38</td>\n      <td>49</td>\n    </tr>\n    <tr>\n      <th>76</th>\n      <td>James Duckworth</td>\n      <td>12</td>\n      <td>2</td>\n      <td>1096</td>\n      <td>398</td>\n      <td>56</td>\n      <td>72</td>\n      <td>50</td>\n      <td>1028</td>\n      <td>64</td>\n      <td>...</td>\n      <td>78</td>\n      <td>63</td>\n      <td>25</td>\n      <td>47</td>\n      <td>736</td>\n      <td>37</td>\n      <td>1719</td>\n      <td>16</td>\n      <td>33</td>\n      <td>48</td>\n    </tr>\n    <tr>\n      <th>77</th>\n      <td>Denis Kudla</td>\n      <td>12</td>\n      <td>2</td>\n      <td>1078</td>\n      <td>637</td>\n      <td>58</td>\n      <td>70</td>\n      <td>51</td>\n      <td>1390</td>\n      <td>58</td>\n      <td>...</td>\n      <td>76</td>\n      <td>62</td>\n      <td>26</td>\n      <td>49</td>\n      <td>1109</td>\n      <td>40</td>\n      <td>2392</td>\n      <td>19</td>\n      <td>35</td>\n      <td>48</td>\n    </tr>\n    <tr>\n      <th>78</th>\n      <td>Tomas Martin Etcheverry</td>\n      <td>5</td>\n      <td>2</td>\n      <td>35</td>\n      <td>23</td>\n      <td>71</td>\n      <td>64</td>\n      <td>45</td>\n      <td>98</td>\n      <td>61</td>\n      <td>...</td>\n      <td>69</td>\n      <td>58</td>\n      <td>27</td>\n      <td>51</td>\n      <td>58</td>\n      <td>34</td>\n      <td>121</td>\n      <td>17</td>\n      <td>36</td>\n      <td>47</td>\n    </tr>\n    <tr>\n      <th>79</th>\n      <td>Alejandro Tabilo</td>\n      <td>7</td>\n      <td>2</td>\n      <td>143</td>\n      <td>90</td>\n      <td>64</td>\n      <td>68</td>\n      <td>48</td>\n      <td>220</td>\n      <td>56</td>\n      <td>...</td>\n      <td>72</td>\n      <td>60</td>\n      <td>32</td>\n      <td>52</td>\n      <td>202</td>\n      <td>44</td>\n      <td>331</td>\n      <td>27</td>\n      <td>39</td>\n      <td>50</td>\n    </tr>\n  </tbody>\n</table>\n<p>80 rows × 21 columns</p>\n</div>"
     },
     "metadata": {}
    }
   ],
   "execution_count": null
  },
  {
   "cell_type": "markdown",
   "source": "Notice that some columns are percentages and some are amounts. Percentages are a good metric to use to compare players, however these are career stats, so when comparing for example the amount of double faults a player has, we have to consider how many years they have been playing.",
   "metadata": {
    "cell_id": "a97c03660c7844b0bac3e41d06ae3903",
    "tags": [],
    "is_collapsed": false,
    "formattedRanges": [],
    "deepnote_cell_type": "text-cell-p"
   }
  },
  {
   "cell_type": "markdown",
   "source": "We can deal with this by averaging that number over the years a player has been active. This may not be ideal because players deal with injury, time-off, etc., but it is definitely an improvement",
   "metadata": {
    "cell_id": "d71fddb7933f45e583b636593eb405a1",
    "tags": [],
    "is_collapsed": false,
    "formattedRanges": [],
    "deepnote_cell_type": "text-cell-p"
   }
  },
  {
   "cell_type": "code",
   "source": "amnt_columns = ['aces', 'double_faults','break_points_faced', 'service_games_played',\n                'total_break_pts', 'return_games_played']",
   "metadata": {
    "cell_id": "e5d9a320787f41668fc5f3e715739d8b",
    "tags": [],
    "deepnote_to_be_reexecuted": false,
    "source_hash": "a184a513",
    "execution_start": 1656079136805,
    "execution_millis": 2,
    "deepnote_cell_type": "code",
    "deepnote_cell_height": 99
   },
   "outputs": [],
   "execution_count": null
  },
  {
   "cell_type": "code",
   "source": "for col in amnt_columns:\n    tennis[f\"avg_{col}_yr\"] = tennis.apply(lambda x: x[col]/float(x['career_length']), axis = 1)",
   "metadata": {
    "cell_id": "eb316d3422cd4c73aabdbcaeaa75a8f3",
    "tags": [],
    "deepnote_to_be_reexecuted": false,
    "source_hash": "fe896281",
    "execution_start": 1656079138966,
    "execution_millis": 42,
    "deepnote_cell_type": "code",
    "deepnote_cell_height": 99
   },
   "outputs": [],
   "execution_count": null
  },
  {
   "cell_type": "code",
   "source": "tennis",
   "metadata": {
    "cell_id": "7ddd2fdfa897404c8f7bac4922d94204",
    "tags": [],
    "deepnote_to_be_reexecuted": false,
    "source_hash": "b5f2c40f",
    "execution_start": 1656079144009,
    "execution_millis": 473,
    "deepnote_cell_type": "code",
    "deepnote_cell_height": 617
   },
   "outputs": [
    {
     "output_type": "execute_result",
     "execution_count": 16,
     "data": {
      "application/vnd.deepnote.dataframe.v3+json": {
       "column_count": 27,
       "row_count": 80,
       "columns": [
        {
         "name": "player",
         "dtype": "object",
         "stats": {
          "unique_count": 80,
          "nan_count": 0,
          "categories": [
           {
            "name": "Daniil Medvedev",
            "count": 1
           },
           {
            "name": "Alexander Zverev",
            "count": 1
           },
           {
            "name": "78 others",
            "count": 78
           }
          ]
         }
        },
        {
         "name": "career_length",
         "dtype": "int64",
         "stats": {
          "unique_count": 20,
          "nan_count": 0,
          "min": "1",
          "max": "21",
          "histogram": [
           {
            "bin_start": 1,
            "bin_end": 3,
            "count": 3
           },
           {
            "bin_start": 3,
            "bin_end": 5,
            "count": 11
           },
           {
            "bin_start": 5,
            "bin_end": 7,
            "count": 10
           },
           {
            "bin_start": 7,
            "bin_end": 9,
            "count": 19
           },
           {
            "bin_start": 9,
            "bin_end": 11,
            "count": 8
           },
           {
            "bin_start": 11,
            "bin_end": 13,
            "count": 8
           },
           {
            "bin_start": 13,
            "bin_end": 15,
            "count": 7
           },
           {
            "bin_start": 15,
            "bin_end": 17,
            "count": 5
           },
           {
            "bin_start": 17,
            "bin_end": 19,
            "count": 6
           },
           {
            "bin_start": 19,
            "bin_end": 21,
            "count": 3
           }
          ]
         }
        },
        {
         "name": "backhand_type",
         "dtype": "int64",
         "stats": {
          "unique_count": 2,
          "nan_count": 0,
          "min": "1",
          "max": "2",
          "histogram": [
           {
            "bin_start": 1,
            "bin_end": 1.1,
            "count": 8
           },
           {
            "bin_start": 1.1,
            "bin_end": 1.2,
            "count": 0
           },
           {
            "bin_start": 1.2,
            "bin_end": 1.3,
            "count": 0
           },
           {
            "bin_start": 1.3,
            "bin_end": 1.4,
            "count": 0
           },
           {
            "bin_start": 1.4,
            "bin_end": 1.5,
            "count": 0
           },
           {
            "bin_start": 1.5,
            "bin_end": 1.6,
            "count": 0
           },
           {
            "bin_start": 1.6,
            "bin_end": 1.7000000000000002,
            "count": 0
           },
           {
            "bin_start": 1.7000000000000002,
            "bin_end": 1.8,
            "count": 0
           },
           {
            "bin_start": 1.8,
            "bin_end": 1.9,
            "count": 0
           },
           {
            "bin_start": 1.9,
            "bin_end": 2,
            "count": 72
           }
          ]
         }
        },
        {
         "name": "aces",
         "dtype": "int64",
         "stats": {
          "unique_count": 78,
          "nan_count": 0,
          "min": "35",
          "max": "13634",
          "histogram": [
           {
            "bin_start": 35,
            "bin_end": 1394.9,
            "count": 49
           },
           {
            "bin_start": 1394.9,
            "bin_end": 2754.8,
            "count": 18
           },
           {
            "bin_start": 2754.8,
            "bin_end": 4114.700000000001,
            "count": 6
           },
           {
            "bin_start": 4114.700000000001,
            "bin_end": 5474.6,
            "count": 2
           },
           {
            "bin_start": 5474.6,
            "bin_end": 6834.5,
            "count": 3
           },
           {
            "bin_start": 6834.5,
            "bin_end": 8194.400000000001,
            "count": 1
           },
           {
            "bin_start": 8194.400000000001,
            "bin_end": 9554.300000000001,
            "count": 0
           },
           {
            "bin_start": 9554.300000000001,
            "bin_end": 10914.2,
            "count": 0
           },
           {
            "bin_start": 10914.2,
            "bin_end": 12274.1,
            "count": 0
           },
           {
            "bin_start": 12274.1,
            "bin_end": 13634,
            "count": 1
           }
          ]
         }
        },
        {
         "name": "double_faults",
         "dtype": "int64",
         "stats": {
          "unique_count": 78,
          "nan_count": 0,
          "min": "23",
          "max": "2917",
          "histogram": [
           {
            "bin_start": 23,
            "bin_end": 312.4,
            "count": 25
           },
           {
            "bin_start": 312.4,
            "bin_end": 601.8,
            "count": 21
           },
           {
            "bin_start": 601.8,
            "bin_end": 891.1999999999999,
            "count": 9
           },
           {
            "bin_start": 891.1999999999999,
            "bin_end": 1180.6,
            "count": 8
           },
           {
            "bin_start": 1180.6,
            "bin_end": 1470,
            "count": 5
           },
           {
            "bin_start": 1470,
            "bin_end": 1759.3999999999999,
            "count": 2
           },
           {
            "bin_start": 1759.3999999999999,
            "bin_end": 2048.7999999999997,
            "count": 1
           },
           {
            "bin_start": 2048.7999999999997,
            "bin_end": 2338.2,
            "count": 4
           },
           {
            "bin_start": 2338.2,
            "bin_end": 2627.6,
            "count": 1
           },
           {
            "bin_start": 2627.6,
            "bin_end": 2917,
            "count": 4
           }
          ]
         }
        },
        {
         "name": "first_serve",
         "dtype": "int64",
         "stats": {
          "unique_count": 16,
          "nan_count": 0,
          "min": "52",
          "max": "73",
          "histogram": [
           {
            "bin_start": 52,
            "bin_end": 54.1,
            "count": 1
           },
           {
            "bin_start": 54.1,
            "bin_end": 56.2,
            "count": 1
           },
           {
            "bin_start": 56.2,
            "bin_end": 58.3,
            "count": 8
           },
           {
            "bin_start": 58.3,
            "bin_end": 60.4,
            "count": 12
           },
           {
            "bin_start": 60.4,
            "bin_end": 62.5,
            "count": 19
           },
           {
            "bin_start": 62.5,
            "bin_end": 64.6,
            "count": 18
           },
           {
            "bin_start": 64.6,
            "bin_end": 66.7,
            "count": 16
           },
           {
            "bin_start": 66.7,
            "bin_end": 68.8,
            "count": 2
           },
           {
            "bin_start": 68.8,
            "bin_end": 70.9,
            "count": 1
           },
           {
            "bin_start": 70.9,
            "bin_end": 73,
            "count": 2
           }
          ]
         }
        },
        {
         "name": "1st_serve_points_won",
         "dtype": "int64",
         "stats": {
          "unique_count": 17,
          "nan_count": 0,
          "min": "62",
          "max": "79",
          "histogram": [
           {
            "bin_start": 62,
            "bin_end": 63.7,
            "count": 1
           },
           {
            "bin_start": 63.7,
            "bin_end": 65.4,
            "count": 5
           },
           {
            "bin_start": 65.4,
            "bin_end": 67.1,
            "count": 5
           },
           {
            "bin_start": 67.1,
            "bin_end": 68.8,
            "count": 9
           },
           {
            "bin_start": 68.8,
            "bin_end": 70.5,
            "count": 22
           },
           {
            "bin_start": 70.5,
            "bin_end": 72.2,
            "count": 11
           },
           {
            "bin_start": 72.2,
            "bin_end": 73.9,
            "count": 3
           },
           {
            "bin_start": 73.9,
            "bin_end": 75.6,
            "count": 14
           },
           {
            "bin_start": 75.6,
            "bin_end": 77.3,
            "count": 6
           },
           {
            "bin_start": 77.3,
            "bin_end": 79,
            "count": 4
           }
          ]
         }
        },
        {
         "name": "2nd_serve_points_won",
         "dtype": "int64",
         "stats": {
          "unique_count": 13,
          "nan_count": 0,
          "min": "45",
          "max": "57",
          "histogram": [
           {
            "bin_start": 45,
            "bin_end": 46.2,
            "count": 4
           },
           {
            "bin_start": 46.2,
            "bin_end": 47.4,
            "count": 1
           },
           {
            "bin_start": 47.4,
            "bin_end": 48.6,
            "count": 3
           },
           {
            "bin_start": 48.6,
            "bin_end": 49.8,
            "count": 13
           },
           {
            "bin_start": 49.8,
            "bin_end": 51,
            "count": 17
           },
           {
            "bin_start": 51,
            "bin_end": 52.2,
            "count": 24
           },
           {
            "bin_start": 52.2,
            "bin_end": 53.4,
            "count": 8
           },
           {
            "bin_start": 53.4,
            "bin_end": 54.6,
            "count": 5
           },
           {
            "bin_start": 54.6,
            "bin_end": 55.8,
            "count": 3
           },
           {
            "bin_start": 55.8,
            "bin_end": 57,
            "count": 2
           }
          ]
         }
        },
        {
         "name": "break_points_faced",
         "dtype": "int64",
         "stats": {
          "unique_count": 78,
          "nan_count": 0,
          "min": "95",
          "max": "6309",
          "histogram": [
           {
            "bin_start": 95,
            "bin_end": 716.4,
            "count": 26
           },
           {
            "bin_start": 716.4,
            "bin_end": 1337.8,
            "count": 19
           },
           {
            "bin_start": 1337.8,
            "bin_end": 1959.1999999999998,
            "count": 14
           },
           {
            "bin_start": 1959.1999999999998,
            "bin_end": 2580.6,
            "count": 3
           },
           {
            "bin_start": 2580.6,
            "bin_end": 3202,
            "count": 5
           },
           {
            "bin_start": 3202,
            "bin_end": 3823.3999999999996,
            "count": 4
           },
           {
            "bin_start": 3823.3999999999996,
            "bin_end": 4444.8,
            "count": 2
           },
           {
            "bin_start": 4444.8,
            "bin_end": 5066.2,
            "count": 2
           },
           {
            "bin_start": 5066.2,
            "bin_end": 5687.599999999999,
            "count": 3
           },
           {
            "bin_start": 5687.599999999999,
            "bin_end": 6309,
            "count": 2
           }
          ]
         }
        },
        {
         "name": "break_points_saved",
         "dtype": "int64",
         "stats": {
          "unique_count": 15,
          "nan_count": 0,
          "min": "56",
          "max": "71",
          "histogram": [
           {
            "bin_start": 56,
            "bin_end": 57.5,
            "count": 7
           },
           {
            "bin_start": 57.5,
            "bin_end": 59,
            "count": 5
           },
           {
            "bin_start": 59,
            "bin_end": 60.5,
            "count": 15
           },
           {
            "bin_start": 60.5,
            "bin_end": 62,
            "count": 13
           },
           {
            "bin_start": 62,
            "bin_end": 63.5,
            "count": 21
           },
           {
            "bin_start": 63.5,
            "bin_end": 65,
            "count": 6
           },
           {
            "bin_start": 65,
            "bin_end": 66.5,
            "count": 7
           },
           {
            "bin_start": 66.5,
            "bin_end": 68,
            "count": 3
           },
           {
            "bin_start": 68,
            "bin_end": 69.5,
            "count": 2
           },
           {
            "bin_start": 69.5,
            "bin_end": 71,
            "count": 1
           }
          ]
         }
        },
        {
         "name": "service_games_played",
         "dtype": "int64",
         "stats": {
          "unique_count": 78,
          "nan_count": 0,
          "min": "122",
          "max": "14780",
          "histogram": [
           {
            "bin_start": 122,
            "bin_end": 1587.8,
            "count": 29
           },
           {
            "bin_start": 1587.8,
            "bin_end": 3053.6,
            "count": 22
           },
           {
            "bin_start": 3053.6,
            "bin_end": 4519.4,
            "count": 11
           },
           {
            "bin_start": 4519.4,
            "bin_end": 5985.2,
            "count": 4
           },
           {
            "bin_start": 5985.2,
            "bin_end": 7451,
            "count": 5
           },
           {
            "bin_start": 7451,
            "bin_end": 8916.8,
            "count": 2
           },
           {
            "bin_start": 8916.8,
            "bin_end": 10382.6,
            "count": 1
           },
           {
            "bin_start": 10382.6,
            "bin_end": 11848.4,
            "count": 4
           },
           {
            "bin_start": 11848.4,
            "bin_end": 13314.199999999999,
            "count": 0
           },
           {
            "bin_start": 13314.199999999999,
            "bin_end": 14780,
            "count": 2
           }
          ]
         }
        },
        {
         "name": "service_games_won",
         "dtype": "int64",
         "stats": {
          "unique_count": 21,
          "nan_count": 0,
          "min": "67",
          "max": "92",
          "histogram": [
           {
            "bin_start": 67,
            "bin_end": 69.5,
            "count": 2
           },
           {
            "bin_start": 69.5,
            "bin_end": 72,
            "count": 1
           },
           {
            "bin_start": 72,
            "bin_end": 74.5,
            "count": 9
           },
           {
            "bin_start": 74.5,
            "bin_end": 77,
            "count": 14
           },
           {
            "bin_start": 77,
            "bin_end": 79.5,
            "count": 21
           },
           {
            "bin_start": 79.5,
            "bin_end": 82,
            "count": 10
           },
           {
            "bin_start": 82,
            "bin_end": 84.5,
            "count": 15
           },
           {
            "bin_start": 84.5,
            "bin_end": 87,
            "count": 3
           },
           {
            "bin_start": 87,
            "bin_end": 89.5,
            "count": 3
           },
           {
            "bin_start": 89.5,
            "bin_end": 92,
            "count": 2
           }
          ]
         }
        },
        {
         "name": "total_service_points_won",
         "dtype": "int64",
         "stats": {
          "unique_count": 14,
          "nan_count": 0,
          "min": "58",
          "max": "72",
          "histogram": [
           {
            "bin_start": 58,
            "bin_end": 59.4,
            "count": 4
           },
           {
            "bin_start": 59.4,
            "bin_end": 60.8,
            "count": 7
           },
           {
            "bin_start": 60.8,
            "bin_end": 62.2,
            "count": 21
           },
           {
            "bin_start": 62.2,
            "bin_end": 63.6,
            "count": 14
           },
           {
            "bin_start": 63.6,
            "bin_end": 65,
            "count": 8
           },
           {
            "bin_start": 65,
            "bin_end": 66.4,
            "count": 18
           },
           {
            "bin_start": 66.4,
            "bin_end": 67.8,
            "count": 2
           },
           {
            "bin_start": 67.8,
            "bin_end": 69.2,
            "count": 4
           },
           {
            "bin_start": 69.2,
            "bin_end": 70.6,
            "count": 1
           },
           {
            "bin_start": 70.6,
            "bin_end": 72,
            "count": 1
           }
          ]
         }
        },
        {
         "name": "1st_serve_return_won",
         "dtype": "int64",
         "stats": {
          "unique_count": 14,
          "nan_count": 0,
          "min": "21",
          "max": "35",
          "histogram": [
           {
            "bin_start": 21,
            "bin_end": 22.4,
            "count": 2
           },
           {
            "bin_start": 22.4,
            "bin_end": 23.8,
            "count": 0
           },
           {
            "bin_start": 23.8,
            "bin_end": 25.2,
            "count": 4
           },
           {
            "bin_start": 25.2,
            "bin_end": 26.6,
            "count": 5
           },
           {
            "bin_start": 26.6,
            "bin_end": 28,
            "count": 5
           },
           {
            "bin_start": 28,
            "bin_end": 29.4,
            "count": 24
           },
           {
            "bin_start": 29.4,
            "bin_end": 30.799999999999997,
            "count": 11
           },
           {
            "bin_start": 30.799999999999997,
            "bin_end": 32.2,
            "count": 22
           },
           {
            "bin_start": 32.2,
            "bin_end": 33.6,
            "count": 2
           },
           {
            "bin_start": 33.6,
            "bin_end": 35,
            "count": 5
           }
          ]
         }
        },
        {
         "name": "2nd_serve_return_won",
         "dtype": "int64",
         "stats": {
          "unique_count": 12,
          "nan_count": 0,
          "min": "42",
          "max": "55",
          "histogram": [
           {
            "bin_start": 42,
            "bin_end": 43.3,
            "count": 2
           },
           {
            "bin_start": 43.3,
            "bin_end": 44.6,
            "count": 0
           },
           {
            "bin_start": 44.6,
            "bin_end": 45.9,
            "count": 2
           },
           {
            "bin_start": 45.9,
            "bin_end": 47.2,
            "count": 9
           },
           {
            "bin_start": 47.2,
            "bin_end": 48.5,
            "count": 7
           },
           {
            "bin_start": 48.5,
            "bin_end": 49.8,
            "count": 10
           },
           {
            "bin_start": 49.8,
            "bin_end": 51.1,
            "count": 33
           },
           {
            "bin_start": 51.1,
            "bin_end": 52.4,
            "count": 7
           },
           {
            "bin_start": 52.4,
            "bin_end": 53.7,
            "count": 4
           },
           {
            "bin_start": 53.7,
            "bin_end": 55,
            "count": 6
           }
          ]
         }
        },
        {
         "name": "total_break_pts",
         "dtype": "int64",
         "stats": {
          "unique_count": 80,
          "nan_count": 0,
          "min": "58",
          "max": "10943",
          "histogram": [
           {
            "bin_start": 58,
            "bin_end": 1146.5,
            "count": 39
           },
           {
            "bin_start": 1146.5,
            "bin_end": 2235,
            "count": 19
           },
           {
            "bin_start": 2235,
            "bin_end": 3323.5,
            "count": 7
           },
           {
            "bin_start": 3323.5,
            "bin_end": 4412,
            "count": 8
           },
           {
            "bin_start": 4412,
            "bin_end": 5500.5,
            "count": 1
           },
           {
            "bin_start": 5500.5,
            "bin_end": 6589,
            "count": 3
           },
           {
            "bin_start": 6589,
            "bin_end": 7677.5,
            "count": 0
           },
           {
            "bin_start": 7677.5,
            "bin_end": 8766,
            "count": 1
           },
           {
            "bin_start": 8766,
            "bin_end": 9854.5,
            "count": 0
           },
           {
            "bin_start": 9854.5,
            "bin_end": 10943,
            "count": 2
           }
          ]
         }
        },
        {
         "name": "break_pts_conv",
         "dtype": "int64",
         "stats": {
          "unique_count": 13,
          "nan_count": 0,
          "min": "30",
          "max": "45",
          "histogram": [
           {
            "bin_start": 30,
            "bin_end": 31.5,
            "count": 2
           },
           {
            "bin_start": 31.5,
            "bin_end": 33,
            "count": 0
           },
           {
            "bin_start": 33,
            "bin_end": 34.5,
            "count": 1
           },
           {
            "bin_start": 34.5,
            "bin_end": 36,
            "count": 0
           },
           {
            "bin_start": 36,
            "bin_end": 37.5,
            "count": 13
           },
           {
            "bin_start": 37.5,
            "bin_end": 39,
            "count": 9
           },
           {
            "bin_start": 39,
            "bin_end": 40.5,
            "count": 25
           },
           {
            "bin_start": 40.5,
            "bin_end": 42,
            "count": 16
           },
           {
            "bin_start": 42,
            "bin_end": 43.5,
            "count": 10
           },
           {
            "bin_start": 43.5,
            "bin_end": 45,
            "count": 4
           }
          ]
         }
        },
        {
         "name": "return_games_played",
         "dtype": "int64",
         "stats": {
          "unique_count": 80,
          "nan_count": 0,
          "min": "121",
          "max": "14633",
          "histogram": [
           {
            "bin_start": 121,
            "bin_end": 1572.2,
            "count": 29
           },
           {
            "bin_start": 1572.2,
            "bin_end": 3023.4,
            "count": 22
           },
           {
            "bin_start": 3023.4,
            "bin_end": 4474.6,
            "count": 11
           },
           {
            "bin_start": 4474.6,
            "bin_end": 5925.8,
            "count": 3
           },
           {
            "bin_start": 5925.8,
            "bin_end": 7377,
            "count": 6
           },
           {
            "bin_start": 7377,
            "bin_end": 8828.2,
            "count": 2
           },
           {
            "bin_start": 8828.2,
            "bin_end": 10279.4,
            "count": 1
           },
           {
            "bin_start": 10279.4,
            "bin_end": 11730.6,
            "count": 4
           },
           {
            "bin_start": 11730.6,
            "bin_end": 13181.800000000001,
            "count": 0
           },
           {
            "bin_start": 13181.800000000001,
            "bin_end": 14633,
            "count": 2
           }
          ]
         }
        },
        {
         "name": "return_games_won",
         "dtype": "int64",
         "stats": {
          "unique_count": 20,
          "nan_count": 0,
          "min": "10",
          "max": "34",
          "histogram": [
           {
            "bin_start": 10,
            "bin_end": 12.4,
            "count": 2
           },
           {
            "bin_start": 12.4,
            "bin_end": 14.8,
            "count": 1
           },
           {
            "bin_start": 14.8,
            "bin_end": 17.2,
            "count": 6
           },
           {
            "bin_start": 17.2,
            "bin_end": 19.6,
            "count": 13
           },
           {
            "bin_start": 19.6,
            "bin_end": 22,
            "count": 10
           },
           {
            "bin_start": 22,
            "bin_end": 24.4,
            "count": 21
           },
           {
            "bin_start": 24.4,
            "bin_end": 26.8,
            "count": 10
           },
           {
            "bin_start": 26.8,
            "bin_end": 29.2,
            "count": 12
           },
           {
            "bin_start": 29.2,
            "bin_end": 31.599999999999998,
            "count": 1
           },
           {
            "bin_start": 31.599999999999998,
            "bin_end": 34,
            "count": 4
           }
          ]
         }
        },
        {
         "name": "return_points_won",
         "dtype": "int64",
         "stats": {
          "unique_count": 13,
          "nan_count": 0,
          "min": "28",
          "max": "42",
          "histogram": [
           {
            "bin_start": 28,
            "bin_end": 29.4,
            "count": 1
           },
           {
            "bin_start": 29.4,
            "bin_end": 30.8,
            "count": 1
           },
           {
            "bin_start": 30.8,
            "bin_end": 32.2,
            "count": 1
           },
           {
            "bin_start": 32.2,
            "bin_end": 33.6,
            "count": 3
           },
           {
            "bin_start": 33.6,
            "bin_end": 35,
            "count": 3
           },
           {
            "bin_start": 35,
            "bin_end": 36.4,
            "count": 17
           },
           {
            "bin_start": 36.4,
            "bin_end": 37.8,
            "count": 14
           },
           {
            "bin_start": 37.8,
            "bin_end": 39.2,
            "count": 28
           },
           {
            "bin_start": 39.2,
            "bin_end": 40.6,
            "count": 6
           },
           {
            "bin_start": 40.6,
            "bin_end": 42,
            "count": 6
           }
          ]
         }
        },
        {
         "name": "total_pts_won",
         "dtype": "int64",
         "stats": {
          "unique_count": 9,
          "nan_count": 0,
          "min": "47",
          "max": "55",
          "histogram": [
           {
            "bin_start": 47,
            "bin_end": 47.8,
            "count": 1
           },
           {
            "bin_start": 47.8,
            "bin_end": 48.6,
            "count": 4
           },
           {
            "bin_start": 48.6,
            "bin_end": 49.4,
            "count": 16
           },
           {
            "bin_start": 49.4,
            "bin_end": 50.2,
            "count": 26
           },
           {
            "bin_start": 50.2,
            "bin_end": 51,
            "count": 0
           },
           {
            "bin_start": 51,
            "bin_end": 51.8,
            "count": 19
           },
           {
            "bin_start": 51.8,
            "bin_end": 52.6,
            "count": 10
           },
           {
            "bin_start": 52.6,
            "bin_end": 53.4,
            "count": 2
           },
           {
            "bin_start": 53.4,
            "bin_end": 54.2,
            "count": 1
           },
           {
            "bin_start": 54.2,
            "bin_end": 55,
            "count": 1
           }
          ]
         }
        },
        {
         "name": "avg_aces_yr",
         "dtype": "float64",
         "stats": {
          "unique_count": 80,
          "nan_count": 0,
          "min": "7.0",
          "max": "908.9333333333333",
          "histogram": [
           {
            "bin_start": 7,
            "bin_end": 97.19333333333333,
            "count": 34
           },
           {
            "bin_start": 97.19333333333333,
            "bin_end": 187.38666666666666,
            "count": 21
           },
           {
            "bin_start": 187.38666666666666,
            "bin_end": 277.58,
            "count": 7
           },
           {
            "bin_start": 277.58,
            "bin_end": 367.7733333333333,
            "count": 8
           },
           {
            "bin_start": 367.7733333333333,
            "bin_end": 457.96666666666664,
            "count": 9
           },
           {
            "bin_start": 457.96666666666664,
            "bin_end": 548.16,
            "count": 0
           },
           {
            "bin_start": 548.16,
            "bin_end": 638.3533333333332,
            "count": 0
           },
           {
            "bin_start": 638.3533333333332,
            "bin_end": 728.5466666666666,
            "count": 0
           },
           {
            "bin_start": 728.5466666666666,
            "bin_end": 818.74,
            "count": 0
           },
           {
            "bin_start": 818.74,
            "bin_end": 908.9333333333333,
            "count": 1
           }
          ]
         }
        },
        {
         "name": "avg_double_faults_yr",
         "dtype": "float64",
         "stats": {
          "unique_count": 79,
          "nan_count": 0,
          "min": "4.6",
          "max": "274.0",
          "histogram": [
           {
            "bin_start": 4.6,
            "bin_end": 31.54,
            "count": 16
           },
           {
            "bin_start": 31.54,
            "bin_end": 58.48,
            "count": 20
           },
           {
            "bin_start": 58.48,
            "bin_end": 85.41999999999999,
            "count": 17
           },
           {
            "bin_start": 85.41999999999999,
            "bin_end": 112.35999999999999,
            "count": 12
           },
           {
            "bin_start": 112.35999999999999,
            "bin_end": 139.29999999999998,
            "count": 4
           },
           {
            "bin_start": 139.29999999999998,
            "bin_end": 166.23999999999998,
            "count": 6
           },
           {
            "bin_start": 166.23999999999998,
            "bin_end": 193.17999999999998,
            "count": 3
           },
           {
            "bin_start": 193.17999999999998,
            "bin_end": 220.11999999999998,
            "count": 1
           },
           {
            "bin_start": 220.11999999999998,
            "bin_end": 247.05999999999997,
            "count": 0
           },
           {
            "bin_start": 247.05999999999997,
            "bin_end": 274,
            "count": 1
           }
          ]
         }
        },
        {
         "name": "avg_break_points_faced_yr",
         "dtype": "float64",
         "stats": {
          "unique_count": 80,
          "nan_count": 0,
          "min": "19.6",
          "max": "322.0",
          "histogram": [
           {
            "bin_start": 19.6,
            "bin_end": 49.84,
            "count": 8
           },
           {
            "bin_start": 49.84,
            "bin_end": 80.08,
            "count": 6
           },
           {
            "bin_start": 80.08,
            "bin_end": 110.32,
            "count": 9
           },
           {
            "bin_start": 110.32,
            "bin_end": 140.56,
            "count": 10
           },
           {
            "bin_start": 140.56,
            "bin_end": 170.79999999999998,
            "count": 13
           },
           {
            "bin_start": 170.79999999999998,
            "bin_end": 201.04,
            "count": 5
           },
           {
            "bin_start": 201.04,
            "bin_end": 231.27999999999997,
            "count": 5
           },
           {
            "bin_start": 231.27999999999997,
            "bin_end": 261.52,
            "count": 11
           },
           {
            "bin_start": 261.52,
            "bin_end": 291.76,
            "count": 5
           },
           {
            "bin_start": 291.76,
            "bin_end": 322,
            "count": 8
           }
          ]
         }
        },
        {
         "name": "avg_service_games_played_yr",
         "dtype": "float64",
         "stats": {
          "unique_count": 80,
          "nan_count": 0,
          "min": "24.4",
          "max": "767.2631578947369",
          "histogram": [
           {
            "bin_start": 24.4,
            "bin_end": 98.6863157894737,
            "count": 10
           },
           {
            "bin_start": 98.6863157894737,
            "bin_end": 172.9726315789474,
            "count": 10
           },
           {
            "bin_start": 172.9726315789474,
            "bin_end": 247.25894736842108,
            "count": 12
           },
           {
            "bin_start": 247.25894736842108,
            "bin_end": 321.54526315789474,
            "count": 12
           },
           {
            "bin_start": 321.54526315789474,
            "bin_end": 395.8315789473684,
            "count": 8
           },
           {
            "bin_start": 395.8315789473684,
            "bin_end": 470.1178947368421,
            "count": 9
           },
           {
            "bin_start": 470.1178947368421,
            "bin_end": 544.4042105263158,
            "count": 8
           },
           {
            "bin_start": 544.4042105263158,
            "bin_end": 618.6905263157895,
            "count": 3
           },
           {
            "bin_start": 618.6905263157895,
            "bin_end": 692.9768421052632,
            "count": 4
           },
           {
            "bin_start": 692.9768421052632,
            "bin_end": 767.2631578947369,
            "count": 4
           }
          ]
         }
        },
        {
         "name": "avg_total_break_pts_yr",
         "dtype": "float64",
         "stats": {
          "unique_count": 79,
          "nan_count": 0,
          "min": "11.6",
          "max": "540.9473684210526",
          "histogram": [
           {
            "bin_start": 11.6,
            "bin_end": 64.53473684210526,
            "count": 12
           },
           {
            "bin_start": 64.53473684210526,
            "bin_end": 117.46947368421051,
            "count": 17
           },
           {
            "bin_start": 117.46947368421051,
            "bin_end": 170.40421052631578,
            "count": 12
           },
           {
            "bin_start": 170.40421052631578,
            "bin_end": 223.33894736842103,
            "count": 11
           },
           {
            "bin_start": 223.33894736842103,
            "bin_end": 276.2736842105263,
            "count": 9
           },
           {
            "bin_start": 276.2736842105263,
            "bin_end": 329.2084210526316,
            "count": 9
           },
           {
            "bin_start": 329.2084210526316,
            "bin_end": 382.1431578947368,
            "count": 6
           },
           {
            "bin_start": 382.1431578947368,
            "bin_end": 435.0778947368421,
            "count": 1
           },
           {
            "bin_start": 435.0778947368421,
            "bin_end": 488.0126315789474,
            "count": 1
           },
           {
            "bin_start": 488.0126315789474,
            "bin_end": 540.9473684210526,
            "count": 2
           }
          ]
         }
        },
        {
         "name": "avg_return_games_played_yr",
         "dtype": "float64",
         "stats": {
          "unique_count": 80,
          "nan_count": 0,
          "min": "24.2",
          "max": "746.2631578947369",
          "histogram": [
           {
            "bin_start": 24.2,
            "bin_end": 96.40631578947368,
            "count": 10
           },
           {
            "bin_start": 96.40631578947368,
            "bin_end": 168.61263157894734,
            "count": 9
           },
           {
            "bin_start": 168.61263157894734,
            "bin_end": 240.81894736842102,
            "count": 11
           },
           {
            "bin_start": 240.81894736842102,
            "bin_end": 313.0252631578947,
            "count": 14
           },
           {
            "bin_start": 313.0252631578947,
            "bin_end": 385.2315789473684,
            "count": 8
           },
           {
            "bin_start": 385.2315789473684,
            "bin_end": 457.43789473684205,
            "count": 8
           },
           {
            "bin_start": 457.43789473684205,
            "bin_end": 529.6442105263158,
            "count": 5
           },
           {
            "bin_start": 529.6442105263158,
            "bin_end": 601.8505263157895,
            "count": 7
           },
           {
            "bin_start": 601.8505263157895,
            "bin_end": 674.0568421052632,
            "count": 4
           },
           {
            "bin_start": 674.0568421052632,
            "bin_end": 746.2631578947369,
            "count": 4
           }
          ]
         }
        },
        {
         "name": "_deepnote_index_column",
         "dtype": "int64"
        }
       ],
       "rows": [
        {
         "player": "Daniil Medvedev",
         "career_length": 8,
         "backhand_type": 2,
         "aces": 2845,
         "double_faults": 1187,
         "first_serve": 60,
         "1st_serve_points_won": 75,
         "2nd_serve_points_won": 52,
         "break_points_faced": 1897,
         "break_points_saved": 63,
         "service_games_played": 4230,
         "service_games_won": 83,
         "total_service_points_won": 66,
         "1st_serve_return_won": 31,
         "2nd_serve_return_won": 54,
         "total_break_pts": 2664,
         "break_pts_conv": 42,
         "return_games_played": 4238,
         "return_games_won": 26,
         "return_points_won": 39,
         "total_pts_won": 52,
         "avg_aces_yr": 355.625,
         "avg_double_faults_yr": 148.375,
         "avg_break_points_faced_yr": 237.125,
         "avg_service_games_played_yr": 528.75,
         "avg_total_break_pts_yr": 333,
         "avg_return_games_played_yr": 529.75,
         "_deepnote_index_column": 0
        },
        {
         "player": "Alexander Zverev",
         "career_length": 9,
         "backhand_type": 2,
         "aces": 3974,
         "double_faults": 1973,
         "first_serve": 65,
         "1st_serve_points_won": 74,
         "2nd_serve_points_won": 50,
         "break_points_faced": 2709,
         "break_points_saved": 61,
         "service_games_played": 6037,
         "service_games_won": 82,
         "total_service_points_won": 66,
         "1st_serve_return_won": 31,
         "2nd_serve_return_won": 51,
         "total_break_pts": 3631,
         "break_pts_conv": 42,
         "return_games_played": 6045,
         "return_games_won": 25,
         "return_points_won": 38,
         "total_pts_won": 52,
         "avg_aces_yr": 441.55555555555554,
         "avg_double_faults_yr": 219.22222222222223,
         "avg_break_points_faced_yr": 301,
         "avg_service_games_played_yr": 670.7777777777778,
         "avg_total_break_pts_yr": 403.44444444444446,
         "avg_return_games_played_yr": 671.6666666666666,
         "_deepnote_index_column": 1
        },
        {
         "player": "Novak Djokovic",
         "career_length": 19,
         "backhand_type": 2,
         "aces": 6440,
         "double_faults": 2672,
         "first_serve": 65,
         "1st_serve_points_won": 74,
         "2nd_serve_points_won": 55,
         "break_points_faced": 6017,
         "break_points_saved": 66,
         "service_games_played": 14578,
         "service_games_won": 86,
         "total_service_points_won": 67,
         "1st_serve_return_won": 34,
         "2nd_serve_return_won": 55,
         "total_break_pts": 10278,
         "break_pts_conv": 44,
         "return_games_played": 14179,
         "return_games_won": 32,
         "return_points_won": 42,
         "total_pts_won": 54,
         "avg_aces_yr": 338.94736842105266,
         "avg_double_faults_yr": 140.6315789473684,
         "avg_break_points_faced_yr": 316.6842105263158,
         "avg_service_games_played_yr": 767.2631578947369,
         "avg_total_break_pts_yr": 540.9473684210526,
         "avg_return_games_played_yr": 746.2631578947369,
         "_deepnote_index_column": 2
        },
        {
         "player": "Rafael Nadal",
         "career_length": 21,
         "backhand_type": 2,
         "aces": 3856,
         "double_faults": 2066,
         "first_serve": 68,
         "1st_serve_points_won": 72,
         "2nd_serve_points_won": 57,
         "break_points_faced": 6309,
         "break_points_saved": 67,
         "service_games_played": 14780,
         "service_games_won": 86,
         "total_service_points_won": 67,
         "1st_serve_return_won": 34,
         "2nd_serve_return_won": 55,
         "total_break_pts": 10943,
         "break_pts_conv": 45,
         "return_games_played": 14633,
         "return_games_won": 34,
         "return_points_won": 42,
         "total_pts_won": 55,
         "avg_aces_yr": 183.61904761904762,
         "avg_double_faults_yr": 98.38095238095238,
         "avg_break_points_faced_yr": 300.42857142857144,
         "avg_service_games_played_yr": 703.8095238095239,
         "avg_total_break_pts_yr": 521.0952380952381,
         "avg_return_games_played_yr": 696.8095238095239,
         "_deepnote_index_column": 3
        },
        {
         "player": "Casper Ruud",
         "career_length": 7,
         "backhand_type": 2,
         "aces": 986,
         "double_faults": 461,
         "first_serve": 65,
         "1st_serve_points_won": 72,
         "2nd_serve_points_won": 54,
         "break_points_faced": 1137,
         "break_points_saved": 63,
         "service_games_played": 2529,
         "service_games_won": 83,
         "total_service_points_won": 66,
         "1st_serve_return_won": 29,
         "2nd_serve_return_won": 51,
         "total_break_pts": 1424,
         "break_pts_conv": 41,
         "return_games_played": 2466,
         "return_games_won": 24,
         "return_points_won": 37,
         "total_pts_won": 52,
         "avg_aces_yr": 140.85714285714286,
         "avg_double_faults_yr": 65.85714285714286,
         "avg_break_points_faced_yr": 162.42857142857142,
         "avg_service_games_played_yr": 361.2857142857143,
         "avg_total_break_pts_yr": 203.42857142857142,
         "avg_return_games_played_yr": 352.2857142857143,
         "_deepnote_index_column": 4
        },
        {
         "player": "Stefanos Tsitsipas",
         "career_length": 6,
         "backhand_type": 1,
         "aces": 2329,
         "double_faults": 735,
         "first_serve": 62,
         "1st_serve_points_won": 76,
         "2nd_serve_points_won": 55,
         "break_points_faced": 1679,
         "break_points_saved": 65,
         "service_games_played": 4250,
         "service_games_won": 86,
         "total_service_points_won": 68,
         "1st_serve_return_won": 29,
         "2nd_serve_return_won": 49,
         "total_break_pts": 2205,
         "break_pts_conv": 40,
         "return_games_played": 4154,
         "return_games_won": 21,
         "return_points_won": 36,
         "total_pts_won": 52,
         "avg_aces_yr": 388.1666666666667,
         "avg_double_faults_yr": 122.5,
         "avg_break_points_faced_yr": 279.8333333333333,
         "avg_service_games_played_yr": 708.3333333333334,
         "avg_total_break_pts_yr": 367.5,
         "avg_return_games_played_yr": 692.3333333333334,
         "_deepnote_index_column": 5
        },
        {
         "player": "Carlos Alcaraz",
         "career_length": 4,
         "backhand_type": 2,
         "aces": 267,
         "double_faults": 196,
         "first_serve": 64,
         "1st_serve_points_won": 70,
         "2nd_serve_points_won": 54,
         "break_points_faced": 569,
         "break_points_saved": 62,
         "service_games_played": 1080,
         "service_games_won": 80,
         "total_service_points_won": 64,
         "1st_serve_return_won": 34,
         "2nd_serve_return_won": 53,
         "total_break_pts": 798,
         "break_pts_conv": 43,
         "return_games_played": 1085,
         "return_games_won": 32,
         "return_points_won": 41,
         "total_pts_won": 53,
         "avg_aces_yr": 66.75,
         "avg_double_faults_yr": 49,
         "avg_break_points_faced_yr": 142.25,
         "avg_service_games_played_yr": 270,
         "avg_total_break_pts_yr": 199.5,
         "avg_return_games_played_yr": 271.25,
         "_deepnote_index_column": 6
        },
        {
         "player": "Andrey Rublev",
         "career_length": 8,
         "backhand_type": 2,
         "aces": 2072,
         "double_faults": 890,
         "first_serve": 60,
         "1st_serve_points_won": 74,
         "2nd_serve_points_won": 50,
         "break_points_faced": 1931,
         "break_points_saved": 62,
         "service_games_played": 3900,
         "service_games_won": 81,
         "total_service_points_won": 65,
         "1st_serve_return_won": 30,
         "2nd_serve_return_won": 53,
         "total_break_pts": 2412,
         "break_pts_conv": 40,
         "return_games_played": 3914,
         "return_games_won": 25,
         "return_points_won": 39,
         "total_pts_won": 52,
         "avg_aces_yr": 259,
         "avg_double_faults_yr": 111.25,
         "avg_break_points_faced_yr": 241.375,
         "avg_service_games_played_yr": 487.5,
         "avg_total_break_pts_yr": 301.5,
         "avg_return_games_played_yr": 489.25,
         "_deepnote_index_column": 7
        },
        {
         "player": "Felix Auger-Aliassime",
         "career_length": 5,
         "backhand_type": 2,
         "aces": 1945,
         "double_faults": 919,
         "first_serve": 64,
         "1st_serve_points_won": 75,
         "2nd_serve_points_won": 50,
         "break_points_faced": 1317,
         "break_points_saved": 63,
         "service_games_played": 2719,
         "service_games_won": 82,
         "total_service_points_won": 66,
         "1st_serve_return_won": 30,
         "2nd_serve_return_won": 48,
         "total_break_pts": 1466,
         "break_pts_conv": 38,
         "return_games_played": 2678,
         "return_games_won": 21,
         "return_points_won": 37,
         "total_pts_won": 51,
         "avg_aces_yr": 389,
         "avg_double_faults_yr": 183.8,
         "avg_break_points_faced_yr": 263.4,
         "avg_service_games_played_yr": 543.8,
         "avg_total_break_pts_yr": 293.2,
         "avg_return_games_played_yr": 535.6,
         "_deepnote_index_column": 8
        },
        {
         "player": "Hubert Hurkacz",
         "career_length": 7,
         "backhand_type": 2,
         "aces": 1715,
         "double_faults": 447,
         "first_serve": 63,
         "1st_serve_points_won": 75,
         "2nd_serve_points_won": 52,
         "break_points_faced": 1087,
         "break_points_saved": 64,
         "service_games_played": 2422,
         "service_games_won": 84,
         "total_service_points_won": 66,
         "1st_serve_return_won": 28,
         "2nd_serve_return_won": 48,
         "total_break_pts": 1228,
         "break_pts_conv": 38,
         "return_games_played": 2386,
         "return_games_won": 19,
         "return_points_won": 36,
         "total_pts_won": 51,
         "avg_aces_yr": 245,
         "avg_double_faults_yr": 63.857142857142854,
         "avg_break_points_faced_yr": 155.28571428571428,
         "avg_service_games_played_yr": 346,
         "avg_total_break_pts_yr": 175.42857142857142,
         "avg_return_games_played_yr": 340.85714285714283,
         "_deepnote_index_column": 9
        }
       ]
      },
      "text/plain": "                     player  career_length  backhand_type  aces  \\\n0           Daniil Medvedev              8              2  2845   \n1          Alexander Zverev              9              2  3974   \n2            Novak Djokovic             19              2  6440   \n3              Rafael Nadal             21              2  3856   \n4               Casper Ruud              7              2   986   \n..                      ...            ...            ...   ...   \n75             Benoit Paire             15              2  4455   \n76          James Duckworth             12              2  1096   \n77              Denis Kudla             12              2  1078   \n78  Tomas Martin Etcheverry              5              2    35   \n79         Alejandro Tabilo              7              2   143   \n\n    double_faults  first_serve  1st_serve_points_won  2nd_serve_points_won  \\\n0            1187           60                    75                    52   \n1            1973           65                    74                    50   \n2            2672           65                    74                    55   \n3            2066           68                    72                    57   \n4             461           65                    72                    54   \n..            ...          ...                   ...                   ...   \n75           2722           52                    74                    45   \n76            398           56                    72                    50   \n77            637           58                    70                    51   \n78             23           71                    64                    45   \n79             90           64                    68                    48   \n\n    break_points_faced  break_points_saved  ...  return_games_played  \\\n0                 1897                  63  ...                 4238   \n1                 2709                  61  ...                 6045   \n2                 6017                  66  ...                14179   \n3                 6309                  67  ...                14633   \n4                 1137                  63  ...                 2466   \n..                 ...                 ...  ...                  ...   \n75                4219                  60  ...                 6548   \n76                1028                  64  ...                 1719   \n77                1390                  58  ...                 2392   \n78                  98                  61  ...                  121   \n79                 220                  56  ...                  331   \n\n    return_games_won  return_points_won  total_pts_won  avg_aces_yr  \\\n0                 26                 39             52   355.625000   \n1                 25                 38             52   441.555556   \n2                 32                 42             54   338.947368   \n3                 34                 42             55   183.619048   \n4                 24                 37             52   140.857143   \n..               ...                ...            ...          ...   \n75                23                 38             49   297.000000   \n76                16                 33             48    91.333333   \n77                19                 35             48    89.833333   \n78                17                 36             47     7.000000   \n79                27                 39             50    20.428571   \n\n    avg_double_faults_yr  avg_break_points_faced_yr  \\\n0             148.375000                 237.125000   \n1             219.222222                 301.000000   \n2             140.631579                 316.684211   \n3              98.380952                 300.428571   \n4              65.857143                 162.428571   \n..                   ...                        ...   \n75            181.466667                 281.266667   \n76             33.166667                  85.666667   \n77             53.083333                 115.833333   \n78              4.600000                  19.600000   \n79             12.857143                  31.428571   \n\n    avg_service_games_played_yr  avg_total_break_pts_yr  \\\n0                    528.750000              333.000000   \n1                    670.777778              403.444444   \n2                    767.263158              540.947368   \n3                    703.809524              521.095238   \n4                    361.285714              203.428571   \n..                          ...                     ...   \n75                   435.266667              256.866667   \n76                   144.083333               61.333333   \n77                   198.166667               92.416667   \n78                    24.400000               11.600000   \n79                    49.571429               28.857143   \n\n    avg_return_games_played_yr  \n0                   529.750000  \n1                   671.666667  \n2                   746.263158  \n3                   696.809524  \n4                   352.285714  \n..                         ...  \n75                  436.533333  \n76                  143.250000  \n77                  199.333333  \n78                   24.200000  \n79                   47.285714  \n\n[80 rows x 27 columns]",
      "text/html": "<div>\n<style scoped>\n    .dataframe tbody tr th:only-of-type {\n        vertical-align: middle;\n    }\n\n    .dataframe tbody tr th {\n        vertical-align: top;\n    }\n\n    .dataframe thead th {\n        text-align: right;\n    }\n</style>\n<table border=\"1\" class=\"dataframe\">\n  <thead>\n    <tr style=\"text-align: right;\">\n      <th></th>\n      <th>player</th>\n      <th>career_length</th>\n      <th>backhand_type</th>\n      <th>aces</th>\n      <th>double_faults</th>\n      <th>first_serve</th>\n      <th>1st_serve_points_won</th>\n      <th>2nd_serve_points_won</th>\n      <th>break_points_faced</th>\n      <th>break_points_saved</th>\n      <th>...</th>\n      <th>return_games_played</th>\n      <th>return_games_won</th>\n      <th>return_points_won</th>\n      <th>total_pts_won</th>\n      <th>avg_aces_yr</th>\n      <th>avg_double_faults_yr</th>\n      <th>avg_break_points_faced_yr</th>\n      <th>avg_service_games_played_yr</th>\n      <th>avg_total_break_pts_yr</th>\n      <th>avg_return_games_played_yr</th>\n    </tr>\n  </thead>\n  <tbody>\n    <tr>\n      <th>0</th>\n      <td>Daniil Medvedev</td>\n      <td>8</td>\n      <td>2</td>\n      <td>2845</td>\n      <td>1187</td>\n      <td>60</td>\n      <td>75</td>\n      <td>52</td>\n      <td>1897</td>\n      <td>63</td>\n      <td>...</td>\n      <td>4238</td>\n      <td>26</td>\n      <td>39</td>\n      <td>52</td>\n      <td>355.625000</td>\n      <td>148.375000</td>\n      <td>237.125000</td>\n      <td>528.750000</td>\n      <td>333.000000</td>\n      <td>529.750000</td>\n    </tr>\n    <tr>\n      <th>1</th>\n      <td>Alexander Zverev</td>\n      <td>9</td>\n      <td>2</td>\n      <td>3974</td>\n      <td>1973</td>\n      <td>65</td>\n      <td>74</td>\n      <td>50</td>\n      <td>2709</td>\n      <td>61</td>\n      <td>...</td>\n      <td>6045</td>\n      <td>25</td>\n      <td>38</td>\n      <td>52</td>\n      <td>441.555556</td>\n      <td>219.222222</td>\n      <td>301.000000</td>\n      <td>670.777778</td>\n      <td>403.444444</td>\n      <td>671.666667</td>\n    </tr>\n    <tr>\n      <th>2</th>\n      <td>Novak Djokovic</td>\n      <td>19</td>\n      <td>2</td>\n      <td>6440</td>\n      <td>2672</td>\n      <td>65</td>\n      <td>74</td>\n      <td>55</td>\n      <td>6017</td>\n      <td>66</td>\n      <td>...</td>\n      <td>14179</td>\n      <td>32</td>\n      <td>42</td>\n      <td>54</td>\n      <td>338.947368</td>\n      <td>140.631579</td>\n      <td>316.684211</td>\n      <td>767.263158</td>\n      <td>540.947368</td>\n      <td>746.263158</td>\n    </tr>\n    <tr>\n      <th>3</th>\n      <td>Rafael Nadal</td>\n      <td>21</td>\n      <td>2</td>\n      <td>3856</td>\n      <td>2066</td>\n      <td>68</td>\n      <td>72</td>\n      <td>57</td>\n      <td>6309</td>\n      <td>67</td>\n      <td>...</td>\n      <td>14633</td>\n      <td>34</td>\n      <td>42</td>\n      <td>55</td>\n      <td>183.619048</td>\n      <td>98.380952</td>\n      <td>300.428571</td>\n      <td>703.809524</td>\n      <td>521.095238</td>\n      <td>696.809524</td>\n    </tr>\n    <tr>\n      <th>4</th>\n      <td>Casper Ruud</td>\n      <td>7</td>\n      <td>2</td>\n      <td>986</td>\n      <td>461</td>\n      <td>65</td>\n      <td>72</td>\n      <td>54</td>\n      <td>1137</td>\n      <td>63</td>\n      <td>...</td>\n      <td>2466</td>\n      <td>24</td>\n      <td>37</td>\n      <td>52</td>\n      <td>140.857143</td>\n      <td>65.857143</td>\n      <td>162.428571</td>\n      <td>361.285714</td>\n      <td>203.428571</td>\n      <td>352.285714</td>\n    </tr>\n    <tr>\n      <th>...</th>\n      <td>...</td>\n      <td>...</td>\n      <td>...</td>\n      <td>...</td>\n      <td>...</td>\n      <td>...</td>\n      <td>...</td>\n      <td>...</td>\n      <td>...</td>\n      <td>...</td>\n      <td>...</td>\n      <td>...</td>\n      <td>...</td>\n      <td>...</td>\n      <td>...</td>\n      <td>...</td>\n      <td>...</td>\n      <td>...</td>\n      <td>...</td>\n      <td>...</td>\n      <td>...</td>\n    </tr>\n    <tr>\n      <th>75</th>\n      <td>Benoit Paire</td>\n      <td>15</td>\n      <td>2</td>\n      <td>4455</td>\n      <td>2722</td>\n      <td>52</td>\n      <td>74</td>\n      <td>45</td>\n      <td>4219</td>\n      <td>60</td>\n      <td>...</td>\n      <td>6548</td>\n      <td>23</td>\n      <td>38</td>\n      <td>49</td>\n      <td>297.000000</td>\n      <td>181.466667</td>\n      <td>281.266667</td>\n      <td>435.266667</td>\n      <td>256.866667</td>\n      <td>436.533333</td>\n    </tr>\n    <tr>\n      <th>76</th>\n      <td>James Duckworth</td>\n      <td>12</td>\n      <td>2</td>\n      <td>1096</td>\n      <td>398</td>\n      <td>56</td>\n      <td>72</td>\n      <td>50</td>\n      <td>1028</td>\n      <td>64</td>\n      <td>...</td>\n      <td>1719</td>\n      <td>16</td>\n      <td>33</td>\n      <td>48</td>\n      <td>91.333333</td>\n      <td>33.166667</td>\n      <td>85.666667</td>\n      <td>144.083333</td>\n      <td>61.333333</td>\n      <td>143.250000</td>\n    </tr>\n    <tr>\n      <th>77</th>\n      <td>Denis Kudla</td>\n      <td>12</td>\n      <td>2</td>\n      <td>1078</td>\n      <td>637</td>\n      <td>58</td>\n      <td>70</td>\n      <td>51</td>\n      <td>1390</td>\n      <td>58</td>\n      <td>...</td>\n      <td>2392</td>\n      <td>19</td>\n      <td>35</td>\n      <td>48</td>\n      <td>89.833333</td>\n      <td>53.083333</td>\n      <td>115.833333</td>\n      <td>198.166667</td>\n      <td>92.416667</td>\n      <td>199.333333</td>\n    </tr>\n    <tr>\n      <th>78</th>\n      <td>Tomas Martin Etcheverry</td>\n      <td>5</td>\n      <td>2</td>\n      <td>35</td>\n      <td>23</td>\n      <td>71</td>\n      <td>64</td>\n      <td>45</td>\n      <td>98</td>\n      <td>61</td>\n      <td>...</td>\n      <td>121</td>\n      <td>17</td>\n      <td>36</td>\n      <td>47</td>\n      <td>7.000000</td>\n      <td>4.600000</td>\n      <td>19.600000</td>\n      <td>24.400000</td>\n      <td>11.600000</td>\n      <td>24.200000</td>\n    </tr>\n    <tr>\n      <th>79</th>\n      <td>Alejandro Tabilo</td>\n      <td>7</td>\n      <td>2</td>\n      <td>143</td>\n      <td>90</td>\n      <td>64</td>\n      <td>68</td>\n      <td>48</td>\n      <td>220</td>\n      <td>56</td>\n      <td>...</td>\n      <td>331</td>\n      <td>27</td>\n      <td>39</td>\n      <td>50</td>\n      <td>20.428571</td>\n      <td>12.857143</td>\n      <td>31.428571</td>\n      <td>49.571429</td>\n      <td>28.857143</td>\n      <td>47.285714</td>\n    </tr>\n  </tbody>\n</table>\n<p>80 rows × 27 columns</p>\n</div>"
     },
     "metadata": {}
    }
   ],
   "execution_count": null
  },
  {
   "cell_type": "markdown",
   "source": "### Serving",
   "metadata": {
    "cell_id": "e351b9c5ef394ccabc2d1eee2a7abaf6",
    "tags": [],
    "is_collapsed": false,
    "formattedRanges": [],
    "deepnote_cell_type": "text-cell-h3"
   }
  },
  {
   "cell_type": "markdown",
   "source": "An ace is when a player serves and the other player can't return it. Usually the placement or speed is just out of reach of the player and he is simply unable to return the ball.",
   "metadata": {
    "cell_id": "c766c481bfe342bc904a3893f196c8c7",
    "tags": [],
    "is_collapsed": false,
    "formattedRanges": [],
    "deepnote_cell_type": "text-cell-p"
   }
  },
  {
   "cell_type": "code",
   "source": "plt.scatter(tennis[\"player\"], tennis[\"avg_aces_yr\"])\nplt.xticks(rotation = 90)\nplt.show()",
   "metadata": {
    "cell_id": "c87ebcc5893349e6af383588c273f6d2",
    "tags": [],
    "deepnote_to_be_reexecuted": false,
    "source_hash": "29d7ca69",
    "execution_start": 1656079479269,
    "execution_millis": 2845,
    "deepnote_cell_type": "code",
    "deepnote_cell_height": 515,
    "deepnote_output_heights": [
     382,
     250
    ]
   },
   "outputs": [
    {
     "data": {
      "text/plain": "<Figure size 432x288 with 1 Axes>",
      "image/png": "[encoded data removed]"
     },
     "metadata": {
      "needs_background": "light",
      "image/png": {
       "width": 375,
       "height": 380
      }
     },
     "output_type": "display_data"
    }
   ],
   "execution_count": null
  },
  {
   "cell_type": "markdown",
   "source": "The plat is a bit messy, but there is a general trend, most players tend to serve between 40 and 400 aces per year. This makes sense, especially since there is a slight negative relationship between ranking (right to left is rank 1 -80) and amount of aces.",
   "metadata": {
    "cell_id": "345efa56a83048c280f9ad9a9a7b938e",
    "tags": [],
    "is_collapsed": false,
    "formattedRanges": [],
    "deepnote_cell_type": "text-cell-p"
   }
  },
  {
   "cell_type": "markdown",
   "source": "There is one major outlier, serving an average of over 800 aces per year, lets explore some more.",
   "metadata": {
    "cell_id": "ec292d232af44b6b8688dba2dea1a5d9",
    "tags": [],
    "is_collapsed": false,
    "formattedRanges": [],
    "deepnote_cell_type": "text-cell-p"
   }
  },
  {
   "cell_type": "code",
   "source": "tennis.sort_values(by=['avg_aces_yr'], ascending = False)",
   "metadata": {
    "cell_id": "06d03385afa4476885af103cbcf6a1d8",
    "tags": [],
    "deepnote_to_be_reexecuted": false,
    "source_hash": "790f01b2",
    "execution_start": 1656079726696,
    "execution_millis": 100,
    "deepnote_cell_type": "code",
    "deepnote_cell_height": 617
   },
   "outputs": [
    {
     "output_type": "execute_result",
     "execution_count": 21,
     "data": {
      "application/vnd.deepnote.dataframe.v3+json": {
       "column_count": 27,
       "row_count": 80,
       "columns": [
        {
         "name": "player",
         "dtype": "object",
         "stats": {
          "unique_count": 80,
          "nan_count": 0,
          "categories": [
           {
            "name": "John Isner",
            "count": 1
           },
           {
            "name": "Marin Cilic",
            "count": 1
           },
           {
            "name": "78 others",
            "count": 78
           }
          ]
         }
        },
        {
         "name": "career_length",
         "dtype": "int64",
         "stats": {
          "unique_count": 20,
          "nan_count": 0,
          "min": "1",
          "max": "21",
          "histogram": [
           {
            "bin_start": 1,
            "bin_end": 3,
            "count": 3
           },
           {
            "bin_start": 3,
            "bin_end": 5,
            "count": 11
           },
           {
            "bin_start": 5,
            "bin_end": 7,
            "count": 10
           },
           {
            "bin_start": 7,
            "bin_end": 9,
            "count": 19
           },
           {
            "bin_start": 9,
            "bin_end": 11,
            "count": 8
           },
           {
            "bin_start": 11,
            "bin_end": 13,
            "count": 8
           },
           {
            "bin_start": 13,
            "bin_end": 15,
            "count": 7
           },
           {
            "bin_start": 15,
            "bin_end": 17,
            "count": 5
           },
           {
            "bin_start": 17,
            "bin_end": 19,
            "count": 6
           },
           {
            "bin_start": 19,
            "bin_end": 21,
            "count": 3
           }
          ]
         }
        },
        {
         "name": "backhand_type",
         "dtype": "int64",
         "stats": {
          "unique_count": 2,
          "nan_count": 0,
          "min": "1",
          "max": "2",
          "histogram": [
           {
            "bin_start": 1,
            "bin_end": 1.1,
            "count": 8
           },
           {
            "bin_start": 1.1,
            "bin_end": 1.2,
            "count": 0
           },
           {
            "bin_start": 1.2,
            "bin_end": 1.3,
            "count": 0
           },
           {
            "bin_start": 1.3,
            "bin_end": 1.4,
            "count": 0
           },
           {
            "bin_start": 1.4,
            "bin_end": 1.5,
            "count": 0
           },
           {
            "bin_start": 1.5,
            "bin_end": 1.6,
            "count": 0
           },
           {
            "bin_start": 1.6,
            "bin_end": 1.7000000000000002,
            "count": 0
           },
           {
            "bin_start": 1.7000000000000002,
            "bin_end": 1.8,
            "count": 0
           },
           {
            "bin_start": 1.8,
            "bin_end": 1.9,
            "count": 0
           },
           {
            "bin_start": 1.9,
            "bin_end": 2,
            "count": 72
           }
          ]
         }
        },
        {
         "name": "aces",
         "dtype": "int64",
         "stats": {
          "unique_count": 78,
          "nan_count": 0,
          "min": "35",
          "max": "13634",
          "histogram": [
           {
            "bin_start": 35,
            "bin_end": 1394.9,
            "count": 49
           },
           {
            "bin_start": 1394.9,
            "bin_end": 2754.8,
            "count": 18
           },
           {
            "bin_start": 2754.8,
            "bin_end": 4114.700000000001,
            "count": 6
           },
           {
            "bin_start": 4114.700000000001,
            "bin_end": 5474.6,
            "count": 2
           },
           {
            "bin_start": 5474.6,
            "bin_end": 6834.5,
            "count": 3
           },
           {
            "bin_start": 6834.5,
            "bin_end": 8194.400000000001,
            "count": 1
           },
           {
            "bin_start": 8194.400000000001,
            "bin_end": 9554.300000000001,
            "count": 0
           },
           {
            "bin_start": 9554.300000000001,
            "bin_end": 10914.2,
            "count": 0
           },
           {
            "bin_start": 10914.2,
            "bin_end": 12274.1,
            "count": 0
           },
           {
            "bin_start": 12274.1,
            "bin_end": 13634,
            "count": 1
           }
          ]
         }
        },
        {
         "name": "double_faults",
         "dtype": "int64",
         "stats": {
          "unique_count": 78,
          "nan_count": 0,
          "min": "23",
          "max": "2917",
          "histogram": [
           {
            "bin_start": 23,
            "bin_end": 312.4,
            "count": 25
           },
           {
            "bin_start": 312.4,
            "bin_end": 601.8,
            "count": 21
           },
           {
            "bin_start": 601.8,
            "bin_end": 891.1999999999999,
            "count": 9
           },
           {
            "bin_start": 891.1999999999999,
            "bin_end": 1180.6,
            "count": 8
           },
           {
            "bin_start": 1180.6,
            "bin_end": 1470,
            "count": 5
           },
           {
            "bin_start": 1470,
            "bin_end": 1759.3999999999999,
            "count": 2
           },
           {
            "bin_start": 1759.3999999999999,
            "bin_end": 2048.7999999999997,
            "count": 1
           },
           {
            "bin_start": 2048.7999999999997,
            "bin_end": 2338.2,
            "count": 4
           },
           {
            "bin_start": 2338.2,
            "bin_end": 2627.6,
            "count": 1
           },
           {
            "bin_start": 2627.6,
            "bin_end": 2917,
            "count": 4
           }
          ]
         }
        },
        {
         "name": "first_serve",
         "dtype": "int64",
         "stats": {
          "unique_count": 16,
          "nan_count": 0,
          "min": "52",
          "max": "73",
          "histogram": [
           {
            "bin_start": 52,
            "bin_end": 54.1,
            "count": 1
           },
           {
            "bin_start": 54.1,
            "bin_end": 56.2,
            "count": 1
           },
           {
            "bin_start": 56.2,
            "bin_end": 58.3,
            "count": 8
           },
           {
            "bin_start": 58.3,
            "bin_end": 60.4,
            "count": 12
           },
           {
            "bin_start": 60.4,
            "bin_end": 62.5,
            "count": 19
           },
           {
            "bin_start": 62.5,
            "bin_end": 64.6,
            "count": 18
           },
           {
            "bin_start": 64.6,
            "bin_end": 66.7,
            "count": 16
           },
           {
            "bin_start": 66.7,
            "bin_end": 68.8,
            "count": 2
           },
           {
            "bin_start": 68.8,
            "bin_end": 70.9,
            "count": 1
           },
           {
            "bin_start": 70.9,
            "bin_end": 73,
            "count": 2
           }
          ]
         }
        },
        {
         "name": "1st_serve_points_won",
         "dtype": "int64",
         "stats": {
          "unique_count": 17,
          "nan_count": 0,
          "min": "62",
          "max": "79",
          "histogram": [
           {
            "bin_start": 62,
            "bin_end": 63.7,
            "count": 1
           },
           {
            "bin_start": 63.7,
            "bin_end": 65.4,
            "count": 5
           },
           {
            "bin_start": 65.4,
            "bin_end": 67.1,
            "count": 5
           },
           {
            "bin_start": 67.1,
            "bin_end": 68.8,
            "count": 9
           },
           {
            "bin_start": 68.8,
            "bin_end": 70.5,
            "count": 22
           },
           {
            "bin_start": 70.5,
            "bin_end": 72.2,
            "count": 11
           },
           {
            "bin_start": 72.2,
            "bin_end": 73.9,
            "count": 3
           },
           {
            "bin_start": 73.9,
            "bin_end": 75.6,
            "count": 14
           },
           {
            "bin_start": 75.6,
            "bin_end": 77.3,
            "count": 6
           },
           {
            "bin_start": 77.3,
            "bin_end": 79,
            "count": 4
           }
          ]
         }
        },
        {
         "name": "2nd_serve_points_won",
         "dtype": "int64",
         "stats": {
          "unique_count": 13,
          "nan_count": 0,
          "min": "45",
          "max": "57",
          "histogram": [
           {
            "bin_start": 45,
            "bin_end": 46.2,
            "count": 4
           },
           {
            "bin_start": 46.2,
            "bin_end": 47.4,
            "count": 1
           },
           {
            "bin_start": 47.4,
            "bin_end": 48.6,
            "count": 3
           },
           {
            "bin_start": 48.6,
            "bin_end": 49.8,
            "count": 13
           },
           {
            "bin_start": 49.8,
            "bin_end": 51,
            "count": 17
           },
           {
            "bin_start": 51,
            "bin_end": 52.2,
            "count": 24
           },
           {
            "bin_start": 52.2,
            "bin_end": 53.4,
            "count": 8
           },
           {
            "bin_start": 53.4,
            "bin_end": 54.6,
            "count": 5
           },
           {
            "bin_start": 54.6,
            "bin_end": 55.8,
            "count": 3
           },
           {
            "bin_start": 55.8,
            "bin_end": 57,
            "count": 2
           }
          ]
         }
        },
        {
         "name": "break_points_faced",
         "dtype": "int64",
         "stats": {
          "unique_count": 78,
          "nan_count": 0,
          "min": "95",
          "max": "6309",
          "histogram": [
           {
            "bin_start": 95,
            "bin_end": 716.4,
            "count": 26
           },
           {
            "bin_start": 716.4,
            "bin_end": 1337.8,
            "count": 19
           },
           {
            "bin_start": 1337.8,
            "bin_end": 1959.1999999999998,
            "count": 14
           },
           {
            "bin_start": 1959.1999999999998,
            "bin_end": 2580.6,
            "count": 3
           },
           {
            "bin_start": 2580.6,
            "bin_end": 3202,
            "count": 5
           },
           {
            "bin_start": 3202,
            "bin_end": 3823.3999999999996,
            "count": 4
           },
           {
            "bin_start": 3823.3999999999996,
            "bin_end": 4444.8,
            "count": 2
           },
           {
            "bin_start": 4444.8,
            "bin_end": 5066.2,
            "count": 2
           },
           {
            "bin_start": 5066.2,
            "bin_end": 5687.599999999999,
            "count": 3
           },
           {
            "bin_start": 5687.599999999999,
            "bin_end": 6309,
            "count": 2
           }
          ]
         }
        },
        {
         "name": "break_points_saved",
         "dtype": "int64",
         "stats": {
          "unique_count": 15,
          "nan_count": 0,
          "min": "56",
          "max": "71",
          "histogram": [
           {
            "bin_start": 56,
            "bin_end": 57.5,
            "count": 7
           },
           {
            "bin_start": 57.5,
            "bin_end": 59,
            "count": 5
           },
           {
            "bin_start": 59,
            "bin_end": 60.5,
            "count": 15
           },
           {
            "bin_start": 60.5,
            "bin_end": 62,
            "count": 13
           },
           {
            "bin_start": 62,
            "bin_end": 63.5,
            "count": 21
           },
           {
            "bin_start": 63.5,
            "bin_end": 65,
            "count": 6
           },
           {
            "bin_start": 65,
            "bin_end": 66.5,
            "count": 7
           },
           {
            "bin_start": 66.5,
            "bin_end": 68,
            "count": 3
           },
           {
            "bin_start": 68,
            "bin_end": 69.5,
            "count": 2
           },
           {
            "bin_start": 69.5,
            "bin_end": 71,
            "count": 1
           }
          ]
         }
        },
        {
         "name": "service_games_played",
         "dtype": "int64",
         "stats": {
          "unique_count": 78,
          "nan_count": 0,
          "min": "122",
          "max": "14780",
          "histogram": [
           {
            "bin_start": 122,
            "bin_end": 1587.8,
            "count": 29
           },
           {
            "bin_start": 1587.8,
            "bin_end": 3053.6,
            "count": 22
           },
           {
            "bin_start": 3053.6,
            "bin_end": 4519.4,
            "count": 11
           },
           {
            "bin_start": 4519.4,
            "bin_end": 5985.2,
            "count": 4
           },
           {
            "bin_start": 5985.2,
            "bin_end": 7451,
            "count": 5
           },
           {
            "bin_start": 7451,
            "bin_end": 8916.8,
            "count": 2
           },
           {
            "bin_start": 8916.8,
            "bin_end": 10382.6,
            "count": 1
           },
           {
            "bin_start": 10382.6,
            "bin_end": 11848.4,
            "count": 4
           },
           {
            "bin_start": 11848.4,
            "bin_end": 13314.199999999999,
            "count": 0
           },
           {
            "bin_start": 13314.199999999999,
            "bin_end": 14780,
            "count": 2
           }
          ]
         }
        },
        {
         "name": "service_games_won",
         "dtype": "int64",
         "stats": {
          "unique_count": 21,
          "nan_count": 0,
          "min": "67",
          "max": "92",
          "histogram": [
           {
            "bin_start": 67,
            "bin_end": 69.5,
            "count": 2
           },
           {
            "bin_start": 69.5,
            "bin_end": 72,
            "count": 1
           },
           {
            "bin_start": 72,
            "bin_end": 74.5,
            "count": 9
           },
           {
            "bin_start": 74.5,
            "bin_end": 77,
            "count": 14
           },
           {
            "bin_start": 77,
            "bin_end": 79.5,
            "count": 21
           },
           {
            "bin_start": 79.5,
            "bin_end": 82,
            "count": 10
           },
           {
            "bin_start": 82,
            "bin_end": 84.5,
            "count": 15
           },
           {
            "bin_start": 84.5,
            "bin_end": 87,
            "count": 3
           },
           {
            "bin_start": 87,
            "bin_end": 89.5,
            "count": 3
           },
           {
            "bin_start": 89.5,
            "bin_end": 92,
            "count": 2
           }
          ]
         }
        },
        {
         "name": "total_service_points_won",
         "dtype": "int64",
         "stats": {
          "unique_count": 14,
          "nan_count": 0,
          "min": "58",
          "max": "72",
          "histogram": [
           {
            "bin_start": 58,
            "bin_end": 59.4,
            "count": 4
           },
           {
            "bin_start": 59.4,
            "bin_end": 60.8,
            "count": 7
           },
           {
            "bin_start": 60.8,
            "bin_end": 62.2,
            "count": 21
           },
           {
            "bin_start": 62.2,
            "bin_end": 63.6,
            "count": 14
           },
           {
            "bin_start": 63.6,
            "bin_end": 65,
            "count": 8
           },
           {
            "bin_start": 65,
            "bin_end": 66.4,
            "count": 18
           },
           {
            "bin_start": 66.4,
            "bin_end": 67.8,
            "count": 2
           },
           {
            "bin_start": 67.8,
            "bin_end": 69.2,
            "count": 4
           },
           {
            "bin_start": 69.2,
            "bin_end": 70.6,
            "count": 1
           },
           {
            "bin_start": 70.6,
            "bin_end": 72,
            "count": 1
           }
          ]
         }
        },
        {
         "name": "1st_serve_return_won",
         "dtype": "int64",
         "stats": {
          "unique_count": 14,
          "nan_count": 0,
          "min": "21",
          "max": "35",
          "histogram": [
           {
            "bin_start": 21,
            "bin_end": 22.4,
            "count": 2
           },
           {
            "bin_start": 22.4,
            "bin_end": 23.8,
            "count": 0
           },
           {
            "bin_start": 23.8,
            "bin_end": 25.2,
            "count": 4
           },
           {
            "bin_start": 25.2,
            "bin_end": 26.6,
            "count": 5
           },
           {
            "bin_start": 26.6,
            "bin_end": 28,
            "count": 5
           },
           {
            "bin_start": 28,
            "bin_end": 29.4,
            "count": 24
           },
           {
            "bin_start": 29.4,
            "bin_end": 30.799999999999997,
            "count": 11
           },
           {
            "bin_start": 30.799999999999997,
            "bin_end": 32.2,
            "count": 22
           },
           {
            "bin_start": 32.2,
            "bin_end": 33.6,
            "count": 2
           },
           {
            "bin_start": 33.6,
            "bin_end": 35,
            "count": 5
           }
          ]
         }
        },
        {
         "name": "2nd_serve_return_won",
         "dtype": "int64",
         "stats": {
          "unique_count": 12,
          "nan_count": 0,
          "min": "42",
          "max": "55",
          "histogram": [
           {
            "bin_start": 42,
            "bin_end": 43.3,
            "count": 2
           },
           {
            "bin_start": 43.3,
            "bin_end": 44.6,
            "count": 0
           },
           {
            "bin_start": 44.6,
            "bin_end": 45.9,
            "count": 2
           },
           {
            "bin_start": 45.9,
            "bin_end": 47.2,
            "count": 9
           },
           {
            "bin_start": 47.2,
            "bin_end": 48.5,
            "count": 7
           },
           {
            "bin_start": 48.5,
            "bin_end": 49.8,
            "count": 10
           },
           {
            "bin_start": 49.8,
            "bin_end": 51.1,
            "count": 33
           },
           {
            "bin_start": 51.1,
            "bin_end": 52.4,
            "count": 7
           },
           {
            "bin_start": 52.4,
            "bin_end": 53.7,
            "count": 4
           },
           {
            "bin_start": 53.7,
            "bin_end": 55,
            "count": 6
           }
          ]
         }
        },
        {
         "name": "total_break_pts",
         "dtype": "int64",
         "stats": {
          "unique_count": 80,
          "nan_count": 0,
          "min": "58",
          "max": "10943",
          "histogram": [
           {
            "bin_start": 58,
            "bin_end": 1146.5,
            "count": 39
           },
           {
            "bin_start": 1146.5,
            "bin_end": 2235,
            "count": 19
           },
           {
            "bin_start": 2235,
            "bin_end": 3323.5,
            "count": 7
           },
           {
            "bin_start": 3323.5,
            "bin_end": 4412,
            "count": 8
           },
           {
            "bin_start": 4412,
            "bin_end": 5500.5,
            "count": 1
           },
           {
            "bin_start": 5500.5,
            "bin_end": 6589,
            "count": 3
           },
           {
            "bin_start": 6589,
            "bin_end": 7677.5,
            "count": 0
           },
           {
            "bin_start": 7677.5,
            "bin_end": 8766,
            "count": 1
           },
           {
            "bin_start": 8766,
            "bin_end": 9854.5,
            "count": 0
           },
           {
            "bin_start": 9854.5,
            "bin_end": 10943,
            "count": 2
           }
          ]
         }
        },
        {
         "name": "break_pts_conv",
         "dtype": "int64",
         "stats": {
          "unique_count": 13,
          "nan_count": 0,
          "min": "30",
          "max": "45",
          "histogram": [
           {
            "bin_start": 30,
            "bin_end": 31.5,
            "count": 2
           },
           {
            "bin_start": 31.5,
            "bin_end": 33,
            "count": 0
           },
           {
            "bin_start": 33,
            "bin_end": 34.5,
            "count": 1
           },
           {
            "bin_start": 34.5,
            "bin_end": 36,
            "count": 0
           },
           {
            "bin_start": 36,
            "bin_end": 37.5,
            "count": 13
           },
           {
            "bin_start": 37.5,
            "bin_end": 39,
            "count": 9
           },
           {
            "bin_start": 39,
            "bin_end": 40.5,
            "count": 25
           },
           {
            "bin_start": 40.5,
            "bin_end": 42,
            "count": 16
           },
           {
            "bin_start": 42,
            "bin_end": 43.5,
            "count": 10
           },
           {
            "bin_start": 43.5,
            "bin_end": 45,
            "count": 4
           }
          ]
         }
        },
        {
         "name": "return_games_played",
         "dtype": "int64",
         "stats": {
          "unique_count": 80,
          "nan_count": 0,
          "min": "121",
          "max": "14633",
          "histogram": [
           {
            "bin_start": 121,
            "bin_end": 1572.2,
            "count": 29
           },
           {
            "bin_start": 1572.2,
            "bin_end": 3023.4,
            "count": 22
           },
           {
            "bin_start": 3023.4,
            "bin_end": 4474.6,
            "count": 11
           },
           {
            "bin_start": 4474.6,
            "bin_end": 5925.8,
            "count": 3
           },
           {
            "bin_start": 5925.8,
            "bin_end": 7377,
            "count": 6
           },
           {
            "bin_start": 7377,
            "bin_end": 8828.2,
            "count": 2
           },
           {
            "bin_start": 8828.2,
            "bin_end": 10279.4,
            "count": 1
           },
           {
            "bin_start": 10279.4,
            "bin_end": 11730.6,
            "count": 4
           },
           {
            "bin_start": 11730.6,
            "bin_end": 13181.800000000001,
            "count": 0
           },
           {
            "bin_start": 13181.800000000001,
            "bin_end": 14633,
            "count": 2
           }
          ]
         }
        },
        {
         "name": "return_games_won",
         "dtype": "int64",
         "stats": {
          "unique_count": 20,
          "nan_count": 0,
          "min": "10",
          "max": "34",
          "histogram": [
           {
            "bin_start": 10,
            "bin_end": 12.4,
            "count": 2
           },
           {
            "bin_start": 12.4,
            "bin_end": 14.8,
            "count": 1
           },
           {
            "bin_start": 14.8,
            "bin_end": 17.2,
            "count": 6
           },
           {
            "bin_start": 17.2,
            "bin_end": 19.6,
            "count": 13
           },
           {
            "bin_start": 19.6,
            "bin_end": 22,
            "count": 10
           },
           {
            "bin_start": 22,
            "bin_end": 24.4,
            "count": 21
           },
           {
            "bin_start": 24.4,
            "bin_end": 26.8,
            "count": 10
           },
           {
            "bin_start": 26.8,
            "bin_end": 29.2,
            "count": 12
           },
           {
            "bin_start": 29.2,
            "bin_end": 31.599999999999998,
            "count": 1
           },
           {
            "bin_start": 31.599999999999998,
            "bin_end": 34,
            "count": 4
           }
          ]
         }
        },
        {
         "name": "return_points_won",
         "dtype": "int64",
         "stats": {
          "unique_count": 13,
          "nan_count": 0,
          "min": "28",
          "max": "42",
          "histogram": [
           {
            "bin_start": 28,
            "bin_end": 29.4,
            "count": 1
           },
           {
            "bin_start": 29.4,
            "bin_end": 30.8,
            "count": 1
           },
           {
            "bin_start": 30.8,
            "bin_end": 32.2,
            "count": 1
           },
           {
            "bin_start": 32.2,
            "bin_end": 33.6,
            "count": 3
           },
           {
            "bin_start": 33.6,
            "bin_end": 35,
            "count": 3
           },
           {
            "bin_start": 35,
            "bin_end": 36.4,
            "count": 17
           },
           {
            "bin_start": 36.4,
            "bin_end": 37.8,
            "count": 14
           },
           {
            "bin_start": 37.8,
            "bin_end": 39.2,
            "count": 28
           },
           {
            "bin_start": 39.2,
            "bin_end": 40.6,
            "count": 6
           },
           {
            "bin_start": 40.6,
            "bin_end": 42,
            "count": 6
           }
          ]
         }
        },
        {
         "name": "total_pts_won",
         "dtype": "int64",
         "stats": {
          "unique_count": 9,
          "nan_count": 0,
          "min": "47",
          "max": "55",
          "histogram": [
           {
            "bin_start": 47,
            "bin_end": 47.8,
            "count": 1
           },
           {
            "bin_start": 47.8,
            "bin_end": 48.6,
            "count": 4
           },
           {
            "bin_start": 48.6,
            "bin_end": 49.4,
            "count": 16
           },
           {
            "bin_start": 49.4,
            "bin_end": 50.2,
            "count": 26
           },
           {
            "bin_start": 50.2,
            "bin_end": 51,
            "count": 0
           },
           {
            "bin_start": 51,
            "bin_end": 51.8,
            "count": 19
           },
           {
            "bin_start": 51.8,
            "bin_end": 52.6,
            "count": 10
           },
           {
            "bin_start": 52.6,
            "bin_end": 53.4,
            "count": 2
           },
           {
            "bin_start": 53.4,
            "bin_end": 54.2,
            "count": 1
           },
           {
            "bin_start": 54.2,
            "bin_end": 55,
            "count": 1
           }
          ]
         }
        },
        {
         "name": "avg_aces_yr",
         "dtype": "float64",
         "stats": {
          "unique_count": 80,
          "nan_count": 0,
          "min": "7.0",
          "max": "908.9333333333333",
          "histogram": [
           {
            "bin_start": 7,
            "bin_end": 97.19333333333333,
            "count": 34
           },
           {
            "bin_start": 97.19333333333333,
            "bin_end": 187.38666666666666,
            "count": 21
           },
           {
            "bin_start": 187.38666666666666,
            "bin_end": 277.58,
            "count": 7
           },
           {
            "bin_start": 277.58,
            "bin_end": 367.7733333333333,
            "count": 8
           },
           {
            "bin_start": 367.7733333333333,
            "bin_end": 457.96666666666664,
            "count": 9
           },
           {
            "bin_start": 457.96666666666664,
            "bin_end": 548.16,
            "count": 0
           },
           {
            "bin_start": 548.16,
            "bin_end": 638.3533333333332,
            "count": 0
           },
           {
            "bin_start": 638.3533333333332,
            "bin_end": 728.5466666666666,
            "count": 0
           },
           {
            "bin_start": 728.5466666666666,
            "bin_end": 818.74,
            "count": 0
           },
           {
            "bin_start": 818.74,
            "bin_end": 908.9333333333333,
            "count": 1
           }
          ]
         }
        },
        {
         "name": "avg_double_faults_yr",
         "dtype": "float64",
         "stats": {
          "unique_count": 79,
          "nan_count": 0,
          "min": "4.6",
          "max": "274.0",
          "histogram": [
           {
            "bin_start": 4.6,
            "bin_end": 31.54,
            "count": 16
           },
           {
            "bin_start": 31.54,
            "bin_end": 58.48,
            "count": 20
           },
           {
            "bin_start": 58.48,
            "bin_end": 85.41999999999999,
            "count": 17
           },
           {
            "bin_start": 85.41999999999999,
            "bin_end": 112.35999999999999,
            "count": 12
           },
           {
            "bin_start": 112.35999999999999,
            "bin_end": 139.29999999999998,
            "count": 4
           },
           {
            "bin_start": 139.29999999999998,
            "bin_end": 166.23999999999998,
            "count": 6
           },
           {
            "bin_start": 166.23999999999998,
            "bin_end": 193.17999999999998,
            "count": 3
           },
           {
            "bin_start": 193.17999999999998,
            "bin_end": 220.11999999999998,
            "count": 1
           },
           {
            "bin_start": 220.11999999999998,
            "bin_end": 247.05999999999997,
            "count": 0
           },
           {
            "bin_start": 247.05999999999997,
            "bin_end": 274,
            "count": 1
           }
          ]
         }
        },
        {
         "name": "avg_break_points_faced_yr",
         "dtype": "float64",
         "stats": {
          "unique_count": 80,
          "nan_count": 0,
          "min": "19.6",
          "max": "322.0",
          "histogram": [
           {
            "bin_start": 19.6,
            "bin_end": 49.84,
            "count": 8
           },
           {
            "bin_start": 49.84,
            "bin_end": 80.08,
            "count": 6
           },
           {
            "bin_start": 80.08,
            "bin_end": 110.32,
            "count": 9
           },
           {
            "bin_start": 110.32,
            "bin_end": 140.56,
            "count": 10
           },
           {
            "bin_start": 140.56,
            "bin_end": 170.79999999999998,
            "count": 13
           },
           {
            "bin_start": 170.79999999999998,
            "bin_end": 201.04,
            "count": 5
           },
           {
            "bin_start": 201.04,
            "bin_end": 231.27999999999997,
            "count": 5
           },
           {
            "bin_start": 231.27999999999997,
            "bin_end": 261.52,
            "count": 11
           },
           {
            "bin_start": 261.52,
            "bin_end": 291.76,
            "count": 5
           },
           {
            "bin_start": 291.76,
            "bin_end": 322,
            "count": 8
           }
          ]
         }
        },
        {
         "name": "avg_service_games_played_yr",
         "dtype": "float64",
         "stats": {
          "unique_count": 80,
          "nan_count": 0,
          "min": "24.4",
          "max": "767.2631578947369",
          "histogram": [
           {
            "bin_start": 24.4,
            "bin_end": 98.6863157894737,
            "count": 10
           },
           {
            "bin_start": 98.6863157894737,
            "bin_end": 172.9726315789474,
            "count": 10
           },
           {
            "bin_start": 172.9726315789474,
            "bin_end": 247.25894736842108,
            "count": 12
           },
           {
            "bin_start": 247.25894736842108,
            "bin_end": 321.54526315789474,
            "count": 12
           },
           {
            "bin_start": 321.54526315789474,
            "bin_end": 395.8315789473684,
            "count": 8
           },
           {
            "bin_start": 395.8315789473684,
            "bin_end": 470.1178947368421,
            "count": 9
           },
           {
            "bin_start": 470.1178947368421,
            "bin_end": 544.4042105263158,
            "count": 8
           },
           {
            "bin_start": 544.4042105263158,
            "bin_end": 618.6905263157895,
            "count": 3
           },
           {
            "bin_start": 618.6905263157895,
            "bin_end": 692.9768421052632,
            "count": 4
           },
           {
            "bin_start": 692.9768421052632,
            "bin_end": 767.2631578947369,
            "count": 4
           }
          ]
         }
        },
        {
         "name": "avg_total_break_pts_yr",
         "dtype": "float64",
         "stats": {
          "unique_count": 79,
          "nan_count": 0,
          "min": "11.6",
          "max": "540.9473684210526",
          "histogram": [
           {
            "bin_start": 11.6,
            "bin_end": 64.53473684210526,
            "count": 12
           },
           {
            "bin_start": 64.53473684210526,
            "bin_end": 117.46947368421051,
            "count": 17
           },
           {
            "bin_start": 117.46947368421051,
            "bin_end": 170.40421052631578,
            "count": 12
           },
           {
            "bin_start": 170.40421052631578,
            "bin_end": 223.33894736842103,
            "count": 11
           },
           {
            "bin_start": 223.33894736842103,
            "bin_end": 276.2736842105263,
            "count": 9
           },
           {
            "bin_start": 276.2736842105263,
            "bin_end": 329.2084210526316,
            "count": 9
           },
           {
            "bin_start": 329.2084210526316,
            "bin_end": 382.1431578947368,
            "count": 6
           },
           {
            "bin_start": 382.1431578947368,
            "bin_end": 435.0778947368421,
            "count": 1
           },
           {
            "bin_start": 435.0778947368421,
            "bin_end": 488.0126315789474,
            "count": 1
           },
           {
            "bin_start": 488.0126315789474,
            "bin_end": 540.9473684210526,
            "count": 2
           }
          ]
         }
        },
        {
         "name": "avg_return_games_played_yr",
         "dtype": "float64",
         "stats": {
          "unique_count": 80,
          "nan_count": 0,
          "min": "24.2",
          "max": "746.2631578947369",
          "histogram": [
           {
            "bin_start": 24.2,
            "bin_end": 96.40631578947368,
            "count": 10
           },
           {
            "bin_start": 96.40631578947368,
            "bin_end": 168.61263157894734,
            "count": 9
           },
           {
            "bin_start": 168.61263157894734,
            "bin_end": 240.81894736842102,
            "count": 11
           },
           {
            "bin_start": 240.81894736842102,
            "bin_end": 313.0252631578947,
            "count": 14
           },
           {
            "bin_start": 313.0252631578947,
            "bin_end": 385.2315789473684,
            "count": 8
           },
           {
            "bin_start": 385.2315789473684,
            "bin_end": 457.43789473684205,
            "count": 8
           },
           {
            "bin_start": 457.43789473684205,
            "bin_end": 529.6442105263158,
            "count": 5
           },
           {
            "bin_start": 529.6442105263158,
            "bin_end": 601.8505263157895,
            "count": 7
           },
           {
            "bin_start": 601.8505263157895,
            "bin_end": 674.0568421052632,
            "count": 4
           },
           {
            "bin_start": 674.0568421052632,
            "bin_end": 746.2631578947369,
            "count": 4
           }
          ]
         }
        },
        {
         "name": "_deepnote_index_column",
         "dtype": "int64"
        }
       ],
       "rows": [
        {
         "player": "John Isner",
         "career_length": 15,
         "backhand_type": 2,
         "aces": 13634,
         "double_faults": 1674,
         "first_serve": 69,
         "1st_serve_points_won": 79,
         "2nd_serve_points_won": 56,
         "break_points_faced": 2936,
         "break_points_saved": 71,
         "service_games_played": 10485,
         "service_games_won": 92,
         "total_service_points_won": 72,
         "1st_serve_return_won": 22,
         "2nd_serve_return_won": 42,
         "total_break_pts": 3521,
         "break_pts_conv": 30,
         "return_games_played": 10371,
         "return_games_won": 10,
         "return_points_won": 30,
         "total_pts_won": 51,
         "avg_aces_yr": 908.9333333333333,
         "avg_double_faults_yr": 111.6,
         "avg_break_points_faced_yr": 195.73333333333332,
         "avg_service_games_played_yr": 699,
         "avg_total_break_pts_yr": 234.73333333333332,
         "avg_return_games_played_yr": 691.4,
         "_deepnote_index_column": 24
        },
        {
         "player": "Marin Cilic",
         "career_length": 17,
         "backhand_type": 2,
         "aces": 7778,
         "double_faults": 2521,
         "first_serve": 57,
         "1st_serve_points_won": 77,
         "2nd_serve_points_won": 52,
         "break_points_faced": 4890,
         "break_points_saved": 64,
         "service_games_played": 10790,
         "service_games_won": 84,
         "total_service_points_won": 66,
         "1st_serve_return_won": 30,
         "2nd_serve_return_won": 50,
         "total_break_pts": 6276,
         "break_pts_conv": 38,
         "return_games_played": 10660,
         "return_games_won": 23,
         "return_points_won": 38,
         "total_pts_won": 52,
         "avg_aces_yr": 457.52941176470586,
         "avg_double_faults_yr": 148.2941176470588,
         "avg_break_points_faced_yr": 287.6470588235294,
         "avg_service_games_played_yr": 634.7058823529412,
         "avg_total_break_pts_yr": 369.1764705882353,
         "avg_return_games_played_yr": 627.0588235294117,
         "_deepnote_index_column": 16
        },
        {
         "player": "Nick Kyrgios",
         "career_length": 9,
         "backhand_type": 2,
         "aces": 4035,
         "double_faults": 945,
         "first_serve": 66,
         "1st_serve_points_won": 77,
         "2nd_serve_points_won": 53,
         "break_points_faced": 1279,
         "break_points_saved": 67,
         "service_games_played": 3650,
         "service_games_won": 88,
         "total_service_points_won": 69,
         "1st_serve_return_won": 24,
         "2nd_serve_return_won": 47,
         "total_break_pts": 1498,
         "break_pts_conv": 39,
         "return_games_played": 3637,
         "return_games_won": 16,
         "return_points_won": 33,
         "total_pts_won": 51,
         "avg_aces_yr": 448.3333333333333,
         "avg_double_faults_yr": 105,
         "avg_break_points_faced_yr": 142.11111111111111,
         "avg_service_games_played_yr": 405.55555555555554,
         "avg_total_break_pts_yr": 166.44444444444446,
         "avg_return_games_played_yr": 404.1111111111111,
         "_deepnote_index_column": 44
        },
        {
         "player": "Alexander Zverev",
         "career_length": 9,
         "backhand_type": 2,
         "aces": 3974,
         "double_faults": 1973,
         "first_serve": 65,
         "1st_serve_points_won": 74,
         "2nd_serve_points_won": 50,
         "break_points_faced": 2709,
         "break_points_saved": 61,
         "service_games_played": 6037,
         "service_games_won": 82,
         "total_service_points_won": 66,
         "1st_serve_return_won": 31,
         "2nd_serve_return_won": 51,
         "total_break_pts": 3631,
         "break_pts_conv": 42,
         "return_games_played": 6045,
         "return_games_won": 25,
         "return_points_won": 38,
         "total_pts_won": 52,
         "avg_aces_yr": 441.55555555555554,
         "avg_double_faults_yr": 219.22222222222223,
         "avg_break_points_faced_yr": 301,
         "avg_service_games_played_yr": 670.7777777777778,
         "avg_total_break_pts_yr": 403.44444444444446,
         "avg_return_games_played_yr": 671.6666666666666,
         "_deepnote_index_column": 1
        },
        {
         "player": "Denis Shapovalov",
         "career_length": 5,
         "backhand_type": 1,
         "aces": 2130,
         "double_faults": 1370,
         "first_serve": 59,
         "1st_serve_points_won": 76,
         "2nd_serve_points_won": 52,
         "break_points_faced": 1610,
         "break_points_saved": 66,
         "service_games_played": 3358,
         "service_games_won": 84,
         "total_service_points_won": 66,
         "1st_serve_return_won": 28,
         "2nd_serve_return_won": 48,
         "total_break_pts": 1721,
         "break_pts_conv": 37,
         "return_games_played": 3350,
         "return_games_won": 19,
         "return_points_won": 36,
         "total_pts_won": 51,
         "avg_aces_yr": 426,
         "avg_double_faults_yr": 274,
         "avg_break_points_faced_yr": 322,
         "avg_service_games_played_yr": 671.6,
         "avg_total_break_pts_yr": 344.2,
         "avg_return_games_played_yr": 670,
         "_deepnote_index_column": 15
        },
        {
         "player": "Reilly Opelka",
         "career_length": 7,
         "backhand_type": 2,
         "aces": 2967,
         "double_faults": 466,
         "first_serve": 64,
         "1st_serve_points_won": 79,
         "2nd_serve_points_won": 55,
         "break_points_faced": 699,
         "break_points_saved": 68,
         "service_games_played": 2217,
         "service_games_won": 90,
         "total_service_points_won": 70,
         "1st_serve_return_won": 21,
         "2nd_serve_return_won": 42,
         "total_break_pts": 709,
         "break_pts_conv": 31,
         "return_games_played": 2187,
         "return_games_won": 10,
         "return_points_won": 28,
         "total_pts_won": 50,
         "avg_aces_yr": 423.85714285714283,
         "avg_double_faults_yr": 66.57142857142857,
         "avg_break_points_faced_yr": 99.85714285714286,
         "avg_service_games_played_yr": 316.7142857142857,
         "avg_total_break_pts_yr": 101.28571428571429,
         "avg_return_games_played_yr": 312.42857142857144,
         "_deepnote_index_column": 17
        },
        {
         "player": "Felix Auger-Aliassime",
         "career_length": 5,
         "backhand_type": 2,
         "aces": 1945,
         "double_faults": 919,
         "first_serve": 64,
         "1st_serve_points_won": 75,
         "2nd_serve_points_won": 50,
         "break_points_faced": 1317,
         "break_points_saved": 63,
         "service_games_played": 2719,
         "service_games_won": 82,
         "total_service_points_won": 66,
         "1st_serve_return_won": 30,
         "2nd_serve_return_won": 48,
         "total_break_pts": 1466,
         "break_pts_conv": 38,
         "return_games_played": 2678,
         "return_games_won": 21,
         "return_points_won": 37,
         "total_pts_won": 51,
         "avg_aces_yr": 389,
         "avg_double_faults_yr": 183.8,
         "avg_break_points_faced_yr": 263.4,
         "avg_service_games_played_yr": 543.8,
         "avg_total_break_pts_yr": 293.2,
         "avg_return_games_played_yr": 535.6,
         "_deepnote_index_column": 8
        },
        {
         "player": "Stefanos Tsitsipas",
         "career_length": 6,
         "backhand_type": 1,
         "aces": 2329,
         "double_faults": 735,
         "first_serve": 62,
         "1st_serve_points_won": 76,
         "2nd_serve_points_won": 55,
         "break_points_faced": 1679,
         "break_points_saved": 65,
         "service_games_played": 4250,
         "service_games_won": 86,
         "total_service_points_won": 68,
         "1st_serve_return_won": 29,
         "2nd_serve_return_won": 49,
         "total_break_pts": 2205,
         "break_pts_conv": 40,
         "return_games_played": 4154,
         "return_games_won": 21,
         "return_points_won": 36,
         "total_pts_won": 52,
         "avg_aces_yr": 388.1666666666667,
         "avg_double_faults_yr": 122.5,
         "avg_break_points_faced_yr": 279.8333333333333,
         "avg_service_games_played_yr": 708.3333333333334,
         "avg_total_break_pts_yr": 367.5,
         "avg_return_games_played_yr": 692.3333333333334,
         "_deepnote_index_column": 5
        },
        {
         "player": "Taylor Fritz",
         "career_length": 7,
         "backhand_type": 2,
         "aces": 2596,
         "double_faults": 725,
         "first_serve": 59,
         "1st_serve_points_won": 75,
         "2nd_serve_points_won": 51,
         "break_points_faced": 1747,
         "break_points_saved": 62,
         "service_games_played": 3644,
         "service_games_won": 82,
         "total_service_points_won": 65,
         "1st_serve_return_won": 26,
         "2nd_serve_return_won": 50,
         "total_break_pts": 1921,
         "break_pts_conv": 36,
         "return_games_played": 3616,
         "return_games_won": 19,
         "return_points_won": 35,
         "total_pts_won": 50,
         "avg_aces_yr": 370.85714285714283,
         "avg_double_faults_yr": 103.57142857142857,
         "avg_break_points_faced_yr": 249.57142857142858,
         "avg_service_games_played_yr": 520.5714285714286,
         "avg_total_break_pts_yr": 274.42857142857144,
         "avg_return_games_played_yr": 516.5714285714286,
         "_deepnote_index_column": 13
        },
        {
         "player": "Gael Monfils",
         "career_length": 18,
         "backhand_type": 2,
         "aces": 6668,
         "double_faults": 2917,
         "first_serve": 62,
         "1st_serve_points_won": 73,
         "2nd_serve_points_won": 50,
         "break_points_faced": 5061,
         "break_points_saved": 62,
         "service_games_played": 10120,
         "service_games_won": 81,
         "total_service_points_won": 64,
         "1st_serve_return_won": 32,
         "2nd_serve_return_won": 49,
         "total_break_pts": 6203,
         "break_pts_conv": 41,
         "return_games_played": 10112,
         "return_games_won": 25,
         "return_points_won": 39,
         "total_pts_won": 51,
         "avg_aces_yr": 370.44444444444446,
         "avg_double_faults_yr": 162.05555555555554,
         "avg_break_points_faced_yr": 281.1666666666667,
         "avg_service_games_played_yr": 562.2222222222222,
         "avg_total_break_pts_yr": 344.6111111111111,
         "avg_return_games_played_yr": 561.7777777777778,
         "_deepnote_index_column": 22
        }
       ]
      },
      "text/plain": "                     player  career_length  backhand_type   aces  \\\n24               John Isner             15              2  13634   \n16              Marin Cilic             17              2   7778   \n44             Nick Kyrgios              9              2   4035   \n1          Alexander Zverev              9              2   3974   \n15         Denis Shapovalov              5              1   2130   \n..                      ...            ...            ...    ...   \n79         Alejandro Tabilo              7              2    143   \n49              Alex Molcan              7              2    128   \n35           Sebastian Baez              4              2     65   \n69           Federico Coria             12              2    180   \n78  Tomas Martin Etcheverry              5              2     35   \n\n    double_faults  first_serve  1st_serve_points_won  2nd_serve_points_won  \\\n24           1674           69                    79                    56   \n16           2521           57                    77                    52   \n44            945           66                    77                    53   \n1            1973           65                    74                    50   \n15           1370           59                    76                    52   \n..            ...          ...                   ...                   ...   \n79             90           64                    68                    48   \n49             83           65                    67                    53   \n35             61           73                    64                    53   \n69            178           66                    62                    49   \n78             23           71                    64                    45   \n\n    break_points_faced  break_points_saved  ...  return_games_played  \\\n24                2936                  71  ...                10371   \n16                4890                  64  ...                10660   \n44                1279                  67  ...                 3637   \n1                 2709                  61  ...                 6045   \n15                1610                  66  ...                 3350   \n..                 ...                 ...  ...                  ...   \n79                 220                  56  ...                  331   \n49                 238                  56  ...                  439   \n35                 286                  60  ...                  457   \n69                 644                  57  ...                  867   \n78                  98                  61  ...                  121   \n\n    return_games_won  return_points_won  total_pts_won  avg_aces_yr  \\\n24                10                 30             51   908.933333   \n16                23                 38             52   457.529412   \n44                16                 33             51   448.333333   \n1                 25                 38             52   441.555556   \n15                19                 36             51   426.000000   \n..               ...                ...            ...          ...   \n79                27                 39             50    20.428571   \n49                27                 40             51    18.285714   \n35                28                 40             50    16.250000   \n69                27                 39             49    15.000000   \n78                17                 36             47     7.000000   \n\n    avg_double_faults_yr  avg_break_points_faced_yr  \\\n24            111.600000                 195.733333   \n16            148.294118                 287.647059   \n44            105.000000                 142.111111   \n1             219.222222                 301.000000   \n15            274.000000                 322.000000   \n..                   ...                        ...   \n79             12.857143                  31.428571   \n49             11.857143                  34.000000   \n35             15.250000                  71.500000   \n69             14.833333                  53.666667   \n78              4.600000                  19.600000   \n\n    avg_service_games_played_yr  avg_total_break_pts_yr  \\\n24                   699.000000              234.733333   \n16                   634.705882              369.176471   \n44                   405.555556              166.444444   \n1                    670.777778              403.444444   \n15                   671.600000              344.200000   \n..                          ...                     ...   \n79                    49.571429               28.857143   \n49                    63.428571               40.857143   \n35                   112.750000               79.750000   \n69                    71.166667               44.833333   \n78                    24.400000               11.600000   \n\n    avg_return_games_played_yr  \n24                  691.400000  \n16                  627.058824  \n44                  404.111111  \n1                   671.666667  \n15                  670.000000  \n..                         ...  \n79                   47.285714  \n49                   62.714286  \n35                  114.250000  \n69                   72.250000  \n78                   24.200000  \n\n[80 rows x 27 columns]",
      "text/html": "<div>\n<style scoped>\n    .dataframe tbody tr th:only-of-type {\n        vertical-align: middle;\n    }\n\n    .dataframe tbody tr th {\n        vertical-align: top;\n    }\n\n    .dataframe thead th {\n        text-align: right;\n    }\n</style>\n<table border=\"1\" class=\"dataframe\">\n  <thead>\n    <tr style=\"text-align: right;\">\n      <th></th>\n      <th>player</th>\n      <th>career_length</th>\n      <th>backhand_type</th>\n      <th>aces</th>\n      <th>double_faults</th>\n      <th>first_serve</th>\n      <th>1st_serve_points_won</th>\n      <th>2nd_serve_points_won</th>\n      <th>break_points_faced</th>\n      <th>break_points_saved</th>\n      <th>...</th>\n      <th>return_games_played</th>\n      <th>return_games_won</th>\n      <th>return_points_won</th>\n      <th>total_pts_won</th>\n      <th>avg_aces_yr</th>\n      <th>avg_double_faults_yr</th>\n      <th>avg_break_points_faced_yr</th>\n      <th>avg_service_games_played_yr</th>\n      <th>avg_total_break_pts_yr</th>\n      <th>avg_return_games_played_yr</th>\n    </tr>\n  </thead>\n  <tbody>\n    <tr>\n      <th>24</th>\n      <td>John Isner</td>\n      <td>15</td>\n      <td>2</td>\n      <td>13634</td>\n      <td>1674</td>\n      <td>69</td>\n      <td>79</td>\n      <td>56</td>\n      <td>2936</td>\n      <td>71</td>\n      <td>...</td>\n      <td>10371</td>\n      <td>10</td>\n      <td>30</td>\n      <td>51</td>\n      <td>908.933333</td>\n      <td>111.600000</td>\n      <td>195.733333</td>\n      <td>699.000000</td>\n      <td>234.733333</td>\n      <td>691.400000</td>\n    </tr>\n    <tr>\n      <th>16</th>\n      <td>Marin Cilic</td>\n      <td>17</td>\n      <td>2</td>\n      <td>7778</td>\n      <td>2521</td>\n      <td>57</td>\n      <td>77</td>\n      <td>52</td>\n      <td>4890</td>\n      <td>64</td>\n      <td>...</td>\n      <td>10660</td>\n      <td>23</td>\n      <td>38</td>\n      <td>52</td>\n      <td>457.529412</td>\n      <td>148.294118</td>\n      <td>287.647059</td>\n      <td>634.705882</td>\n      <td>369.176471</td>\n      <td>627.058824</td>\n    </tr>\n    <tr>\n      <th>44</th>\n      <td>Nick Kyrgios</td>\n      <td>9</td>\n      <td>2</td>\n      <td>4035</td>\n      <td>945</td>\n      <td>66</td>\n      <td>77</td>\n      <td>53</td>\n      <td>1279</td>\n      <td>67</td>\n      <td>...</td>\n      <td>3637</td>\n      <td>16</td>\n      <td>33</td>\n      <td>51</td>\n      <td>448.333333</td>\n      <td>105.000000</td>\n      <td>142.111111</td>\n      <td>405.555556</td>\n      <td>166.444444</td>\n      <td>404.111111</td>\n    </tr>\n    <tr>\n      <th>1</th>\n      <td>Alexander Zverev</td>\n      <td>9</td>\n      <td>2</td>\n      <td>3974</td>\n      <td>1973</td>\n      <td>65</td>\n      <td>74</td>\n      <td>50</td>\n      <td>2709</td>\n      <td>61</td>\n      <td>...</td>\n      <td>6045</td>\n      <td>25</td>\n      <td>38</td>\n      <td>52</td>\n      <td>441.555556</td>\n      <td>219.222222</td>\n      <td>301.000000</td>\n      <td>670.777778</td>\n      <td>403.444444</td>\n      <td>671.666667</td>\n    </tr>\n    <tr>\n      <th>15</th>\n      <td>Denis Shapovalov</td>\n      <td>5</td>\n      <td>1</td>\n      <td>2130</td>\n      <td>1370</td>\n      <td>59</td>\n      <td>76</td>\n      <td>52</td>\n      <td>1610</td>\n      <td>66</td>\n      <td>...</td>\n      <td>3350</td>\n      <td>19</td>\n      <td>36</td>\n      <td>51</td>\n      <td>426.000000</td>\n      <td>274.000000</td>\n      <td>322.000000</td>\n      <td>671.600000</td>\n      <td>344.200000</td>\n      <td>670.000000</td>\n    </tr>\n    <tr>\n      <th>...</th>\n      <td>...</td>\n      <td>...</td>\n      <td>...</td>\n      <td>...</td>\n      <td>...</td>\n      <td>...</td>\n      <td>...</td>\n      <td>...</td>\n      <td>...</td>\n      <td>...</td>\n      <td>...</td>\n      <td>...</td>\n      <td>...</td>\n      <td>...</td>\n      <td>...</td>\n      <td>...</td>\n      <td>...</td>\n      <td>...</td>\n      <td>...</td>\n      <td>...</td>\n      <td>...</td>\n    </tr>\n    <tr>\n      <th>79</th>\n      <td>Alejandro Tabilo</td>\n      <td>7</td>\n      <td>2</td>\n      <td>143</td>\n      <td>90</td>\n      <td>64</td>\n      <td>68</td>\n      <td>48</td>\n      <td>220</td>\n      <td>56</td>\n      <td>...</td>\n      <td>331</td>\n      <td>27</td>\n      <td>39</td>\n      <td>50</td>\n      <td>20.428571</td>\n      <td>12.857143</td>\n      <td>31.428571</td>\n      <td>49.571429</td>\n      <td>28.857143</td>\n      <td>47.285714</td>\n    </tr>\n    <tr>\n      <th>49</th>\n      <td>Alex Molcan</td>\n      <td>7</td>\n      <td>2</td>\n      <td>128</td>\n      <td>83</td>\n      <td>65</td>\n      <td>67</td>\n      <td>53</td>\n      <td>238</td>\n      <td>56</td>\n      <td>...</td>\n      <td>439</td>\n      <td>27</td>\n      <td>40</td>\n      <td>51</td>\n      <td>18.285714</td>\n      <td>11.857143</td>\n      <td>34.000000</td>\n      <td>63.428571</td>\n      <td>40.857143</td>\n      <td>62.714286</td>\n    </tr>\n    <tr>\n      <th>35</th>\n      <td>Sebastian Baez</td>\n      <td>4</td>\n      <td>2</td>\n      <td>65</td>\n      <td>61</td>\n      <td>73</td>\n      <td>64</td>\n      <td>53</td>\n      <td>286</td>\n      <td>60</td>\n      <td>...</td>\n      <td>457</td>\n      <td>28</td>\n      <td>40</td>\n      <td>50</td>\n      <td>16.250000</td>\n      <td>15.250000</td>\n      <td>71.500000</td>\n      <td>112.750000</td>\n      <td>79.750000</td>\n      <td>114.250000</td>\n    </tr>\n    <tr>\n      <th>69</th>\n      <td>Federico Coria</td>\n      <td>12</td>\n      <td>2</td>\n      <td>180</td>\n      <td>178</td>\n      <td>66</td>\n      <td>62</td>\n      <td>49</td>\n      <td>644</td>\n      <td>57</td>\n      <td>...</td>\n      <td>867</td>\n      <td>27</td>\n      <td>39</td>\n      <td>49</td>\n      <td>15.000000</td>\n      <td>14.833333</td>\n      <td>53.666667</td>\n      <td>71.166667</td>\n      <td>44.833333</td>\n      <td>72.250000</td>\n    </tr>\n    <tr>\n      <th>78</th>\n      <td>Tomas Martin Etcheverry</td>\n      <td>5</td>\n      <td>2</td>\n      <td>35</td>\n      <td>23</td>\n      <td>71</td>\n      <td>64</td>\n      <td>45</td>\n      <td>98</td>\n      <td>61</td>\n      <td>...</td>\n      <td>121</td>\n      <td>17</td>\n      <td>36</td>\n      <td>47</td>\n      <td>7.000000</td>\n      <td>4.600000</td>\n      <td>19.600000</td>\n      <td>24.400000</td>\n      <td>11.600000</td>\n      <td>24.200000</td>\n    </tr>\n  </tbody>\n</table>\n<p>80 rows × 27 columns</p>\n</div>"
     },
     "metadata": {}
    }
   ],
   "execution_count": null
  },
  {
   "cell_type": "markdown",
   "source": "This may seem like an error, but it isn't. John Isner is widely known in the tennis community for having monster serves, sometimes he is referred to as a 'serve bot'. He has been active for 15 years, and has served 13,634 aces. He serves about 400 more aces per year than anyone else on tour.",
   "metadata": {
    "cell_id": "c5c95d44101c48e0a6c9e48c602f541a",
    "tags": [],
    "is_collapsed": false,
    "formattedRanges": [],
    "deepnote_cell_type": "text-cell-p"
   }
  },
  {
   "cell_type": "markdown",
   "source": "Aces are only part of the equation, let's look at some other serving statistics.",
   "metadata": {
    "cell_id": "c25084a2fae546b88f9cb55b681aa964",
    "tags": [],
    "is_collapsed": false,
    "formattedRanges": [],
    "deepnote_cell_type": "text-cell-p"
   }
  },
  {
   "cell_type": "markdown",
   "source": "Tennis players are given 2 serves for each point, if both go out this is called a 'double fault' and results in a loss of the point.",
   "metadata": {
    "cell_id": "761d0c73ee704a349173d6c858b72864",
    "tags": [],
    "is_collapsed": false,
    "formattedRanges": [],
    "deepnote_cell_type": "text-cell-p"
   }
  },
  {
   "cell_type": "code",
   "source": "plt.scatter(tennis[\"player\"], tennis[\"avg_double_faults_yr\"])\nplt.xticks(rotation = 90)\nplt.show()",
   "metadata": {
    "cell_id": "969c2706476b4bf79e317328a9c14b6e",
    "tags": [],
    "deepnote_to_be_reexecuted": false,
    "source_hash": "714229fc",
    "execution_start": 1656081719930,
    "execution_millis": 2624,
    "deepnote_cell_type": "code",
    "deepnote_cell_height": 515,
    "deepnote_output_heights": [
     382
    ]
   },
   "outputs": [
    {
     "data": {
      "text/plain": "<Figure size 432x288 with 1 Axes>",
      "image/png": "[encoded data removed]"
     },
     "metadata": {
      "needs_background": "light",
      "image/png": {
       "width": 375,
       "height": 380
      }
     },
     "output_type": "display_data"
    }
   ],
   "execution_count": null
  },
  {
   "cell_type": "markdown",
   "source": "There is a negative relationship with ranking and average double faults with some outliers.",
   "metadata": {
    "cell_id": "780bb953d1de47d5b5c7c4152b694abd",
    "tags": [],
    "is_collapsed": false,
    "formattedRanges": [],
    "deepnote_cell_type": "text-cell-p"
   }
  },
  {
   "cell_type": "code",
   "source": "plt.scatter(tennis.iloc[0:25][\"player\"], tennis.iloc[0:25][\"avg_double_faults_yr\"])\nplt.xticks(rotation = 90)\nplt.show()",
   "metadata": {
    "cell_id": "ade0f68b2f02497ca47c305791712f37",
    "tags": [],
    "deepnote_to_be_reexecuted": false,
    "source_hash": "f83b51be",
    "execution_start": 1656082288812,
    "execution_millis": 867,
    "deepnote_cell_type": "code",
    "deepnote_cell_height": 483,
    "deepnote_output_heights": [
     350
    ]
   },
   "outputs": [
    {
     "data": {
      "text/plain": "<Figure size 432x288 with 1 Axes>",
      "image/png": "[encoded data removed]"
     },
     "metadata": {
      "needs_background": "light",
      "image/png": {
       "width": 375,
       "height": 348
      }
     },
     "output_type": "display_data"
    }
   ],
   "execution_count": null
  },
  {
   "cell_type": "markdown",
   "source": "The biggest outlier is Denis Shapovalov, there is no explanation other than nerves, etc. Alexander Zverev is another outlier, at rank 2 his double faults are quite high, he has a solid game if his serves do go in so that helps, and indicates that double faults aren't as important as other statistics.",
   "metadata": {
    "cell_id": "e36e2cc0dedd4c98b5ae4a7908f3b488",
    "tags": [],
    "is_collapsed": false,
    "formattedRanges": [],
    "deepnote_cell_type": "text-cell-p"
   }
  },
  {
   "cell_type": "markdown",
   "source": "In the end, it matters who is winning their service games, so lets take a look.",
   "metadata": {
    "cell_id": "d65dd44ca4854b9cac459381c2507e3f",
    "tags": [],
    "is_collapsed": false,
    "formattedRanges": [],
    "deepnote_cell_type": "text-cell-p"
   }
  },
  {
   "cell_type": "code",
   "source": "tennis['total_service_games_won'] = tennis['service_games_played'] * 0.01*tennis['service_games_won']\ntennis['avg_service_won_yr'] = tennis.apply(lambda x : x['total_service_games_won'] / float(x['career_length']), axis = 1)\n\ntennis['total_return_games_won'] = tennis['return_games_played'] * 0.01*tennis['return_games_won']\ntennis['avg_return_won_yr'] = tennis.apply(lambda x : x['total_return_games_won'] / float(x['career_length']), axis = 1)\n",
   "metadata": {
    "cell_id": "b7002b96d7fc4434b3a0d3c65cc76729",
    "tags": [],
    "deepnote_to_be_reexecuted": false,
    "source_hash": "daa692f4",
    "execution_start": 1656082769290,
    "execution_millis": 0,
    "deepnote_cell_type": "code",
    "deepnote_cell_height": 171
   },
   "outputs": [],
   "execution_count": null
  },
  {
   "cell_type": "code",
   "source": "plt.scatter(tennis[\"player\"], tennis[\"avg_service_won_yr\"])\nplt.xticks(rotation = 90)\nplt.show()",
   "metadata": {
    "cell_id": "aede538324e341e99eac798559fc7b35",
    "tags": [],
    "deepnote_to_be_reexecuted": false,
    "source_hash": "9d5278ac",
    "execution_start": 1656082789495,
    "execution_millis": 2483,
    "deepnote_cell_type": "code",
    "deepnote_cell_height": 515,
    "deepnote_output_heights": [
     382
    ]
   },
   "outputs": [
    {
     "data": {
      "text/plain": "<Figure size 432x288 with 1 Axes>",
      "image/png": "[encoded data removed]"
     },
     "metadata": {
      "needs_background": "light",
      "image/png": {
       "width": 375,
       "height": 380
      }
     },
     "output_type": "display_data"
    }
   ],
   "execution_count": null
  },
  {
   "cell_type": "markdown",
   "source": "We see that signature negative relationship again, which makes sense. Let's zoom in on the top 30 where the pattern is less obvious.",
   "metadata": {
    "cell_id": "ffdd27f547b84025b6a2f622261dff23",
    "tags": [],
    "is_collapsed": false,
    "formattedRanges": [],
    "deepnote_cell_type": "text-cell-p"
   }
  },
  {
   "cell_type": "code",
   "source": "plt.scatter(tennis.iloc[0:31][\"player\"], tennis.iloc[0:31][\"avg_service_won_yr\"])\nplt.xticks(rotation = 90)\nplt.show()",
   "metadata": {
    "cell_id": "3563a1d977b547bd9ba599ab6b971809",
    "tags": [],
    "deepnote_to_be_reexecuted": false,
    "source_hash": "db7f852",
    "execution_start": 1656082930343,
    "execution_millis": 921,
    "deepnote_cell_type": "code",
    "deepnote_cell_height": 497,
    "deepnote_output_heights": [
     364
    ]
   },
   "outputs": [
    {
     "data": {
      "text/plain": "<Figure size 432x288 with 1 Axes>",
      "image/png": "[encoded data removed]"
     },
     "metadata": {
      "needs_background": "light",
      "image/png": {
       "width": 375,
       "height": 362
      }
     },
     "output_type": "display_data"
    }
   ],
   "execution_count": null
  },
  {
   "cell_type": "markdown",
   "source": "We can see our old friend John Isner has stats similar to Novak Djokovic and Rafa Nadal, considered to be the best in the sport (maybe I'll add Roger Federer to the data later) due to his strong serving skills. This stat of course relies on the amount of matches played in a year, but to be in the top 30 you have to play a lot and win a lot.",
   "metadata": {
    "cell_id": "4af6b21f91344d61a0647176c5984fa4",
    "tags": [],
    "is_collapsed": false,
    "formattedRanges": [],
    "deepnote_cell_type": "text-cell-p"
   }
  },
  {
   "cell_type": "markdown",
   "source": "The last serving statistic we will look at is break points saved. A break point is when the player you are serving against has the chance to win the game on your serve. A players ability to save these is a good reflection of how they handle pressure and if they can focus and stop their opponent.",
   "metadata": {
    "cell_id": "44b066b84dd849fea20b38af7acae260",
    "tags": [],
    "is_collapsed": false,
    "formattedRanges": [],
    "deepnote_cell_type": "text-cell-p"
   }
  },
  {
   "cell_type": "code",
   "source": "tennis['total_break_points_saved'] = tennis['break_points_faced'] * 0.01*tennis['break_points_saved']\ntennis['avg_break_saved_yr'] = tennis.apply(lambda x : x['total_break_points_saved'] / float(x['career_length']), axis = 1)\n",
   "metadata": {
    "cell_id": "5f1ed14d08a44d188e5d44117e94c4fd",
    "tags": [],
    "deepnote_to_be_reexecuted": false,
    "source_hash": "cbfcfc24",
    "execution_start": 1656083862850,
    "execution_millis": 1,
    "deepnote_cell_type": "code",
    "deepnote_cell_height": 117
   },
   "outputs": [],
   "execution_count": null
  },
  {
   "cell_type": "code",
   "source": "plt.scatter(tennis.iloc[0:31][\"player\"], tennis.iloc[0:31][\"avg_break_saved_yr\"])\nplt.scatter(tennis.iloc[0:31][\"player\"], tennis.iloc[0:31][\"avg_break_points_faced_yr\"])\nplt.xticks(rotation = 90)\nplt.show()",
   "metadata": {
    "cell_id": "1210f6cc87ef46978f2d352fc904ee5b",
    "tags": [],
    "deepnote_to_be_reexecuted": false,
    "source_hash": "244221b3",
    "execution_start": 1656083957886,
    "execution_millis": 1014,
    "deepnote_cell_type": "code",
    "deepnote_cell_height": 515,
    "deepnote_output_heights": [
     364
    ]
   },
   "outputs": [
    {
     "data": {
      "text/plain": "<Figure size 432x288 with 1 Axes>",
      "image/png": "[encoded data removed]"
     },
     "metadata": {
      "needs_background": "light",
      "image/png": {
       "width": 375,
       "height": 362
      }
     },
     "output_type": "display_data"
    }
   ],
   "execution_count": null
  },
  {
   "cell_type": "markdown",
   "source": "This shows the avg break points faced and the avg break points saved, but its hard to tell what's actually going on.",
   "metadata": {
    "cell_id": "7151c9f67c1544c3a9cb52855b5120fd",
    "tags": [],
    "is_collapsed": false,
    "formattedRanges": [],
    "deepnote_cell_type": "text-cell-p"
   }
  },
  {
   "cell_type": "code",
   "source": "plt.scatter(tennis.iloc[0:31][\"player\"], tennis.iloc[0:31][\"avg_break_saved_yr\"]/tennis.iloc[0:31][\"avg_break_points_faced_yr\"])\nplt.xticks(rotation = 90)\nplt.show()",
   "metadata": {
    "cell_id": "4fe646c1888b4821ac7d8380a963b68e",
    "tags": [],
    "deepnote_to_be_reexecuted": false,
    "source_hash": "9bd1beff",
    "execution_start": 1656084096598,
    "execution_millis": 532,
    "deepnote_cell_type": "code",
    "deepnote_cell_height": 497,
    "deepnote_output_heights": [
     364
    ]
   },
   "outputs": [
    {
     "data": {
      "text/plain": "<Figure size 432x288 with 1 Axes>",
      "image/png": "[encoded data removed]"
     },
     "metadata": {
      "needs_background": "light",
      "image/png": {
       "width": 378,
       "height": 362
      }
     },
     "output_type": "display_data"
    }
   ],
   "execution_count": null
  },
  {
   "cell_type": "markdown",
   "source": "This plot shows the percentage of break points saved by the player, the highest percentage is.... John Isner! If he faces a break point he will just serve an ace and be right back in it! Some other notable players are Matteo Berrettini and Riley Opelka, if you recall, these players also have very good serves/ace rates, so this definitely helps with saving break points.",
   "metadata": {
    "cell_id": "54f6fa1ded054901a3ea735e4628afdd",
    "tags": [],
    "is_collapsed": false,
    "formattedRanges": [],
    "deepnote_cell_type": "text-cell-p"
   }
  },
  {
   "cell_type": "markdown",
   "source": "The lowest we see is Diego Schwartzman, I know his serve is pretty weak because he is one of the shortest players on tour, where John Isner is one of the tallest.",
   "metadata": {
    "cell_id": "22ddd28533f34277b02e3dd493707419",
    "tags": [],
    "is_collapsed": false,
    "formattedRanges": [],
    "deepnote_cell_type": "text-cell-p"
   }
  },
  {
   "cell_type": "markdown",
   "source": "We have explored several metrics, and now I would like to quantify them into one, which would give me the ability to rank all the players based on their serves and service games.",
   "metadata": {
    "cell_id": "8d38a4aa10e04c099ffbd3ccad5c4446",
    "tags": [],
    "is_collapsed": false,
    "formattedRanges": [],
    "deepnote_cell_type": "text-cell-p"
   }
  },
  {
   "cell_type": "markdown",
   "source": "- Aces\n- Double Faults\n- Service Games Won\n- Break Points Saved",
   "metadata": {
    "cell_id": "dd631722b89d4849b0ab5f1c2c33e94b",
    "tags": [],
    "deepnote_cell_type": "markdown",
    "deepnote_cell_height": 145.5625
   }
  },
  {
   "cell_type": "code",
   "source": "tennis",
   "metadata": {
    "cell_id": "75396e0d1d73424bb27e1d70ef04246c",
    "tags": [],
    "deepnote_to_be_reexecuted": false,
    "source_hash": "b5f2c40f",
    "execution_start": 1656087017630,
    "execution_millis": 196,
    "deepnote_cell_type": "code",
    "deepnote_cell_height": 66
   },
   "outputs": [
    {
     "output_type": "error",
     "ename": "NameError",
     "evalue": "name 'tennis' is not defined",
     "traceback": [
      "\u001b[0;31m---------------------------------------------------------------------------\u001b[0m",
      "\u001b[0;31mNameError\u001b[0m                                 Traceback (most recent call last)",
      "\u001b[0;32m<ipython-input-1-53ef7d4a14dd>\u001b[0m in \u001b[0;36m<cell line: 1>\u001b[0;34m()\u001b[0m\n\u001b[0;32m----> 1\u001b[0;31m \u001b[0mtennis\u001b[0m\u001b[0;34m\u001b[0m\u001b[0;34m\u001b[0m\u001b[0m\n\u001b[0m",
      "\u001b[0;31mNameError\u001b[0m: name 'tennis' is not defined"
     ]
    }
   ],
   "execution_count": 1
  },
  {
   "cell_type": "code",
   "source": "tennis['serve_metric'] = tennis[''] + tennis[''] + tennis[''] + tennis['']",
   "metadata": {
    "cell_id": "ac18751040d340d29349f3a789085b91",
    "tags": [],
    "owner_user_id": "f4dc0182-7c34-4962-a1d6-446635695a61",
    "deepnote_cell_type": "code",
    "deepnote_cell_height": 66
   },
   "outputs": [],
   "execution_count": null
  },
  {
   "cell_type": "code",
   "source": "",
   "metadata": {
    "cell_id": "9d2d4d12cf454de89af3d30c3344c81e",
    "tags": [],
    "deepnote_cell_type": "code",
    "deepnote_cell_height": 66
   },
   "outputs": [],
   "execution_count": null
  },
  {
   "cell_type": "code",
   "source": "",
   "metadata": {
    "cell_id": "0bf32af17703473eb770e9d322ad4f45",
    "tags": [],
    "deepnote_cell_type": "code",
    "deepnote_cell_height": 66
   },
   "outputs": [],
   "execution_count": null
  },
  {
   "cell_type": "code",
   "source": "tennis",
   "metadata": {
    "cell_id": "625b4f4477224c5c8ff9d894f52931d7",
    "tags": [],
    "deepnote_to_be_reexecuted": false,
    "source_hash": "b5f2c40f",
    "execution_start": 1656081335820,
    "execution_millis": 108,
    "deepnote_cell_type": "code",
    "deepnote_cell_height": 617
   },
   "outputs": [
    {
     "output_type": "execute_result",
     "execution_count": 30,
     "data": {
      "application/vnd.deepnote.dataframe.v3+json": {
       "column_count": 31,
       "row_count": 80,
       "columns": [
        {
         "name": "player",
         "dtype": "object",
         "stats": {
          "unique_count": 80,
          "nan_count": 0,
          "categories": [
           {
            "name": "Daniil Medvedev",
            "count": 1
           },
           {
            "name": "Alexander Zverev",
            "count": 1
           },
           {
            "name": "78 others",
            "count": 78
           }
          ]
         }
        },
        {
         "name": "career_length",
         "dtype": "int64",
         "stats": {
          "unique_count": 20,
          "nan_count": 0,
          "min": "1",
          "max": "21",
          "histogram": [
           {
            "bin_start": 1,
            "bin_end": 3,
            "count": 3
           },
           {
            "bin_start": 3,
            "bin_end": 5,
            "count": 11
           },
           {
            "bin_start": 5,
            "bin_end": 7,
            "count": 10
           },
           {
            "bin_start": 7,
            "bin_end": 9,
            "count": 19
           },
           {
            "bin_start": 9,
            "bin_end": 11,
            "count": 8
           },
           {
            "bin_start": 11,
            "bin_end": 13,
            "count": 8
           },
           {
            "bin_start": 13,
            "bin_end": 15,
            "count": 7
           },
           {
            "bin_start": 15,
            "bin_end": 17,
            "count": 5
           },
           {
            "bin_start": 17,
            "bin_end": 19,
            "count": 6
           },
           {
            "bin_start": 19,
            "bin_end": 21,
            "count": 3
           }
          ]
         }
        },
        {
         "name": "backhand_type",
         "dtype": "int64",
         "stats": {
          "unique_count": 2,
          "nan_count": 0,
          "min": "1",
          "max": "2",
          "histogram": [
           {
            "bin_start": 1,
            "bin_end": 1.1,
            "count": 8
           },
           {
            "bin_start": 1.1,
            "bin_end": 1.2,
            "count": 0
           },
           {
            "bin_start": 1.2,
            "bin_end": 1.3,
            "count": 0
           },
           {
            "bin_start": 1.3,
            "bin_end": 1.4,
            "count": 0
           },
           {
            "bin_start": 1.4,
            "bin_end": 1.5,
            "count": 0
           },
           {
            "bin_start": 1.5,
            "bin_end": 1.6,
            "count": 0
           },
           {
            "bin_start": 1.6,
            "bin_end": 1.7000000000000002,
            "count": 0
           },
           {
            "bin_start": 1.7000000000000002,
            "bin_end": 1.8,
            "count": 0
           },
           {
            "bin_start": 1.8,
            "bin_end": 1.9,
            "count": 0
           },
           {
            "bin_start": 1.9,
            "bin_end": 2,
            "count": 72
           }
          ]
         }
        },
        {
         "name": "aces",
         "dtype": "int64",
         "stats": {
          "unique_count": 78,
          "nan_count": 0,
          "min": "35",
          "max": "13634",
          "histogram": [
           {
            "bin_start": 35,
            "bin_end": 1394.9,
            "count": 49
           },
           {
            "bin_start": 1394.9,
            "bin_end": 2754.8,
            "count": 18
           },
           {
            "bin_start": 2754.8,
            "bin_end": 4114.700000000001,
            "count": 6
           },
           {
            "bin_start": 4114.700000000001,
            "bin_end": 5474.6,
            "count": 2
           },
           {
            "bin_start": 5474.6,
            "bin_end": 6834.5,
            "count": 3
           },
           {
            "bin_start": 6834.5,
            "bin_end": 8194.400000000001,
            "count": 1
           },
           {
            "bin_start": 8194.400000000001,
            "bin_end": 9554.300000000001,
            "count": 0
           },
           {
            "bin_start": 9554.300000000001,
            "bin_end": 10914.2,
            "count": 0
           },
           {
            "bin_start": 10914.2,
            "bin_end": 12274.1,
            "count": 0
           },
           {
            "bin_start": 12274.1,
            "bin_end": 13634,
            "count": 1
           }
          ]
         }
        },
        {
         "name": "double_faults",
         "dtype": "int64",
         "stats": {
          "unique_count": 78,
          "nan_count": 0,
          "min": "23",
          "max": "2917",
          "histogram": [
           {
            "bin_start": 23,
            "bin_end": 312.4,
            "count": 25
           },
           {
            "bin_start": 312.4,
            "bin_end": 601.8,
            "count": 21
           },
           {
            "bin_start": 601.8,
            "bin_end": 891.1999999999999,
            "count": 9
           },
           {
            "bin_start": 891.1999999999999,
            "bin_end": 1180.6,
            "count": 8
           },
           {
            "bin_start": 1180.6,
            "bin_end": 1470,
            "count": 5
           },
           {
            "bin_start": 1470,
            "bin_end": 1759.3999999999999,
            "count": 2
           },
           {
            "bin_start": 1759.3999999999999,
            "bin_end": 2048.7999999999997,
            "count": 1
           },
           {
            "bin_start": 2048.7999999999997,
            "bin_end": 2338.2,
            "count": 4
           },
           {
            "bin_start": 2338.2,
            "bin_end": 2627.6,
            "count": 1
           },
           {
            "bin_start": 2627.6,
            "bin_end": 2917,
            "count": 4
           }
          ]
         }
        },
        {
         "name": "first_serve",
         "dtype": "int64",
         "stats": {
          "unique_count": 16,
          "nan_count": 0,
          "min": "52",
          "max": "73",
          "histogram": [
           {
            "bin_start": 52,
            "bin_end": 54.1,
            "count": 1
           },
           {
            "bin_start": 54.1,
            "bin_end": 56.2,
            "count": 1
           },
           {
            "bin_start": 56.2,
            "bin_end": 58.3,
            "count": 8
           },
           {
            "bin_start": 58.3,
            "bin_end": 60.4,
            "count": 12
           },
           {
            "bin_start": 60.4,
            "bin_end": 62.5,
            "count": 19
           },
           {
            "bin_start": 62.5,
            "bin_end": 64.6,
            "count": 18
           },
           {
            "bin_start": 64.6,
            "bin_end": 66.7,
            "count": 16
           },
           {
            "bin_start": 66.7,
            "bin_end": 68.8,
            "count": 2
           },
           {
            "bin_start": 68.8,
            "bin_end": 70.9,
            "count": 1
           },
           {
            "bin_start": 70.9,
            "bin_end": 73,
            "count": 2
           }
          ]
         }
        },
        {
         "name": "1st_serve_points_won",
         "dtype": "int64",
         "stats": {
          "unique_count": 17,
          "nan_count": 0,
          "min": "62",
          "max": "79",
          "histogram": [
           {
            "bin_start": 62,
            "bin_end": 63.7,
            "count": 1
           },
           {
            "bin_start": 63.7,
            "bin_end": 65.4,
            "count": 5
           },
           {
            "bin_start": 65.4,
            "bin_end": 67.1,
            "count": 5
           },
           {
            "bin_start": 67.1,
            "bin_end": 68.8,
            "count": 9
           },
           {
            "bin_start": 68.8,
            "bin_end": 70.5,
            "count": 22
           },
           {
            "bin_start": 70.5,
            "bin_end": 72.2,
            "count": 11
           },
           {
            "bin_start": 72.2,
            "bin_end": 73.9,
            "count": 3
           },
           {
            "bin_start": 73.9,
            "bin_end": 75.6,
            "count": 14
           },
           {
            "bin_start": 75.6,
            "bin_end": 77.3,
            "count": 6
           },
           {
            "bin_start": 77.3,
            "bin_end": 79,
            "count": 4
           }
          ]
         }
        },
        {
         "name": "2nd_serve_points_won",
         "dtype": "int64",
         "stats": {
          "unique_count": 13,
          "nan_count": 0,
          "min": "45",
          "max": "57",
          "histogram": [
           {
            "bin_start": 45,
            "bin_end": 46.2,
            "count": 4
           },
           {
            "bin_start": 46.2,
            "bin_end": 47.4,
            "count": 1
           },
           {
            "bin_start": 47.4,
            "bin_end": 48.6,
            "count": 3
           },
           {
            "bin_start": 48.6,
            "bin_end": 49.8,
            "count": 13
           },
           {
            "bin_start": 49.8,
            "bin_end": 51,
            "count": 17
           },
           {
            "bin_start": 51,
            "bin_end": 52.2,
            "count": 24
           },
           {
            "bin_start": 52.2,
            "bin_end": 53.4,
            "count": 8
           },
           {
            "bin_start": 53.4,
            "bin_end": 54.6,
            "count": 5
           },
           {
            "bin_start": 54.6,
            "bin_end": 55.8,
            "count": 3
           },
           {
            "bin_start": 55.8,
            "bin_end": 57,
            "count": 2
           }
          ]
         }
        },
        {
         "name": "break_points_faced",
         "dtype": "int64",
         "stats": {
          "unique_count": 78,
          "nan_count": 0,
          "min": "95",
          "max": "6309",
          "histogram": [
           {
            "bin_start": 95,
            "bin_end": 716.4,
            "count": 26
           },
           {
            "bin_start": 716.4,
            "bin_end": 1337.8,
            "count": 19
           },
           {
            "bin_start": 1337.8,
            "bin_end": 1959.1999999999998,
            "count": 14
           },
           {
            "bin_start": 1959.1999999999998,
            "bin_end": 2580.6,
            "count": 3
           },
           {
            "bin_start": 2580.6,
            "bin_end": 3202,
            "count": 5
           },
           {
            "bin_start": 3202,
            "bin_end": 3823.3999999999996,
            "count": 4
           },
           {
            "bin_start": 3823.3999999999996,
            "bin_end": 4444.8,
            "count": 2
           },
           {
            "bin_start": 4444.8,
            "bin_end": 5066.2,
            "count": 2
           },
           {
            "bin_start": 5066.2,
            "bin_end": 5687.599999999999,
            "count": 3
           },
           {
            "bin_start": 5687.599999999999,
            "bin_end": 6309,
            "count": 2
           }
          ]
         }
        },
        {
         "name": "break_points_saved",
         "dtype": "int64",
         "stats": {
          "unique_count": 15,
          "nan_count": 0,
          "min": "56",
          "max": "71",
          "histogram": [
           {
            "bin_start": 56,
            "bin_end": 57.5,
            "count": 7
           },
           {
            "bin_start": 57.5,
            "bin_end": 59,
            "count": 5
           },
           {
            "bin_start": 59,
            "bin_end": 60.5,
            "count": 15
           },
           {
            "bin_start": 60.5,
            "bin_end": 62,
            "count": 13
           },
           {
            "bin_start": 62,
            "bin_end": 63.5,
            "count": 21
           },
           {
            "bin_start": 63.5,
            "bin_end": 65,
            "count": 6
           },
           {
            "bin_start": 65,
            "bin_end": 66.5,
            "count": 7
           },
           {
            "bin_start": 66.5,
            "bin_end": 68,
            "count": 3
           },
           {
            "bin_start": 68,
            "bin_end": 69.5,
            "count": 2
           },
           {
            "bin_start": 69.5,
            "bin_end": 71,
            "count": 1
           }
          ]
         }
        },
        {
         "name": "service_games_played",
         "dtype": "int64",
         "stats": {
          "unique_count": 78,
          "nan_count": 0,
          "min": "122",
          "max": "14780",
          "histogram": [
           {
            "bin_start": 122,
            "bin_end": 1587.8,
            "count": 29
           },
           {
            "bin_start": 1587.8,
            "bin_end": 3053.6,
            "count": 22
           },
           {
            "bin_start": 3053.6,
            "bin_end": 4519.4,
            "count": 11
           },
           {
            "bin_start": 4519.4,
            "bin_end": 5985.2,
            "count": 4
           },
           {
            "bin_start": 5985.2,
            "bin_end": 7451,
            "count": 5
           },
           {
            "bin_start": 7451,
            "bin_end": 8916.8,
            "count": 2
           },
           {
            "bin_start": 8916.8,
            "bin_end": 10382.6,
            "count": 1
           },
           {
            "bin_start": 10382.6,
            "bin_end": 11848.4,
            "count": 4
           },
           {
            "bin_start": 11848.4,
            "bin_end": 13314.199999999999,
            "count": 0
           },
           {
            "bin_start": 13314.199999999999,
            "bin_end": 14780,
            "count": 2
           }
          ]
         }
        },
        {
         "name": "service_games_won",
         "dtype": "int64",
         "stats": {
          "unique_count": 21,
          "nan_count": 0,
          "min": "67",
          "max": "92",
          "histogram": [
           {
            "bin_start": 67,
            "bin_end": 69.5,
            "count": 2
           },
           {
            "bin_start": 69.5,
            "bin_end": 72,
            "count": 1
           },
           {
            "bin_start": 72,
            "bin_end": 74.5,
            "count": 9
           },
           {
            "bin_start": 74.5,
            "bin_end": 77,
            "count": 14
           },
           {
            "bin_start": 77,
            "bin_end": 79.5,
            "count": 21
           },
           {
            "bin_start": 79.5,
            "bin_end": 82,
            "count": 10
           },
           {
            "bin_start": 82,
            "bin_end": 84.5,
            "count": 15
           },
           {
            "bin_start": 84.5,
            "bin_end": 87,
            "count": 3
           },
           {
            "bin_start": 87,
            "bin_end": 89.5,
            "count": 3
           },
           {
            "bin_start": 89.5,
            "bin_end": 92,
            "count": 2
           }
          ]
         }
        },
        {
         "name": "total_service_points_won",
         "dtype": "int64",
         "stats": {
          "unique_count": 14,
          "nan_count": 0,
          "min": "58",
          "max": "72",
          "histogram": [
           {
            "bin_start": 58,
            "bin_end": 59.4,
            "count": 4
           },
           {
            "bin_start": 59.4,
            "bin_end": 60.8,
            "count": 7
           },
           {
            "bin_start": 60.8,
            "bin_end": 62.2,
            "count": 21
           },
           {
            "bin_start": 62.2,
            "bin_end": 63.6,
            "count": 14
           },
           {
            "bin_start": 63.6,
            "bin_end": 65,
            "count": 8
           },
           {
            "bin_start": 65,
            "bin_end": 66.4,
            "count": 18
           },
           {
            "bin_start": 66.4,
            "bin_end": 67.8,
            "count": 2
           },
           {
            "bin_start": 67.8,
            "bin_end": 69.2,
            "count": 4
           },
           {
            "bin_start": 69.2,
            "bin_end": 70.6,
            "count": 1
           },
           {
            "bin_start": 70.6,
            "bin_end": 72,
            "count": 1
           }
          ]
         }
        },
        {
         "name": "1st_serve_return_won",
         "dtype": "int64",
         "stats": {
          "unique_count": 14,
          "nan_count": 0,
          "min": "21",
          "max": "35",
          "histogram": [
           {
            "bin_start": 21,
            "bin_end": 22.4,
            "count": 2
           },
           {
            "bin_start": 22.4,
            "bin_end": 23.8,
            "count": 0
           },
           {
            "bin_start": 23.8,
            "bin_end": 25.2,
            "count": 4
           },
           {
            "bin_start": 25.2,
            "bin_end": 26.6,
            "count": 5
           },
           {
            "bin_start": 26.6,
            "bin_end": 28,
            "count": 5
           },
           {
            "bin_start": 28,
            "bin_end": 29.4,
            "count": 24
           },
           {
            "bin_start": 29.4,
            "bin_end": 30.799999999999997,
            "count": 11
           },
           {
            "bin_start": 30.799999999999997,
            "bin_end": 32.2,
            "count": 22
           },
           {
            "bin_start": 32.2,
            "bin_end": 33.6,
            "count": 2
           },
           {
            "bin_start": 33.6,
            "bin_end": 35,
            "count": 5
           }
          ]
         }
        },
        {
         "name": "2nd_serve_return_won",
         "dtype": "int64",
         "stats": {
          "unique_count": 12,
          "nan_count": 0,
          "min": "42",
          "max": "55",
          "histogram": [
           {
            "bin_start": 42,
            "bin_end": 43.3,
            "count": 2
           },
           {
            "bin_start": 43.3,
            "bin_end": 44.6,
            "count": 0
           },
           {
            "bin_start": 44.6,
            "bin_end": 45.9,
            "count": 2
           },
           {
            "bin_start": 45.9,
            "bin_end": 47.2,
            "count": 9
           },
           {
            "bin_start": 47.2,
            "bin_end": 48.5,
            "count": 7
           },
           {
            "bin_start": 48.5,
            "bin_end": 49.8,
            "count": 10
           },
           {
            "bin_start": 49.8,
            "bin_end": 51.1,
            "count": 33
           },
           {
            "bin_start": 51.1,
            "bin_end": 52.4,
            "count": 7
           },
           {
            "bin_start": 52.4,
            "bin_end": 53.7,
            "count": 4
           },
           {
            "bin_start": 53.7,
            "bin_end": 55,
            "count": 6
           }
          ]
         }
        },
        {
         "name": "total_break_pts",
         "dtype": "int64",
         "stats": {
          "unique_count": 80,
          "nan_count": 0,
          "min": "58",
          "max": "10943",
          "histogram": [
           {
            "bin_start": 58,
            "bin_end": 1146.5,
            "count": 39
           },
           {
            "bin_start": 1146.5,
            "bin_end": 2235,
            "count": 19
           },
           {
            "bin_start": 2235,
            "bin_end": 3323.5,
            "count": 7
           },
           {
            "bin_start": 3323.5,
            "bin_end": 4412,
            "count": 8
           },
           {
            "bin_start": 4412,
            "bin_end": 5500.5,
            "count": 1
           },
           {
            "bin_start": 5500.5,
            "bin_end": 6589,
            "count": 3
           },
           {
            "bin_start": 6589,
            "bin_end": 7677.5,
            "count": 0
           },
           {
            "bin_start": 7677.5,
            "bin_end": 8766,
            "count": 1
           },
           {
            "bin_start": 8766,
            "bin_end": 9854.5,
            "count": 0
           },
           {
            "bin_start": 9854.5,
            "bin_end": 10943,
            "count": 2
           }
          ]
         }
        },
        {
         "name": "break_pts_conv",
         "dtype": "int64",
         "stats": {
          "unique_count": 13,
          "nan_count": 0,
          "min": "30",
          "max": "45",
          "histogram": [
           {
            "bin_start": 30,
            "bin_end": 31.5,
            "count": 2
           },
           {
            "bin_start": 31.5,
            "bin_end": 33,
            "count": 0
           },
           {
            "bin_start": 33,
            "bin_end": 34.5,
            "count": 1
           },
           {
            "bin_start": 34.5,
            "bin_end": 36,
            "count": 0
           },
           {
            "bin_start": 36,
            "bin_end": 37.5,
            "count": 13
           },
           {
            "bin_start": 37.5,
            "bin_end": 39,
            "count": 9
           },
           {
            "bin_start": 39,
            "bin_end": 40.5,
            "count": 25
           },
           {
            "bin_start": 40.5,
            "bin_end": 42,
            "count": 16
           },
           {
            "bin_start": 42,
            "bin_end": 43.5,
            "count": 10
           },
           {
            "bin_start": 43.5,
            "bin_end": 45,
            "count": 4
           }
          ]
         }
        },
        {
         "name": "return_games_played",
         "dtype": "int64",
         "stats": {
          "unique_count": 80,
          "nan_count": 0,
          "min": "121",
          "max": "14633",
          "histogram": [
           {
            "bin_start": 121,
            "bin_end": 1572.2,
            "count": 29
           },
           {
            "bin_start": 1572.2,
            "bin_end": 3023.4,
            "count": 22
           },
           {
            "bin_start": 3023.4,
            "bin_end": 4474.6,
            "count": 11
           },
           {
            "bin_start": 4474.6,
            "bin_end": 5925.8,
            "count": 3
           },
           {
            "bin_start": 5925.8,
            "bin_end": 7377,
            "count": 6
           },
           {
            "bin_start": 7377,
            "bin_end": 8828.2,
            "count": 2
           },
           {
            "bin_start": 8828.2,
            "bin_end": 10279.4,
            "count": 1
           },
           {
            "bin_start": 10279.4,
            "bin_end": 11730.6,
            "count": 4
           },
           {
            "bin_start": 11730.6,
            "bin_end": 13181.800000000001,
            "count": 0
           },
           {
            "bin_start": 13181.800000000001,
            "bin_end": 14633,
            "count": 2
           }
          ]
         }
        },
        {
         "name": "return_games_won",
         "dtype": "int64",
         "stats": {
          "unique_count": 20,
          "nan_count": 0,
          "min": "10",
          "max": "34",
          "histogram": [
           {
            "bin_start": 10,
            "bin_end": 12.4,
            "count": 2
           },
           {
            "bin_start": 12.4,
            "bin_end": 14.8,
            "count": 1
           },
           {
            "bin_start": 14.8,
            "bin_end": 17.2,
            "count": 6
           },
           {
            "bin_start": 17.2,
            "bin_end": 19.6,
            "count": 13
           },
           {
            "bin_start": 19.6,
            "bin_end": 22,
            "count": 10
           },
           {
            "bin_start": 22,
            "bin_end": 24.4,
            "count": 21
           },
           {
            "bin_start": 24.4,
            "bin_end": 26.8,
            "count": 10
           },
           {
            "bin_start": 26.8,
            "bin_end": 29.2,
            "count": 12
           },
           {
            "bin_start": 29.2,
            "bin_end": 31.599999999999998,
            "count": 1
           },
           {
            "bin_start": 31.599999999999998,
            "bin_end": 34,
            "count": 4
           }
          ]
         }
        },
        {
         "name": "return_points_won",
         "dtype": "int64",
         "stats": {
          "unique_count": 13,
          "nan_count": 0,
          "min": "28",
          "max": "42",
          "histogram": [
           {
            "bin_start": 28,
            "bin_end": 29.4,
            "count": 1
           },
           {
            "bin_start": 29.4,
            "bin_end": 30.8,
            "count": 1
           },
           {
            "bin_start": 30.8,
            "bin_end": 32.2,
            "count": 1
           },
           {
            "bin_start": 32.2,
            "bin_end": 33.6,
            "count": 3
           },
           {
            "bin_start": 33.6,
            "bin_end": 35,
            "count": 3
           },
           {
            "bin_start": 35,
            "bin_end": 36.4,
            "count": 17
           },
           {
            "bin_start": 36.4,
            "bin_end": 37.8,
            "count": 14
           },
           {
            "bin_start": 37.8,
            "bin_end": 39.2,
            "count": 28
           },
           {
            "bin_start": 39.2,
            "bin_end": 40.6,
            "count": 6
           },
           {
            "bin_start": 40.6,
            "bin_end": 42,
            "count": 6
           }
          ]
         }
        },
        {
         "name": "total_pts_won",
         "dtype": "int64",
         "stats": {
          "unique_count": 9,
          "nan_count": 0,
          "min": "47",
          "max": "55",
          "histogram": [
           {
            "bin_start": 47,
            "bin_end": 47.8,
            "count": 1
           },
           {
            "bin_start": 47.8,
            "bin_end": 48.6,
            "count": 4
           },
           {
            "bin_start": 48.6,
            "bin_end": 49.4,
            "count": 16
           },
           {
            "bin_start": 49.4,
            "bin_end": 50.2,
            "count": 26
           },
           {
            "bin_start": 50.2,
            "bin_end": 51,
            "count": 0
           },
           {
            "bin_start": 51,
            "bin_end": 51.8,
            "count": 19
           },
           {
            "bin_start": 51.8,
            "bin_end": 52.6,
            "count": 10
           },
           {
            "bin_start": 52.6,
            "bin_end": 53.4,
            "count": 2
           },
           {
            "bin_start": 53.4,
            "bin_end": 54.2,
            "count": 1
           },
           {
            "bin_start": 54.2,
            "bin_end": 55,
            "count": 1
           }
          ]
         }
        },
        {
         "name": "avg_aces_yr",
         "dtype": "float64",
         "stats": {
          "unique_count": 80,
          "nan_count": 0,
          "min": "7.0",
          "max": "908.9333333333333",
          "histogram": [
           {
            "bin_start": 7,
            "bin_end": 97.19333333333333,
            "count": 34
           },
           {
            "bin_start": 97.19333333333333,
            "bin_end": 187.38666666666666,
            "count": 21
           },
           {
            "bin_start": 187.38666666666666,
            "bin_end": 277.58,
            "count": 7
           },
           {
            "bin_start": 277.58,
            "bin_end": 367.7733333333333,
            "count": 8
           },
           {
            "bin_start": 367.7733333333333,
            "bin_end": 457.96666666666664,
            "count": 9
           },
           {
            "bin_start": 457.96666666666664,
            "bin_end": 548.16,
            "count": 0
           },
           {
            "bin_start": 548.16,
            "bin_end": 638.3533333333332,
            "count": 0
           },
           {
            "bin_start": 638.3533333333332,
            "bin_end": 728.5466666666666,
            "count": 0
           },
           {
            "bin_start": 728.5466666666666,
            "bin_end": 818.74,
            "count": 0
           },
           {
            "bin_start": 818.74,
            "bin_end": 908.9333333333333,
            "count": 1
           }
          ]
         }
        },
        {
         "name": "avg_double_faults_yr",
         "dtype": "float64",
         "stats": {
          "unique_count": 79,
          "nan_count": 0,
          "min": "4.6",
          "max": "274.0",
          "histogram": [
           {
            "bin_start": 4.6,
            "bin_end": 31.54,
            "count": 16
           },
           {
            "bin_start": 31.54,
            "bin_end": 58.48,
            "count": 20
           },
           {
            "bin_start": 58.48,
            "bin_end": 85.41999999999999,
            "count": 17
           },
           {
            "bin_start": 85.41999999999999,
            "bin_end": 112.35999999999999,
            "count": 12
           },
           {
            "bin_start": 112.35999999999999,
            "bin_end": 139.29999999999998,
            "count": 4
           },
           {
            "bin_start": 139.29999999999998,
            "bin_end": 166.23999999999998,
            "count": 6
           },
           {
            "bin_start": 166.23999999999998,
            "bin_end": 193.17999999999998,
            "count": 3
           },
           {
            "bin_start": 193.17999999999998,
            "bin_end": 220.11999999999998,
            "count": 1
           },
           {
            "bin_start": 220.11999999999998,
            "bin_end": 247.05999999999997,
            "count": 0
           },
           {
            "bin_start": 247.05999999999997,
            "bin_end": 274,
            "count": 1
           }
          ]
         }
        },
        {
         "name": "avg_break_points_faced_yr",
         "dtype": "float64",
         "stats": {
          "unique_count": 80,
          "nan_count": 0,
          "min": "19.6",
          "max": "322.0",
          "histogram": [
           {
            "bin_start": 19.6,
            "bin_end": 49.84,
            "count": 8
           },
           {
            "bin_start": 49.84,
            "bin_end": 80.08,
            "count": 6
           },
           {
            "bin_start": 80.08,
            "bin_end": 110.32,
            "count": 9
           },
           {
            "bin_start": 110.32,
            "bin_end": 140.56,
            "count": 10
           },
           {
            "bin_start": 140.56,
            "bin_end": 170.79999999999998,
            "count": 13
           },
           {
            "bin_start": 170.79999999999998,
            "bin_end": 201.04,
            "count": 5
           },
           {
            "bin_start": 201.04,
            "bin_end": 231.27999999999997,
            "count": 5
           },
           {
            "bin_start": 231.27999999999997,
            "bin_end": 261.52,
            "count": 11
           },
           {
            "bin_start": 261.52,
            "bin_end": 291.76,
            "count": 5
           },
           {
            "bin_start": 291.76,
            "bin_end": 322,
            "count": 8
           }
          ]
         }
        },
        {
         "name": "avg_service_games_played_yr",
         "dtype": "float64",
         "stats": {
          "unique_count": 80,
          "nan_count": 0,
          "min": "24.4",
          "max": "767.2631578947369",
          "histogram": [
           {
            "bin_start": 24.4,
            "bin_end": 98.6863157894737,
            "count": 10
           },
           {
            "bin_start": 98.6863157894737,
            "bin_end": 172.9726315789474,
            "count": 10
           },
           {
            "bin_start": 172.9726315789474,
            "bin_end": 247.25894736842108,
            "count": 12
           },
           {
            "bin_start": 247.25894736842108,
            "bin_end": 321.54526315789474,
            "count": 12
           },
           {
            "bin_start": 321.54526315789474,
            "bin_end": 395.8315789473684,
            "count": 8
           },
           {
            "bin_start": 395.8315789473684,
            "bin_end": 470.1178947368421,
            "count": 9
           },
           {
            "bin_start": 470.1178947368421,
            "bin_end": 544.4042105263158,
            "count": 8
           },
           {
            "bin_start": 544.4042105263158,
            "bin_end": 618.6905263157895,
            "count": 3
           },
           {
            "bin_start": 618.6905263157895,
            "bin_end": 692.9768421052632,
            "count": 4
           },
           {
            "bin_start": 692.9768421052632,
            "bin_end": 767.2631578947369,
            "count": 4
           }
          ]
         }
        },
        {
         "name": "avg_total_break_pts_yr",
         "dtype": "float64",
         "stats": {
          "unique_count": 79,
          "nan_count": 0,
          "min": "11.6",
          "max": "540.9473684210526",
          "histogram": [
           {
            "bin_start": 11.6,
            "bin_end": 64.53473684210526,
            "count": 12
           },
           {
            "bin_start": 64.53473684210526,
            "bin_end": 117.46947368421051,
            "count": 17
           },
           {
            "bin_start": 117.46947368421051,
            "bin_end": 170.40421052631578,
            "count": 12
           },
           {
            "bin_start": 170.40421052631578,
            "bin_end": 223.33894736842103,
            "count": 11
           },
           {
            "bin_start": 223.33894736842103,
            "bin_end": 276.2736842105263,
            "count": 9
           },
           {
            "bin_start": 276.2736842105263,
            "bin_end": 329.2084210526316,
            "count": 9
           },
           {
            "bin_start": 329.2084210526316,
            "bin_end": 382.1431578947368,
            "count": 6
           },
           {
            "bin_start": 382.1431578947368,
            "bin_end": 435.0778947368421,
            "count": 1
           },
           {
            "bin_start": 435.0778947368421,
            "bin_end": 488.0126315789474,
            "count": 1
           },
           {
            "bin_start": 488.0126315789474,
            "bin_end": 540.9473684210526,
            "count": 2
           }
          ]
         }
        },
        {
         "name": "avg_return_games_played_yr",
         "dtype": "float64",
         "stats": {
          "unique_count": 80,
          "nan_count": 0,
          "min": "24.2",
          "max": "746.2631578947369",
          "histogram": [
           {
            "bin_start": 24.2,
            "bin_end": 96.40631578947368,
            "count": 10
           },
           {
            "bin_start": 96.40631578947368,
            "bin_end": 168.61263157894734,
            "count": 9
           },
           {
            "bin_start": 168.61263157894734,
            "bin_end": 240.81894736842102,
            "count": 11
           },
           {
            "bin_start": 240.81894736842102,
            "bin_end": 313.0252631578947,
            "count": 14
           },
           {
            "bin_start": 313.0252631578947,
            "bin_end": 385.2315789473684,
            "count": 8
           },
           {
            "bin_start": 385.2315789473684,
            "bin_end": 457.43789473684205,
            "count": 8
           },
           {
            "bin_start": 457.43789473684205,
            "bin_end": 529.6442105263158,
            "count": 5
           },
           {
            "bin_start": 529.6442105263158,
            "bin_end": 601.8505263157895,
            "count": 7
           },
           {
            "bin_start": 601.8505263157895,
            "bin_end": 674.0568421052632,
            "count": 4
           },
           {
            "bin_start": 674.0568421052632,
            "bin_end": 746.2631578947369,
            "count": 4
           }
          ]
         }
        },
        {
         "name": "total_games_played",
         "dtype": "int64",
         "stats": {
          "unique_count": 80,
          "nan_count": 0,
          "min": "243",
          "max": "29413",
          "histogram": [
           {
            "bin_start": 243,
            "bin_end": 3160,
            "count": 29
           },
           {
            "bin_start": 3160,
            "bin_end": 6077,
            "count": 22
           },
           {
            "bin_start": 6077,
            "bin_end": 8994,
            "count": 11
           },
           {
            "bin_start": 8994,
            "bin_end": 11911,
            "count": 3
           },
           {
            "bin_start": 11911,
            "bin_end": 14828,
            "count": 6
           },
           {
            "bin_start": 14828,
            "bin_end": 17745,
            "count": 2
           },
           {
            "bin_start": 17745,
            "bin_end": 20662,
            "count": 1
           },
           {
            "bin_start": 20662,
            "bin_end": 23579,
            "count": 4
           },
           {
            "bin_start": 23579,
            "bin_end": 26496,
            "count": 0
           },
           {
            "bin_start": 26496,
            "bin_end": 29413,
            "count": 2
           }
          ]
         }
        },
        {
         "name": "avg_games_played_yr",
         "dtype": "float64",
         "stats": {
          "unique_count": 80,
          "nan_count": 0,
          "min": "48.6",
          "max": "1513.5263157894738",
          "histogram": [
           {
            "bin_start": 48.6,
            "bin_end": 195.0926315789474,
            "count": 10
           },
           {
            "bin_start": 195.0926315789474,
            "bin_end": 341.5852631578948,
            "count": 9
           },
           {
            "bin_start": 341.5852631578948,
            "bin_end": 488.0778947368422,
            "count": 13
           },
           {
            "bin_start": 488.0778947368422,
            "bin_end": 634.5705263157896,
            "count": 12
           },
           {
            "bin_start": 634.5705263157896,
            "bin_end": 781.063157894737,
            "count": 8
           },
           {
            "bin_start": 781.063157894737,
            "bin_end": 927.5557894736844,
            "count": 9
           },
           {
            "bin_start": 927.5557894736844,
            "bin_end": 1074.0484210526317,
            "count": 6
           },
           {
            "bin_start": 1074.0484210526317,
            "bin_end": 1220.541052631579,
            "count": 5
           },
           {
            "bin_start": 1220.541052631579,
            "bin_end": 1367.0336842105264,
            "count": 4
           },
           {
            "bin_start": 1367.0336842105264,
            "bin_end": 1513.5263157894738,
            "count": 4
           }
          ]
         }
        },
        {
         "name": "total_service_games_won",
         "dtype": "float64",
         "stats": {
          "unique_count": 79,
          "nan_count": 0,
          "min": "84.17999999999999",
          "max": "12710.800000000001",
          "histogram": [
           {
            "bin_start": 84.17999999999999,
            "bin_end": 1346.842,
            "count": 32
           },
           {
            "bin_start": 1346.842,
            "bin_end": 2609.504,
            "count": 21
           },
           {
            "bin_start": 2609.504,
            "bin_end": 3872.1659999999997,
            "count": 11
           },
           {
            "bin_start": 3872.1659999999997,
            "bin_end": 5134.828,
            "count": 6
           },
           {
            "bin_start": 5134.828,
            "bin_end": 6397.490000000001,
            "count": 3
           },
           {
            "bin_start": 6397.490000000001,
            "bin_end": 7660.152,
            "count": 0
           },
           {
            "bin_start": 7660.152,
            "bin_end": 8922.814,
            "count": 1
           },
           {
            "bin_start": 8922.814,
            "bin_end": 10185.476,
            "count": 4
           },
           {
            "bin_start": 10185.476,
            "bin_end": 11448.138,
            "count": 0
           },
           {
            "bin_start": 11448.138,
            "bin_end": 12710.800000000001,
            "count": 2
           }
          ]
         }
        },
        {
         "name": "total_return_games_won",
         "dtype": "float64",
         "stats": {
          "unique_count": 80,
          "nan_count": 0,
          "min": "20.57",
          "max": "4975.22",
          "histogram": [
           {
            "bin_start": 20.57,
            "bin_end": 516.0350000000001,
            "count": 44
           },
           {
            "bin_start": 516.0350000000001,
            "bin_end": 1011.5000000000001,
            "count": 17
           },
           {
            "bin_start": 1011.5000000000001,
            "bin_end": 1506.965,
            "count": 7
           },
           {
            "bin_start": 1506.965,
            "bin_end": 2002.43,
            "count": 5
           },
           {
            "bin_start": 2002.43,
            "bin_end": 2497.8950000000004,
            "count": 2
           },
           {
            "bin_start": 2497.8950000000004,
            "bin_end": 2993.36,
            "count": 2
           },
           {
            "bin_start": 2993.36,
            "bin_end": 3488.8250000000003,
            "count": 1
           },
           {
            "bin_start": 3488.8250000000003,
            "bin_end": 3984.2900000000004,
            "count": 0
           },
           {
            "bin_start": 3984.2900000000004,
            "bin_end": 4479.755,
            "count": 0
           },
           {
            "bin_start": 4479.755,
            "bin_end": 4975.22,
            "count": 2
           }
          ]
         }
        },
        {
         "name": "_deepnote_index_column",
         "dtype": "int64"
        }
       ],
       "rows": [
        {
         "player": "Daniil Medvedev",
         "career_length": 8,
         "backhand_type": 2,
         "aces": 2845,
         "double_faults": 1187,
         "first_serve": 60,
         "1st_serve_points_won": 75,
         "2nd_serve_points_won": 52,
         "break_points_faced": 1897,
         "break_points_saved": 63,
         "service_games_played": 4230,
         "service_games_won": 83,
         "total_service_points_won": 66,
         "1st_serve_return_won": 31,
         "2nd_serve_return_won": 54,
         "total_break_pts": 2664,
         "break_pts_conv": 42,
         "return_games_played": 4238,
         "return_games_won": 26,
         "return_points_won": 39,
         "total_pts_won": 52,
         "avg_aces_yr": 355.625,
         "avg_double_faults_yr": 148.375,
         "avg_break_points_faced_yr": 237.125,
         "avg_service_games_played_yr": 528.75,
         "avg_total_break_pts_yr": 333,
         "avg_return_games_played_yr": 529.75,
         "total_games_played": 8468,
         "avg_games_played_yr": 1058.5,
         "total_service_games_won": 3510.9000000000005,
         "total_return_games_won": 1101.88,
         "_deepnote_index_column": 0
        },
        {
         "player": "Alexander Zverev",
         "career_length": 9,
         "backhand_type": 2,
         "aces": 3974,
         "double_faults": 1973,
         "first_serve": 65,
         "1st_serve_points_won": 74,
         "2nd_serve_points_won": 50,
         "break_points_faced": 2709,
         "break_points_saved": 61,
         "service_games_played": 6037,
         "service_games_won": 82,
         "total_service_points_won": 66,
         "1st_serve_return_won": 31,
         "2nd_serve_return_won": 51,
         "total_break_pts": 3631,
         "break_pts_conv": 42,
         "return_games_played": 6045,
         "return_games_won": 25,
         "return_points_won": 38,
         "total_pts_won": 52,
         "avg_aces_yr": 441.55555555555554,
         "avg_double_faults_yr": 219.22222222222223,
         "avg_break_points_faced_yr": 301,
         "avg_service_games_played_yr": 670.7777777777778,
         "avg_total_break_pts_yr": 403.44444444444446,
         "avg_return_games_played_yr": 671.6666666666666,
         "total_games_played": 12082,
         "avg_games_played_yr": 1342.4444444444443,
         "total_service_games_won": 4950.34,
         "total_return_games_won": 1511.25,
         "_deepnote_index_column": 1
        },
        {
         "player": "Novak Djokovic",
         "career_length": 19,
         "backhand_type": 2,
         "aces": 6440,
         "double_faults": 2672,
         "first_serve": 65,
         "1st_serve_points_won": 74,
         "2nd_serve_points_won": 55,
         "break_points_faced": 6017,
         "break_points_saved": 66,
         "service_games_played": 14578,
         "service_games_won": 86,
         "total_service_points_won": 67,
         "1st_serve_return_won": 34,
         "2nd_serve_return_won": 55,
         "total_break_pts": 10278,
         "break_pts_conv": 44,
         "return_games_played": 14179,
         "return_games_won": 32,
         "return_points_won": 42,
         "total_pts_won": 54,
         "avg_aces_yr": 338.94736842105266,
         "avg_double_faults_yr": 140.6315789473684,
         "avg_break_points_faced_yr": 316.6842105263158,
         "avg_service_games_played_yr": 767.2631578947369,
         "avg_total_break_pts_yr": 540.9473684210526,
         "avg_return_games_played_yr": 746.2631578947369,
         "total_games_played": 28757,
         "avg_games_played_yr": 1513.5263157894738,
         "total_service_games_won": 12537.08,
         "total_return_games_won": 4537.28,
         "_deepnote_index_column": 2
        },
        {
         "player": "Rafael Nadal",
         "career_length": 21,
         "backhand_type": 2,
         "aces": 3856,
         "double_faults": 2066,
         "first_serve": 68,
         "1st_serve_points_won": 72,
         "2nd_serve_points_won": 57,
         "break_points_faced": 6309,
         "break_points_saved": 67,
         "service_games_played": 14780,
         "service_games_won": 86,
         "total_service_points_won": 67,
         "1st_serve_return_won": 34,
         "2nd_serve_return_won": 55,
         "total_break_pts": 10943,
         "break_pts_conv": 45,
         "return_games_played": 14633,
         "return_games_won": 34,
         "return_points_won": 42,
         "total_pts_won": 55,
         "avg_aces_yr": 183.61904761904762,
         "avg_double_faults_yr": 98.38095238095238,
         "avg_break_points_faced_yr": 300.42857142857144,
         "avg_service_games_played_yr": 703.8095238095239,
         "avg_total_break_pts_yr": 521.0952380952381,
         "avg_return_games_played_yr": 696.8095238095239,
         "total_games_played": 29413,
         "avg_games_played_yr": 1400.6190476190477,
         "total_service_games_won": 12710.800000000001,
         "total_return_games_won": 4975.22,
         "_deepnote_index_column": 3
        },
        {
         "player": "Casper Ruud",
         "career_length": 7,
         "backhand_type": 2,
         "aces": 986,
         "double_faults": 461,
         "first_serve": 65,
         "1st_serve_points_won": 72,
         "2nd_serve_points_won": 54,
         "break_points_faced": 1137,
         "break_points_saved": 63,
         "service_games_played": 2529,
         "service_games_won": 83,
         "total_service_points_won": 66,
         "1st_serve_return_won": 29,
         "2nd_serve_return_won": 51,
         "total_break_pts": 1424,
         "break_pts_conv": 41,
         "return_games_played": 2466,
         "return_games_won": 24,
         "return_points_won": 37,
         "total_pts_won": 52,
         "avg_aces_yr": 140.85714285714286,
         "avg_double_faults_yr": 65.85714285714286,
         "avg_break_points_faced_yr": 162.42857142857142,
         "avg_service_games_played_yr": 361.2857142857143,
         "avg_total_break_pts_yr": 203.42857142857142,
         "avg_return_games_played_yr": 352.2857142857143,
         "total_games_played": 4995,
         "avg_games_played_yr": 713.5714285714286,
         "total_service_games_won": 2099.0699999999997,
         "total_return_games_won": 591.84,
         "_deepnote_index_column": 4
        },
        {
         "player": "Stefanos Tsitsipas",
         "career_length": 6,
         "backhand_type": 1,
         "aces": 2329,
         "double_faults": 735,
         "first_serve": 62,
         "1st_serve_points_won": 76,
         "2nd_serve_points_won": 55,
         "break_points_faced": 1679,
         "break_points_saved": 65,
         "service_games_played": 4250,
         "service_games_won": 86,
         "total_service_points_won": 68,
         "1st_serve_return_won": 29,
         "2nd_serve_return_won": 49,
         "total_break_pts": 2205,
         "break_pts_conv": 40,
         "return_games_played": 4154,
         "return_games_won": 21,
         "return_points_won": 36,
         "total_pts_won": 52,
         "avg_aces_yr": 388.1666666666667,
         "avg_double_faults_yr": 122.5,
         "avg_break_points_faced_yr": 279.8333333333333,
         "avg_service_games_played_yr": 708.3333333333334,
         "avg_total_break_pts_yr": 367.5,
         "avg_return_games_played_yr": 692.3333333333334,
         "total_games_played": 8404,
         "avg_games_played_yr": 1400.6666666666667,
         "total_service_games_won": 3655,
         "total_return_games_won": 872.34,
         "_deepnote_index_column": 5
        },
        {
         "player": "Carlos Alcaraz",
         "career_length": 4,
         "backhand_type": 2,
         "aces": 267,
         "double_faults": 196,
         "first_serve": 64,
         "1st_serve_points_won": 70,
         "2nd_serve_points_won": 54,
         "break_points_faced": 569,
         "break_points_saved": 62,
         "service_games_played": 1080,
         "service_games_won": 80,
         "total_service_points_won": 64,
         "1st_serve_return_won": 34,
         "2nd_serve_return_won": 53,
         "total_break_pts": 798,
         "break_pts_conv": 43,
         "return_games_played": 1085,
         "return_games_won": 32,
         "return_points_won": 41,
         "total_pts_won": 53,
         "avg_aces_yr": 66.75,
         "avg_double_faults_yr": 49,
         "avg_break_points_faced_yr": 142.25,
         "avg_service_games_played_yr": 270,
         "avg_total_break_pts_yr": 199.5,
         "avg_return_games_played_yr": 271.25,
         "total_games_played": 2165,
         "avg_games_played_yr": 541.25,
         "total_service_games_won": 864,
         "total_return_games_won": 347.2,
         "_deepnote_index_column": 6
        },
        {
         "player": "Andrey Rublev",
         "career_length": 8,
         "backhand_type": 2,
         "aces": 2072,
         "double_faults": 890,
         "first_serve": 60,
         "1st_serve_points_won": 74,
         "2nd_serve_points_won": 50,
         "break_points_faced": 1931,
         "break_points_saved": 62,
         "service_games_played": 3900,
         "service_games_won": 81,
         "total_service_points_won": 65,
         "1st_serve_return_won": 30,
         "2nd_serve_return_won": 53,
         "total_break_pts": 2412,
         "break_pts_conv": 40,
         "return_games_played": 3914,
         "return_games_won": 25,
         "return_points_won": 39,
         "total_pts_won": 52,
         "avg_aces_yr": 259,
         "avg_double_faults_yr": 111.25,
         "avg_break_points_faced_yr": 241.375,
         "avg_service_games_played_yr": 487.5,
         "avg_total_break_pts_yr": 301.5,
         "avg_return_games_played_yr": 489.25,
         "total_games_played": 7814,
         "avg_games_played_yr": 976.75,
         "total_service_games_won": 3159,
         "total_return_games_won": 978.5,
         "_deepnote_index_column": 7
        },
        {
         "player": "Felix Auger-Aliassime",
         "career_length": 5,
         "backhand_type": 2,
         "aces": 1945,
         "double_faults": 919,
         "first_serve": 64,
         "1st_serve_points_won": 75,
         "2nd_serve_points_won": 50,
         "break_points_faced": 1317,
         "break_points_saved": 63,
         "service_games_played": 2719,
         "service_games_won": 82,
         "total_service_points_won": 66,
         "1st_serve_return_won": 30,
         "2nd_serve_return_won": 48,
         "total_break_pts": 1466,
         "break_pts_conv": 38,
         "return_games_played": 2678,
         "return_games_won": 21,
         "return_points_won": 37,
         "total_pts_won": 51,
         "avg_aces_yr": 389,
         "avg_double_faults_yr": 183.8,
         "avg_break_points_faced_yr": 263.4,
         "avg_service_games_played_yr": 543.8,
         "avg_total_break_pts_yr": 293.2,
         "avg_return_games_played_yr": 535.6,
         "total_games_played": 5397,
         "avg_games_played_yr": 1079.4,
         "total_service_games_won": 2229.58,
         "total_return_games_won": 562.38,
         "_deepnote_index_column": 8
        },
        {
         "player": "Hubert Hurkacz",
         "career_length": 7,
         "backhand_type": 2,
         "aces": 1715,
         "double_faults": 447,
         "first_serve": 63,
         "1st_serve_points_won": 75,
         "2nd_serve_points_won": 52,
         "break_points_faced": 1087,
         "break_points_saved": 64,
         "service_games_played": 2422,
         "service_games_won": 84,
         "total_service_points_won": 66,
         "1st_serve_return_won": 28,
         "2nd_serve_return_won": 48,
         "total_break_pts": 1228,
         "break_pts_conv": 38,
         "return_games_played": 2386,
         "return_games_won": 19,
         "return_points_won": 36,
         "total_pts_won": 51,
         "avg_aces_yr": 245,
         "avg_double_faults_yr": 63.857142857142854,
         "avg_break_points_faced_yr": 155.28571428571428,
         "avg_service_games_played_yr": 346,
         "avg_total_break_pts_yr": 175.42857142857142,
         "avg_return_games_played_yr": 340.85714285714283,
         "total_games_played": 4808,
         "avg_games_played_yr": 686.8571428571429,
         "total_service_games_won": 2034.48,
         "total_return_games_won": 453.34,
         "_deepnote_index_column": 9
        }
       ]
      },
      "text/plain": "                     player  career_length  backhand_type  aces  \\\n0           Daniil Medvedev              8              2  2845   \n1          Alexander Zverev              9              2  3974   \n2            Novak Djokovic             19              2  6440   \n3              Rafael Nadal             21              2  3856   \n4               Casper Ruud              7              2   986   \n..                      ...            ...            ...   ...   \n75             Benoit Paire             15              2  4455   \n76          James Duckworth             12              2  1096   \n77              Denis Kudla             12              2  1078   \n78  Tomas Martin Etcheverry              5              2    35   \n79         Alejandro Tabilo              7              2   143   \n\n    double_faults  first_serve  1st_serve_points_won  2nd_serve_points_won  \\\n0            1187           60                    75                    52   \n1            1973           65                    74                    50   \n2            2672           65                    74                    55   \n3            2066           68                    72                    57   \n4             461           65                    72                    54   \n..            ...          ...                   ...                   ...   \n75           2722           52                    74                    45   \n76            398           56                    72                    50   \n77            637           58                    70                    51   \n78             23           71                    64                    45   \n79             90           64                    68                    48   \n\n    break_points_faced  break_points_saved  ...  avg_aces_yr  \\\n0                 1897                  63  ...   355.625000   \n1                 2709                  61  ...   441.555556   \n2                 6017                  66  ...   338.947368   \n3                 6309                  67  ...   183.619048   \n4                 1137                  63  ...   140.857143   \n..                 ...                 ...  ...          ...   \n75                4219                  60  ...   297.000000   \n76                1028                  64  ...    91.333333   \n77                1390                  58  ...    89.833333   \n78                  98                  61  ...     7.000000   \n79                 220                  56  ...    20.428571   \n\n    avg_double_faults_yr  avg_break_points_faced_yr  \\\n0             148.375000                 237.125000   \n1             219.222222                 301.000000   \n2             140.631579                 316.684211   \n3              98.380952                 300.428571   \n4              65.857143                 162.428571   \n..                   ...                        ...   \n75            181.466667                 281.266667   \n76             33.166667                  85.666667   \n77             53.083333                 115.833333   \n78              4.600000                  19.600000   \n79             12.857143                  31.428571   \n\n    avg_service_games_played_yr  avg_total_break_pts_yr  \\\n0                    528.750000              333.000000   \n1                    670.777778              403.444444   \n2                    767.263158              540.947368   \n3                    703.809524              521.095238   \n4                    361.285714              203.428571   \n..                          ...                     ...   \n75                   435.266667              256.866667   \n76                   144.083333               61.333333   \n77                   198.166667               92.416667   \n78                    24.400000               11.600000   \n79                    49.571429               28.857143   \n\n    avg_return_games_played_yr  total_games_played  avg_games_played_yr  \\\n0                   529.750000                8468          1058.500000   \n1                   671.666667               12082          1342.444444   \n2                   746.263158               28757          1513.526316   \n3                   696.809524               29413          1400.619048   \n4                   352.285714                4995           713.571429   \n..                         ...                 ...                  ...   \n75                  436.533333               13077           871.800000   \n76                  143.250000                3448           287.333333   \n77                  199.333333                4770           397.500000   \n78                   24.200000                 243            48.600000   \n79                   47.285714                 678            96.857143   \n\n    total_service_games_won  total_return_games_won  \n0                   3510.90                 1101.88  \n1                   4950.34                 1511.25  \n2                  12537.08                 4537.28  \n3                  12710.80                 4975.22  \n4                   2099.07                  591.84  \n..                      ...                     ...  \n75                  4831.46                 1506.04  \n76                  1348.62                  275.04  \n77                  1807.28                  454.48  \n78                    84.18                   20.57  \n79                   249.84                   89.37  \n\n[80 rows x 31 columns]",
      "text/html": "<div>\n<style scoped>\n    .dataframe tbody tr th:only-of-type {\n        vertical-align: middle;\n    }\n\n    .dataframe tbody tr th {\n        vertical-align: top;\n    }\n\n    .dataframe thead th {\n        text-align: right;\n    }\n</style>\n<table border=\"1\" class=\"dataframe\">\n  <thead>\n    <tr style=\"text-align: right;\">\n      <th></th>\n      <th>player</th>\n      <th>career_length</th>\n      <th>backhand_type</th>\n      <th>aces</th>\n      <th>double_faults</th>\n      <th>first_serve</th>\n      <th>1st_serve_points_won</th>\n      <th>2nd_serve_points_won</th>\n      <th>break_points_faced</th>\n      <th>break_points_saved</th>\n      <th>...</th>\n      <th>avg_aces_yr</th>\n      <th>avg_double_faults_yr</th>\n      <th>avg_break_points_faced_yr</th>\n      <th>avg_service_games_played_yr</th>\n      <th>avg_total_break_pts_yr</th>\n      <th>avg_return_games_played_yr</th>\n      <th>total_games_played</th>\n      <th>avg_games_played_yr</th>\n      <th>total_service_games_won</th>\n      <th>total_return_games_won</th>\n    </tr>\n  </thead>\n  <tbody>\n    <tr>\n      <th>0</th>\n      <td>Daniil Medvedev</td>\n      <td>8</td>\n      <td>2</td>\n      <td>2845</td>\n      <td>1187</td>\n      <td>60</td>\n      <td>75</td>\n      <td>52</td>\n      <td>1897</td>\n      <td>63</td>\n      <td>...</td>\n      <td>355.625000</td>\n      <td>148.375000</td>\n      <td>237.125000</td>\n      <td>528.750000</td>\n      <td>333.000000</td>\n      <td>529.750000</td>\n      <td>8468</td>\n      <td>1058.500000</td>\n      <td>3510.90</td>\n      <td>1101.88</td>\n    </tr>\n    <tr>\n      <th>1</th>\n      <td>Alexander Zverev</td>\n      <td>9</td>\n      <td>2</td>\n      <td>3974</td>\n      <td>1973</td>\n      <td>65</td>\n      <td>74</td>\n      <td>50</td>\n      <td>2709</td>\n      <td>61</td>\n      <td>...</td>\n      <td>441.555556</td>\n      <td>219.222222</td>\n      <td>301.000000</td>\n      <td>670.777778</td>\n      <td>403.444444</td>\n      <td>671.666667</td>\n      <td>12082</td>\n      <td>1342.444444</td>\n      <td>4950.34</td>\n      <td>1511.25</td>\n    </tr>\n    <tr>\n      <th>2</th>\n      <td>Novak Djokovic</td>\n      <td>19</td>\n      <td>2</td>\n      <td>6440</td>\n      <td>2672</td>\n      <td>65</td>\n      <td>74</td>\n      <td>55</td>\n      <td>6017</td>\n      <td>66</td>\n      <td>...</td>\n      <td>338.947368</td>\n      <td>140.631579</td>\n      <td>316.684211</td>\n      <td>767.263158</td>\n      <td>540.947368</td>\n      <td>746.263158</td>\n      <td>28757</td>\n      <td>1513.526316</td>\n      <td>12537.08</td>\n      <td>4537.28</td>\n    </tr>\n    <tr>\n      <th>3</th>\n      <td>Rafael Nadal</td>\n      <td>21</td>\n      <td>2</td>\n      <td>3856</td>\n      <td>2066</td>\n      <td>68</td>\n      <td>72</td>\n      <td>57</td>\n      <td>6309</td>\n      <td>67</td>\n      <td>...</td>\n      <td>183.619048</td>\n      <td>98.380952</td>\n      <td>300.428571</td>\n      <td>703.809524</td>\n      <td>521.095238</td>\n      <td>696.809524</td>\n      <td>29413</td>\n      <td>1400.619048</td>\n      <td>12710.80</td>\n      <td>4975.22</td>\n    </tr>\n    <tr>\n      <th>4</th>\n      <td>Casper Ruud</td>\n      <td>7</td>\n      <td>2</td>\n      <td>986</td>\n      <td>461</td>\n      <td>65</td>\n      <td>72</td>\n      <td>54</td>\n      <td>1137</td>\n      <td>63</td>\n      <td>...</td>\n      <td>140.857143</td>\n      <td>65.857143</td>\n      <td>162.428571</td>\n      <td>361.285714</td>\n      <td>203.428571</td>\n      <td>352.285714</td>\n      <td>4995</td>\n      <td>713.571429</td>\n      <td>2099.07</td>\n      <td>591.84</td>\n    </tr>\n    <tr>\n      <th>...</th>\n      <td>...</td>\n      <td>...</td>\n      <td>...</td>\n      <td>...</td>\n      <td>...</td>\n      <td>...</td>\n      <td>...</td>\n      <td>...</td>\n      <td>...</td>\n      <td>...</td>\n      <td>...</td>\n      <td>...</td>\n      <td>...</td>\n      <td>...</td>\n      <td>...</td>\n      <td>...</td>\n      <td>...</td>\n      <td>...</td>\n      <td>...</td>\n      <td>...</td>\n      <td>...</td>\n    </tr>\n    <tr>\n      <th>75</th>\n      <td>Benoit Paire</td>\n      <td>15</td>\n      <td>2</td>\n      <td>4455</td>\n      <td>2722</td>\n      <td>52</td>\n      <td>74</td>\n      <td>45</td>\n      <td>4219</td>\n      <td>60</td>\n      <td>...</td>\n      <td>297.000000</td>\n      <td>181.466667</td>\n      <td>281.266667</td>\n      <td>435.266667</td>\n      <td>256.866667</td>\n      <td>436.533333</td>\n      <td>13077</td>\n      <td>871.800000</td>\n      <td>4831.46</td>\n      <td>1506.04</td>\n    </tr>\n    <tr>\n      <th>76</th>\n      <td>James Duckworth</td>\n      <td>12</td>\n      <td>2</td>\n      <td>1096</td>\n      <td>398</td>\n      <td>56</td>\n      <td>72</td>\n      <td>50</td>\n      <td>1028</td>\n      <td>64</td>\n      <td>...</td>\n      <td>91.333333</td>\n      <td>33.166667</td>\n      <td>85.666667</td>\n      <td>144.083333</td>\n      <td>61.333333</td>\n      <td>143.250000</td>\n      <td>3448</td>\n      <td>287.333333</td>\n      <td>1348.62</td>\n      <td>275.04</td>\n    </tr>\n    <tr>\n      <th>77</th>\n      <td>Denis Kudla</td>\n      <td>12</td>\n      <td>2</td>\n      <td>1078</td>\n      <td>637</td>\n      <td>58</td>\n      <td>70</td>\n      <td>51</td>\n      <td>1390</td>\n      <td>58</td>\n      <td>...</td>\n      <td>89.833333</td>\n      <td>53.083333</td>\n      <td>115.833333</td>\n      <td>198.166667</td>\n      <td>92.416667</td>\n      <td>199.333333</td>\n      <td>4770</td>\n      <td>397.500000</td>\n      <td>1807.28</td>\n      <td>454.48</td>\n    </tr>\n    <tr>\n      <th>78</th>\n      <td>Tomas Martin Etcheverry</td>\n      <td>5</td>\n      <td>2</td>\n      <td>35</td>\n      <td>23</td>\n      <td>71</td>\n      <td>64</td>\n      <td>45</td>\n      <td>98</td>\n      <td>61</td>\n      <td>...</td>\n      <td>7.000000</td>\n      <td>4.600000</td>\n      <td>19.600000</td>\n      <td>24.400000</td>\n      <td>11.600000</td>\n      <td>24.200000</td>\n      <td>243</td>\n      <td>48.600000</td>\n      <td>84.18</td>\n      <td>20.57</td>\n    </tr>\n    <tr>\n      <th>79</th>\n      <td>Alejandro Tabilo</td>\n      <td>7</td>\n      <td>2</td>\n      <td>143</td>\n      <td>90</td>\n      <td>64</td>\n      <td>68</td>\n      <td>48</td>\n      <td>220</td>\n      <td>56</td>\n      <td>...</td>\n      <td>20.428571</td>\n      <td>12.857143</td>\n      <td>31.428571</td>\n      <td>49.571429</td>\n      <td>28.857143</td>\n      <td>47.285714</td>\n      <td>678</td>\n      <td>96.857143</td>\n      <td>249.84</td>\n      <td>89.37</td>\n    </tr>\n  </tbody>\n</table>\n<p>80 rows × 31 columns</p>\n</div>"
     },
     "metadata": {}
    }
   ],
   "execution_count": null
  },
  {
   "cell_type": "code",
   "source": "tennis['total_games_played'] = tennis['service_games_played'] + tennis['return_games_played']\n\ntennis['avg_games_played_yr'] = tennis.apply(lambda x : x['total_games_played'] / float(x['career_length']), axis = 1)\n",
   "metadata": {
    "cell_id": "8afa5cec921041f4b4d05faba181fc82",
    "tags": [],
    "deepnote_to_be_reexecuted": false,
    "source_hash": "9a650604",
    "execution_start": 1656080684693,
    "execution_millis": 1,
    "deepnote_cell_type": "code",
    "deepnote_cell_height": 135,
    "deepnote_output_heights": [
     78.75
    ]
   },
   "outputs": [],
   "execution_count": null
  },
  {
   "cell_type": "markdown",
   "source": "Let's try to see who finishes their matches the quickest. This will provide some insight on how easy a player can defeat their opponent, a reflection of their skill. We will only look at the top 40 players, because they will be more active on tour.",
   "metadata": {
    "cell_id": "7caa5b1e31b84215b49456a43fabdc72",
    "tags": [],
    "is_collapsed": false,
    "formattedRanges": [],
    "deepnote_cell_type": "text-cell-p"
   }
  },
  {
   "cell_type": "code",
   "source": "tennis.iloc[:41].sort_values(by=['avg_games_played_yr'])",
   "metadata": {
    "cell_id": "ce62e786ece147d1b7b36cd70c96d68b",
    "tags": [],
    "deepnote_to_be_reexecuted": false,
    "source_hash": "68808f4",
    "execution_start": 1656081127982,
    "execution_millis": 235,
    "deepnote_cell_type": "code",
    "deepnote_cell_height": 617
   },
   "outputs": [
    {
     "output_type": "execute_result",
     "execution_count": 28,
     "data": {
      "application/vnd.deepnote.dataframe.v3+json": {
       "column_count": 29,
       "row_count": 41,
       "columns": [
        {
         "name": "player",
         "dtype": "object",
         "stats": {
          "unique_count": 41,
          "nan_count": 0,
          "categories": [
           {
            "name": "Oscar Otte",
            "count": 1
           },
           {
            "name": "Botic van de Zandschulp",
            "count": 1
           },
           {
            "name": "39 others",
            "count": 39
           }
          ]
         }
        },
        {
         "name": "career_length",
         "dtype": "int64",
         "stats": {
          "unique_count": 18,
          "nan_count": 0,
          "min": "1",
          "max": "21",
          "histogram": [
           {
            "bin_start": 1,
            "bin_end": 3,
            "count": 2
           },
           {
            "bin_start": 3,
            "bin_end": 5,
            "count": 3
           },
           {
            "bin_start": 5,
            "bin_end": 7,
            "count": 7
           },
           {
            "bin_start": 7,
            "bin_end": 9,
            "count": 10
           },
           {
            "bin_start": 9,
            "bin_end": 11,
            "count": 5
           },
           {
            "bin_start": 11,
            "bin_end": 13,
            "count": 2
           },
           {
            "bin_start": 13,
            "bin_end": 15,
            "count": 4
           },
           {
            "bin_start": 15,
            "bin_end": 17,
            "count": 3
           },
           {
            "bin_start": 17,
            "bin_end": 19,
            "count": 3
           },
           {
            "bin_start": 19,
            "bin_end": 21,
            "count": 2
           }
          ]
         }
        },
        {
         "name": "backhand_type",
         "dtype": "int64",
         "stats": {
          "unique_count": 2,
          "nan_count": 0,
          "min": "1",
          "max": "2",
          "histogram": [
           {
            "bin_start": 1,
            "bin_end": 1.1,
            "count": 4
           },
           {
            "bin_start": 1.1,
            "bin_end": 1.2,
            "count": 0
           },
           {
            "bin_start": 1.2,
            "bin_end": 1.3,
            "count": 0
           },
           {
            "bin_start": 1.3,
            "bin_end": 1.4,
            "count": 0
           },
           {
            "bin_start": 1.4,
            "bin_end": 1.5,
            "count": 0
           },
           {
            "bin_start": 1.5,
            "bin_end": 1.6,
            "count": 0
           },
           {
            "bin_start": 1.6,
            "bin_end": 1.7000000000000002,
            "count": 0
           },
           {
            "bin_start": 1.7000000000000002,
            "bin_end": 1.8,
            "count": 0
           },
           {
            "bin_start": 1.8,
            "bin_end": 1.9,
            "count": 0
           },
           {
            "bin_start": 1.9,
            "bin_end": 2,
            "count": 37
           }
          ]
         }
        },
        {
         "name": "aces",
         "dtype": "int64",
         "stats": {
          "unique_count": 41,
          "nan_count": 0,
          "min": "65",
          "max": "13634",
          "histogram": [
           {
            "bin_start": 65,
            "bin_end": 1421.9,
            "count": 19
           },
           {
            "bin_start": 1421.9,
            "bin_end": 2778.8,
            "count": 13
           },
           {
            "bin_start": 2778.8,
            "bin_end": 4135.700000000001,
            "count": 5
           },
           {
            "bin_start": 4135.700000000001,
            "bin_end": 5492.6,
            "count": 0
           },
           {
            "bin_start": 5492.6,
            "bin_end": 6849.5,
            "count": 2
           },
           {
            "bin_start": 6849.5,
            "bin_end": 8206.400000000001,
            "count": 1
           },
           {
            "bin_start": 8206.400000000001,
            "bin_end": 9563.300000000001,
            "count": 0
           },
           {
            "bin_start": 9563.300000000001,
            "bin_end": 10920.2,
            "count": 0
           },
           {
            "bin_start": 10920.2,
            "bin_end": 12277.1,
            "count": 0
           },
           {
            "bin_start": 12277.1,
            "bin_end": 13634,
            "count": 1
           }
          ]
         }
        },
        {
         "name": "double_faults",
         "dtype": "int64",
         "stats": {
          "unique_count": 41,
          "nan_count": 0,
          "min": "61",
          "max": "2917",
          "histogram": [
           {
            "bin_start": 61,
            "bin_end": 346.6,
            "count": 12
           },
           {
            "bin_start": 346.6,
            "bin_end": 632.2,
            "count": 8
           },
           {
            "bin_start": 632.2,
            "bin_end": 917.8000000000001,
            "count": 6
           },
           {
            "bin_start": 917.8000000000001,
            "bin_end": 1203.4,
            "count": 5
           },
           {
            "bin_start": 1203.4,
            "bin_end": 1489,
            "count": 3
           },
           {
            "bin_start": 1489,
            "bin_end": 1774.6000000000001,
            "count": 1
           },
           {
            "bin_start": 1774.6000000000001,
            "bin_end": 2060.2000000000003,
            "count": 1
           },
           {
            "bin_start": 2060.2000000000003,
            "bin_end": 2345.8,
            "count": 2
           },
           {
            "bin_start": 2345.8,
            "bin_end": 2631.4,
            "count": 1
           },
           {
            "bin_start": 2631.4,
            "bin_end": 2917,
            "count": 2
           }
          ]
         }
        },
        {
         "name": "first_serve",
         "dtype": "int64",
         "stats": {
          "unique_count": 13,
          "nan_count": 0,
          "min": "57",
          "max": "73",
          "histogram": [
           {
            "bin_start": 57,
            "bin_end": 58.6,
            "count": 3
           },
           {
            "bin_start": 58.6,
            "bin_end": 60.2,
            "count": 7
           },
           {
            "bin_start": 60.2,
            "bin_end": 61.8,
            "count": 4
           },
           {
            "bin_start": 61.8,
            "bin_end": 63.4,
            "count": 10
           },
           {
            "bin_start": 63.4,
            "bin_end": 65,
            "count": 6
           },
           {
            "bin_start": 65,
            "bin_end": 66.6,
            "count": 7
           },
           {
            "bin_start": 66.6,
            "bin_end": 68.2,
            "count": 2
           },
           {
            "bin_start": 68.2,
            "bin_end": 69.8,
            "count": 1
           },
           {
            "bin_start": 69.8,
            "bin_end": 71.4,
            "count": 0
           },
           {
            "bin_start": 71.4,
            "bin_end": 73,
            "count": 1
           }
          ]
         }
        },
        {
         "name": "1st_serve_points_won",
         "dtype": "int64",
         "stats": {
          "unique_count": 15,
          "nan_count": 0,
          "min": "64",
          "max": "79",
          "histogram": [
           {
            "bin_start": 64,
            "bin_end": 65.5,
            "count": 2
           },
           {
            "bin_start": 65.5,
            "bin_end": 67,
            "count": 1
           },
           {
            "bin_start": 67,
            "bin_end": 68.5,
            "count": 4
           },
           {
            "bin_start": 68.5,
            "bin_end": 70,
            "count": 2
           },
           {
            "bin_start": 70,
            "bin_end": 71.5,
            "count": 9
           },
           {
            "bin_start": 71.5,
            "bin_end": 73,
            "count": 5
           },
           {
            "bin_start": 73,
            "bin_end": 74.5,
            "count": 6
           },
           {
            "bin_start": 74.5,
            "bin_end": 76,
            "count": 5
           },
           {
            "bin_start": 76,
            "bin_end": 77.5,
            "count": 4
           },
           {
            "bin_start": 77.5,
            "bin_end": 79,
            "count": 3
           }
          ]
         }
        },
        {
         "name": "2nd_serve_points_won",
         "dtype": "int64",
         "stats": {
          "unique_count": 10,
          "nan_count": 0,
          "min": "45",
          "max": "57",
          "histogram": [
           {
            "bin_start": 45,
            "bin_end": 46.2,
            "count": 1
           },
           {
            "bin_start": 46.2,
            "bin_end": 47.4,
            "count": 0
           },
           {
            "bin_start": 47.4,
            "bin_end": 48.6,
            "count": 0
           },
           {
            "bin_start": 48.6,
            "bin_end": 49.8,
            "count": 3
           },
           {
            "bin_start": 49.8,
            "bin_end": 51,
            "count": 8
           },
           {
            "bin_start": 51,
            "bin_end": 52.2,
            "count": 16
           },
           {
            "bin_start": 52.2,
            "bin_end": 53.4,
            "count": 4
           },
           {
            "bin_start": 53.4,
            "bin_end": 54.6,
            "count": 4
           },
           {
            "bin_start": 54.6,
            "bin_end": 55.8,
            "count": 3
           },
           {
            "bin_start": 55.8,
            "bin_end": 57,
            "count": 2
           }
          ]
         }
        },
        {
         "name": "break_points_faced",
         "dtype": "int64",
         "stats": {
          "unique_count": 41,
          "nan_count": 0,
          "min": "286",
          "max": "6309",
          "histogram": [
           {
            "bin_start": 286,
            "bin_end": 888.3,
            "count": 8
           },
           {
            "bin_start": 888.3,
            "bin_end": 1490.6,
            "count": 12
           },
           {
            "bin_start": 1490.6,
            "bin_end": 2092.8999999999996,
            "count": 8
           },
           {
            "bin_start": 2092.8999999999996,
            "bin_end": 2695.2,
            "count": 2
           },
           {
            "bin_start": 2695.2,
            "bin_end": 3297.5,
            "count": 4
           },
           {
            "bin_start": 3297.5,
            "bin_end": 3899.7999999999997,
            "count": 3
           },
           {
            "bin_start": 3899.7999999999997,
            "bin_end": 4502.099999999999,
            "count": 0
           },
           {
            "bin_start": 4502.099999999999,
            "bin_end": 5104.4,
            "count": 2
           },
           {
            "bin_start": 5104.4,
            "bin_end": 5706.7,
            "count": 0
           },
           {
            "bin_start": 5706.7,
            "bin_end": 6309,
            "count": 2
           }
          ]
         }
        },
        {
         "name": "break_points_saved",
         "dtype": "int64",
         "stats": {
          "unique_count": 14,
          "nan_count": 0,
          "min": "56",
          "max": "71",
          "histogram": [
           {
            "bin_start": 56,
            "bin_end": 57.5,
            "count": 3
           },
           {
            "bin_start": 57.5,
            "bin_end": 59,
            "count": 2
           },
           {
            "bin_start": 59,
            "bin_end": 60.5,
            "count": 3
           },
           {
            "bin_start": 60.5,
            "bin_end": 62,
            "count": 7
           },
           {
            "bin_start": 62,
            "bin_end": 63.5,
            "count": 14
           },
           {
            "bin_start": 63.5,
            "bin_end": 65,
            "count": 4
           },
           {
            "bin_start": 65,
            "bin_end": 66.5,
            "count": 4
           },
           {
            "bin_start": 66.5,
            "bin_end": 68,
            "count": 1
           },
           {
            "bin_start": 68,
            "bin_end": 69.5,
            "count": 2
           },
           {
            "bin_start": 69.5,
            "bin_end": 71,
            "count": 1
           }
          ]
         }
        },
        {
         "name": "service_games_played",
         "dtype": "int64",
         "stats": {
          "unique_count": 40,
          "nan_count": 0,
          "min": "451",
          "max": "14780",
          "histogram": [
           {
            "bin_start": 451,
            "bin_end": 1883.9,
            "count": 11
           },
           {
            "bin_start": 1883.9,
            "bin_end": 3316.8,
            "count": 12
           },
           {
            "bin_start": 3316.8,
            "bin_end": 4749.700000000001,
            "count": 7
           },
           {
            "bin_start": 4749.700000000001,
            "bin_end": 6182.6,
            "count": 3
           },
           {
            "bin_start": 6182.6,
            "bin_end": 7615.5,
            "count": 2
           },
           {
            "bin_start": 7615.5,
            "bin_end": 9048.400000000001,
            "count": 1
           },
           {
            "bin_start": 9048.400000000001,
            "bin_end": 10481.300000000001,
            "count": 1
           },
           {
            "bin_start": 10481.300000000001,
            "bin_end": 11914.2,
            "count": 2
           },
           {
            "bin_start": 11914.2,
            "bin_end": 13347.1,
            "count": 0
           },
           {
            "bin_start": 13347.1,
            "bin_end": 14780,
            "count": 2
           }
          ]
         }
        },
        {
         "name": "service_games_won",
         "dtype": "int64",
         "stats": {
          "unique_count": 16,
          "nan_count": 0,
          "min": "72",
          "max": "92",
          "histogram": [
           {
            "bin_start": 72,
            "bin_end": 74,
            "count": 3
           },
           {
            "bin_start": 74,
            "bin_end": 76,
            "count": 1
           },
           {
            "bin_start": 76,
            "bin_end": 78,
            "count": 6
           },
           {
            "bin_start": 78,
            "bin_end": 80,
            "count": 6
           },
           {
            "bin_start": 80,
            "bin_end": 82,
            "count": 8
           },
           {
            "bin_start": 82,
            "bin_end": 84,
            "count": 8
           },
           {
            "bin_start": 84,
            "bin_end": 86,
            "count": 3
           },
           {
            "bin_start": 86,
            "bin_end": 88,
            "count": 3
           },
           {
            "bin_start": 88,
            "bin_end": 90,
            "count": 1
           },
           {
            "bin_start": 90,
            "bin_end": 92,
            "count": 2
           }
          ]
         }
        },
        {
         "name": "total_service_points_won",
         "dtype": "int64",
         "stats": {
          "unique_count": 12,
          "nan_count": 0,
          "min": "60",
          "max": "72",
          "histogram": [
           {
            "bin_start": 60,
            "bin_end": 61.2,
            "count": 4
           },
           {
            "bin_start": 61.2,
            "bin_end": 62.4,
            "count": 4
           },
           {
            "bin_start": 62.4,
            "bin_end": 63.6,
            "count": 7
           },
           {
            "bin_start": 63.6,
            "bin_end": 64.8,
            "count": 8
           },
           {
            "bin_start": 64.8,
            "bin_end": 66,
            "count": 4
           },
           {
            "bin_start": 66,
            "bin_end": 67.2,
            "count": 10
           },
           {
            "bin_start": 67.2,
            "bin_end": 68.4,
            "count": 1
           },
           {
            "bin_start": 68.4,
            "bin_end": 69.6,
            "count": 1
           },
           {
            "bin_start": 69.6,
            "bin_end": 70.8,
            "count": 1
           },
           {
            "bin_start": 70.8,
            "bin_end": 72,
            "count": 1
           }
          ]
         }
        },
        {
         "name": "1st_serve_return_won",
         "dtype": "int64",
         "stats": {
          "unique_count": 11,
          "nan_count": 0,
          "min": "21",
          "max": "34",
          "histogram": [
           {
            "bin_start": 21,
            "bin_end": 22.3,
            "count": 2
           },
           {
            "bin_start": 22.3,
            "bin_end": 23.6,
            "count": 0
           },
           {
            "bin_start": 23.6,
            "bin_end": 24.9,
            "count": 0
           },
           {
            "bin_start": 24.9,
            "bin_end": 26.2,
            "count": 1
           },
           {
            "bin_start": 26.2,
            "bin_end": 27.5,
            "count": 1
           },
           {
            "bin_start": 27.5,
            "bin_end": 28.8,
            "count": 7
           },
           {
            "bin_start": 28.8,
            "bin_end": 30.1,
            "count": 16
           },
           {
            "bin_start": 30.1,
            "bin_end": 31.4,
            "count": 5
           },
           {
            "bin_start": 31.4,
            "bin_end": 32.7,
            "count": 4
           },
           {
            "bin_start": 32.7,
            "bin_end": 34,
            "count": 5
           }
          ]
         }
        },
        {
         "name": "2nd_serve_return_won",
         "dtype": "int64",
         "stats": {
          "unique_count": 11,
          "nan_count": 0,
          "min": "42",
          "max": "55",
          "histogram": [
           {
            "bin_start": 42,
            "bin_end": 43.3,
            "count": 2
           },
           {
            "bin_start": 43.3,
            "bin_end": 44.6,
            "count": 0
           },
           {
            "bin_start": 44.6,
            "bin_end": 45.9,
            "count": 1
           },
           {
            "bin_start": 45.9,
            "bin_end": 47.2,
            "count": 2
           },
           {
            "bin_start": 47.2,
            "bin_end": 48.5,
            "count": 3
           },
           {
            "bin_start": 48.5,
            "bin_end": 49.8,
            "count": 6
           },
           {
            "bin_start": 49.8,
            "bin_end": 51.1,
            "count": 16
           },
           {
            "bin_start": 51.1,
            "bin_end": 52.4,
            "count": 4
           },
           {
            "bin_start": 52.4,
            "bin_end": 53.7,
            "count": 3
           },
           {
            "bin_start": 53.7,
            "bin_end": 55,
            "count": 4
           }
          ]
         }
        },
        {
         "name": "total_break_pts",
         "dtype": "int64",
         "stats": {
          "unique_count": 41,
          "nan_count": 0,
          "min": "319",
          "max": "10943",
          "histogram": [
           {
            "bin_start": 319,
            "bin_end": 1381.4,
            "count": 16
           },
           {
            "bin_start": 1381.4,
            "bin_end": 2443.8,
            "count": 13
           },
           {
            "bin_start": 2443.8,
            "bin_end": 3506.2000000000003,
            "count": 2
           },
           {
            "bin_start": 3506.2000000000003,
            "bin_end": 4568.6,
            "count": 6
           },
           {
            "bin_start": 4568.6,
            "bin_end": 5631,
            "count": 0
           },
           {
            "bin_start": 5631,
            "bin_end": 6693.400000000001,
            "count": 2
           },
           {
            "bin_start": 6693.400000000001,
            "bin_end": 7755.800000000001,
            "count": 0
           },
           {
            "bin_start": 7755.800000000001,
            "bin_end": 8818.2,
            "count": 0
           },
           {
            "bin_start": 8818.2,
            "bin_end": 9880.6,
            "count": 0
           },
           {
            "bin_start": 9880.6,
            "bin_end": 10943,
            "count": 2
           }
          ]
         }
        },
        {
         "name": "break_pts_conv",
         "dtype": "int64",
         "stats": {
          "unique_count": 12,
          "nan_count": 0,
          "min": "30",
          "max": "45",
          "histogram": [
           {
            "bin_start": 30,
            "bin_end": 31.5,
            "count": 2
           },
           {
            "bin_start": 31.5,
            "bin_end": 33,
            "count": 0
           },
           {
            "bin_start": 33,
            "bin_end": 34.5,
            "count": 0
           },
           {
            "bin_start": 34.5,
            "bin_end": 36,
            "count": 0
           },
           {
            "bin_start": 36,
            "bin_end": 37.5,
            "count": 5
           },
           {
            "bin_start": 37.5,
            "bin_end": 39,
            "count": 5
           },
           {
            "bin_start": 39,
            "bin_end": 40.5,
            "count": 12
           },
           {
            "bin_start": 40.5,
            "bin_end": 42,
            "count": 8
           },
           {
            "bin_start": 42,
            "bin_end": 43.5,
            "count": 6
           },
           {
            "bin_start": 43.5,
            "bin_end": 45,
            "count": 3
           }
          ]
         }
        },
        {
         "name": "return_games_played",
         "dtype": "int64",
         "stats": {
          "unique_count": 41,
          "nan_count": 0,
          "min": "457",
          "max": "14633",
          "histogram": [
           {
            "bin_start": 457,
            "bin_end": 1874.6,
            "count": 11
           },
           {
            "bin_start": 1874.6,
            "bin_end": 3292.2,
            "count": 12
           },
           {
            "bin_start": 3292.2,
            "bin_end": 4709.799999999999,
            "count": 7
           },
           {
            "bin_start": 4709.799999999999,
            "bin_end": 6127.4,
            "count": 3
           },
           {
            "bin_start": 6127.4,
            "bin_end": 7545,
            "count": 3
           },
           {
            "bin_start": 7545,
            "bin_end": 8962.599999999999,
            "count": 0
           },
           {
            "bin_start": 8962.599999999999,
            "bin_end": 10380.199999999999,
            "count": 2
           },
           {
            "bin_start": 10380.199999999999,
            "bin_end": 11797.8,
            "count": 1
           },
           {
            "bin_start": 11797.8,
            "bin_end": 13215.4,
            "count": 0
           },
           {
            "bin_start": 13215.4,
            "bin_end": 14633,
            "count": 2
           }
          ]
         }
        },
        {
         "name": "return_games_won",
         "dtype": "int64",
         "stats": {
          "unique_count": 14,
          "nan_count": 0,
          "min": "10",
          "max": "34",
          "histogram": [
           {
            "bin_start": 10,
            "bin_end": 12.4,
            "count": 2
           },
           {
            "bin_start": 12.4,
            "bin_end": 14.8,
            "count": 0
           },
           {
            "bin_start": 14.8,
            "bin_end": 17.2,
            "count": 0
           },
           {
            "bin_start": 17.2,
            "bin_end": 19.6,
            "count": 7
           },
           {
            "bin_start": 19.6,
            "bin_end": 22,
            "count": 4
           },
           {
            "bin_start": 22,
            "bin_end": 24.4,
            "count": 14
           },
           {
            "bin_start": 24.4,
            "bin_end": 26.8,
            "count": 5
           },
           {
            "bin_start": 26.8,
            "bin_end": 29.2,
            "count": 5
           },
           {
            "bin_start": 29.2,
            "bin_end": 31.599999999999998,
            "count": 0
           },
           {
            "bin_start": 31.599999999999998,
            "bin_end": 34,
            "count": 4
           }
          ]
         }
        },
        {
         "name": "return_points_won",
         "dtype": "int64",
         "stats": {
          "unique_count": 10,
          "nan_count": 0,
          "min": "28",
          "max": "42",
          "histogram": [
           {
            "bin_start": 28,
            "bin_end": 29.4,
            "count": 1
           },
           {
            "bin_start": 29.4,
            "bin_end": 30.8,
            "count": 1
           },
           {
            "bin_start": 30.8,
            "bin_end": 32.2,
            "count": 0
           },
           {
            "bin_start": 32.2,
            "bin_end": 33.6,
            "count": 0
           },
           {
            "bin_start": 33.6,
            "bin_end": 35,
            "count": 0
           },
           {
            "bin_start": 35,
            "bin_end": 36.4,
            "count": 9
           },
           {
            "bin_start": 36.4,
            "bin_end": 37.8,
            "count": 7
           },
           {
            "bin_start": 37.8,
            "bin_end": 39.2,
            "count": 15
           },
           {
            "bin_start": 39.2,
            "bin_end": 40.6,
            "count": 4
           },
           {
            "bin_start": 40.6,
            "bin_end": 42,
            "count": 4
           }
          ]
         }
        },
        {
         "name": "total_pts_won",
         "dtype": "int64",
         "stats": {
          "unique_count": 7,
          "nan_count": 0,
          "min": "49",
          "max": "55",
          "histogram": [
           {
            "bin_start": 49,
            "bin_end": 49.6,
            "count": 2
           },
           {
            "bin_start": 49.6,
            "bin_end": 50.2,
            "count": 14
           },
           {
            "bin_start": 50.2,
            "bin_end": 50.8,
            "count": 0
           },
           {
            "bin_start": 50.8,
            "bin_end": 51.4,
            "count": 13
           },
           {
            "bin_start": 51.4,
            "bin_end": 52,
            "count": 0
           },
           {
            "bin_start": 52,
            "bin_end": 52.6,
            "count": 9
           },
           {
            "bin_start": 52.6,
            "bin_end": 53.2,
            "count": 1
           },
           {
            "bin_start": 53.2,
            "bin_end": 53.8,
            "count": 0
           },
           {
            "bin_start": 53.8,
            "bin_end": 54.4,
            "count": 1
           },
           {
            "bin_start": 54.4,
            "bin_end": 55,
            "count": 1
           }
          ]
         }
        },
        {
         "name": "avg_aces_yr",
         "dtype": "float64",
         "stats": {
          "unique_count": 41,
          "nan_count": 0,
          "min": "16.25",
          "max": "908.9333333333333",
          "histogram": [
           {
            "bin_start": 16.25,
            "bin_end": 105.51833333333333,
            "count": 13
           },
           {
            "bin_start": 105.51833333333333,
            "bin_end": 194.78666666666666,
            "count": 9
           },
           {
            "bin_start": 194.78666666666666,
            "bin_end": 284.055,
            "count": 5
           },
           {
            "bin_start": 284.055,
            "bin_end": 373.3233333333333,
            "count": 7
           },
           {
            "bin_start": 373.3233333333333,
            "bin_end": 462.59166666666664,
            "count": 6
           },
           {
            "bin_start": 462.59166666666664,
            "bin_end": 551.86,
            "count": 0
           },
           {
            "bin_start": 551.86,
            "bin_end": 641.1283333333333,
            "count": 0
           },
           {
            "bin_start": 641.1283333333333,
            "bin_end": 730.3966666666666,
            "count": 0
           },
           {
            "bin_start": 730.3966666666666,
            "bin_end": 819.665,
            "count": 0
           },
           {
            "bin_start": 819.665,
            "bin_end": 908.9333333333333,
            "count": 1
           }
          ]
         }
        },
        {
         "name": "avg_double_faults_yr",
         "dtype": "float64",
         "stats": {
          "unique_count": 41,
          "nan_count": 0,
          "min": "15.25",
          "max": "274.0",
          "histogram": [
           {
            "bin_start": 15.25,
            "bin_end": 41.125,
            "count": 7
           },
           {
            "bin_start": 41.125,
            "bin_end": 67,
            "count": 10
           },
           {
            "bin_start": 67,
            "bin_end": 92.875,
            "count": 7
           },
           {
            "bin_start": 92.875,
            "bin_end": 118.75,
            "count": 6
           },
           {
            "bin_start": 118.75,
            "bin_end": 144.625,
            "count": 3
           },
           {
            "bin_start": 144.625,
            "bin_end": 170.5,
            "count": 4
           },
           {
            "bin_start": 170.5,
            "bin_end": 196.375,
            "count": 2
           },
           {
            "bin_start": 196.375,
            "bin_end": 222.25,
            "count": 1
           },
           {
            "bin_start": 222.25,
            "bin_end": 248.125,
            "count": 0
           },
           {
            "bin_start": 248.125,
            "bin_end": 274,
            "count": 1
           }
          ]
         }
        },
        {
         "name": "avg_break_points_faced_yr",
         "dtype": "float64",
         "stats": {
          "unique_count": 41,
          "nan_count": 0,
          "min": "29.181818181818183",
          "max": "322.0",
          "histogram": [
           {
            "bin_start": 29.181818181818183,
            "bin_end": 58.46363636363637,
            "count": 2
           },
           {
            "bin_start": 58.46363636363637,
            "bin_end": 87.74545454545455,
            "count": 2
           },
           {
            "bin_start": 87.74545454545455,
            "bin_end": 117.02727272727273,
            "count": 4
           },
           {
            "bin_start": 117.02727272727273,
            "bin_end": 146.3090909090909,
            "count": 2
           },
           {
            "bin_start": 146.3090909090909,
            "bin_end": 175.5909090909091,
            "count": 5
           },
           {
            "bin_start": 175.5909090909091,
            "bin_end": 204.87272727272727,
            "count": 3
           },
           {
            "bin_start": 204.87272727272727,
            "bin_end": 234.15454545454546,
            "count": 4
           },
           {
            "bin_start": 234.15454545454546,
            "bin_end": 263.43636363636364,
            "count": 10
           },
           {
            "bin_start": 263.43636363636364,
            "bin_end": 292.7181818181818,
            "count": 3
           },
           {
            "bin_start": 292.7181818181818,
            "bin_end": 322,
            "count": 6
           }
          ]
         }
        },
        {
         "name": "avg_service_games_played_yr",
         "dtype": "float64",
         "stats": {
          "unique_count": 41,
          "nan_count": 0,
          "min": "56.90909090909091",
          "max": "767.2631578947369",
          "histogram": [
           {
            "bin_start": 56.90909090909091,
            "bin_end": 127.9444976076555,
            "count": 3
           },
           {
            "bin_start": 127.9444976076555,
            "bin_end": 198.9799043062201,
            "count": 3
           },
           {
            "bin_start": 198.9799043062201,
            "bin_end": 270.01531100478473,
            "count": 4
           },
           {
            "bin_start": 270.01531100478473,
            "bin_end": 341.0507177033493,
            "count": 4
           },
           {
            "bin_start": 341.0507177033493,
            "bin_end": 412.08612440191393,
            "count": 8
           },
           {
            "bin_start": 412.08612440191393,
            "bin_end": 483.1215311004785,
            "count": 4
           },
           {
            "bin_start": 483.1215311004785,
            "bin_end": 554.1569377990431,
            "count": 6
           },
           {
            "bin_start": 554.1569377990431,
            "bin_end": 625.1923444976077,
            "count": 2
           },
           {
            "bin_start": 625.1923444976077,
            "bin_end": 696.2277511961723,
            "count": 3
           },
           {
            "bin_start": 696.2277511961723,
            "bin_end": 767.2631578947369,
            "count": 4
           }
          ]
         }
        },
        {
         "name": "avg_total_break_pts_yr",
         "dtype": "float64",
         "stats": {
          "unique_count": 41,
          "nan_count": 0,
          "min": "29.545454545454547",
          "max": "540.9473684210526",
          "histogram": [
           {
            "bin_start": 29.545454545454547,
            "bin_end": 80.68564593301434,
            "count": 3
           },
           {
            "bin_start": 80.68564593301434,
            "bin_end": 131.82583732057415,
            "count": 5
           },
           {
            "bin_start": 131.82583732057415,
            "bin_end": 182.96602870813393,
            "count": 5
           },
           {
            "bin_start": 182.96602870813393,
            "bin_end": 234.10622009569374,
            "count": 7
           },
           {
            "bin_start": 234.10622009569374,
            "bin_end": 285.24641148325355,
            "count": 7
           },
           {
            "bin_start": 285.24641148325355,
            "bin_end": 336.38660287081336,
            "count": 6
           },
           {
            "bin_start": 336.38660287081336,
            "bin_end": 387.5267942583732,
            "count": 5
           },
           {
            "bin_start": 387.5267942583732,
            "bin_end": 438.666985645933,
            "count": 1
           },
           {
            "bin_start": 438.666985645933,
            "bin_end": 489.8071770334928,
            "count": 0
           },
           {
            "bin_start": 489.8071770334928,
            "bin_end": 540.9473684210526,
            "count": 2
           }
          ]
         }
        },
        {
         "name": "avg_return_games_played_yr",
         "dtype": "float64",
         "stats": {
          "unique_count": 41,
          "nan_count": 0,
          "min": "56.81818181818182",
          "max": "746.2631578947369",
          "histogram": [
           {
            "bin_start": 56.81818181818182,
            "bin_end": 125.76267942583732,
            "count": 3
           },
           {
            "bin_start": 125.76267942583732,
            "bin_end": 194.70717703349283,
            "count": 3
           },
           {
            "bin_start": 194.70717703349283,
            "bin_end": 263.65167464114836,
            "count": 3
           },
           {
            "bin_start": 263.65167464114836,
            "bin_end": 332.59617224880384,
            "count": 5
           },
           {
            "bin_start": 332.59617224880384,
            "bin_end": 401.5406698564594,
            "count": 6
           },
           {
            "bin_start": 401.5406698564594,
            "bin_end": 470.48516746411485,
            "count": 5
           },
           {
            "bin_start": 470.48516746411485,
            "bin_end": 539.4296650717704,
            "count": 7
           },
           {
            "bin_start": 539.4296650717704,
            "bin_end": 608.3741626794259,
            "count": 2
           },
           {
            "bin_start": 608.3741626794259,
            "bin_end": 677.3186602870815,
            "count": 3
           },
           {
            "bin_start": 677.3186602870815,
            "bin_end": 746.2631578947369,
            "count": 4
           }
          ]
         }
        },
        {
         "name": "total_games_played",
         "dtype": "int64",
         "stats": {
          "unique_count": 41,
          "nan_count": 0,
          "min": "908",
          "max": "29413",
          "histogram": [
           {
            "bin_start": 908,
            "bin_end": 3758.5,
            "count": 11
           },
           {
            "bin_start": 3758.5,
            "bin_end": 6609,
            "count": 12
           },
           {
            "bin_start": 6609,
            "bin_end": 9459.5,
            "count": 7
           },
           {
            "bin_start": 9459.5,
            "bin_end": 12310,
            "count": 3
           },
           {
            "bin_start": 12310,
            "bin_end": 15160.5,
            "count": 3
           },
           {
            "bin_start": 15160.5,
            "bin_end": 18011,
            "count": 0
           },
           {
            "bin_start": 18011,
            "bin_end": 20861.5,
            "count": 2
           },
           {
            "bin_start": 20861.5,
            "bin_end": 23712,
            "count": 1
           },
           {
            "bin_start": 23712,
            "bin_end": 26562.5,
            "count": 0
           },
           {
            "bin_start": 26562.5,
            "bin_end": 29413,
            "count": 2
           }
          ]
         }
        },
        {
         "name": "avg_games_played_yr",
         "dtype": "float64",
         "stats": {
          "unique_count": 41,
          "nan_count": 0,
          "min": "113.72727272727273",
          "max": "1513.5263157894738",
          "histogram": [
           {
            "bin_start": 113.72727272727273,
            "bin_end": 253.70717703349283,
            "count": 3
           },
           {
            "bin_start": 253.70717703349283,
            "bin_end": 393.68708133971296,
            "count": 3
           },
           {
            "bin_start": 393.68708133971296,
            "bin_end": 533.6669856459331,
            "count": 3
           },
           {
            "bin_start": 533.6669856459331,
            "bin_end": 673.6468899521532,
            "count": 5
           },
           {
            "bin_start": 673.6468899521532,
            "bin_end": 813.6267942583733,
            "count": 7
           },
           {
            "bin_start": 813.6267942583733,
            "bin_end": 953.6066985645934,
            "count": 4
           },
           {
            "bin_start": 953.6066985645934,
            "bin_end": 1093.5866028708135,
            "count": 7
           },
           {
            "bin_start": 1093.5866028708135,
            "bin_end": 1233.5665071770336,
            "count": 2
           },
           {
            "bin_start": 1233.5665071770336,
            "bin_end": 1373.5464114832537,
            "count": 3
           },
           {
            "bin_start": 1373.5464114832537,
            "bin_end": 1513.5263157894738,
            "count": 4
           }
          ]
         }
        },
        {
         "name": "_deepnote_index_column",
         "dtype": "int64"
        }
       ],
       "rows": [
        {
         "player": "Oscar Otte",
         "career_length": 11,
         "backhand_type": 2,
         "aces": 387,
         "double_faults": 190,
         "first_serve": 58,
         "1st_serve_points_won": 75,
         "2nd_serve_points_won": 49,
         "break_points_faced": 321,
         "break_points_saved": 62,
         "service_games_played": 626,
         "service_games_won": 81,
         "total_service_points_won": 64,
         "1st_serve_return_won": 28,
         "2nd_serve_return_won": 49,
         "total_break_pts": 325,
         "break_pts_conv": 39,
         "return_games_played": 625,
         "return_games_won": 20,
         "return_points_won": 36,
         "total_pts_won": 50,
         "avg_aces_yr": 35.18181818181818,
         "avg_double_faults_yr": 17.272727272727273,
         "avg_break_points_faced_yr": 29.181818181818183,
         "avg_service_games_played_yr": 56.90909090909091,
         "avg_total_break_pts_yr": 29.545454545454547,
         "avg_return_games_played_yr": 56.81818181818182,
         "total_games_played": 1251,
         "avg_games_played_yr": 113.72727272727273,
         "_deepnote_index_column": 36
        },
        {
         "player": "Botic van de Zandschulp",
         "career_length": 9,
         "backhand_type": 2,
         "aces": 349,
         "double_faults": 192,
         "first_serve": 64,
         "1st_serve_points_won": 72,
         "2nd_serve_points_won": 50,
         "break_points_faced": 453,
         "break_points_saved": 65,
         "service_games_played": 777,
         "service_games_won": 80,
         "total_service_points_won": 64,
         "1st_serve_return_won": 31,
         "2nd_serve_return_won": 49,
         "total_break_pts": 472,
         "break_pts_conv": 40,
         "return_games_played": 789,
         "return_games_won": 24,
         "return_points_won": 38,
         "total_pts_won": 51,
         "avg_aces_yr": 38.77777777777778,
         "avg_double_faults_yr": 21.333333333333332,
         "avg_break_points_faced_yr": 50.333333333333336,
         "avg_service_games_played_yr": 86.33333333333333,
         "avg_total_break_pts_yr": 52.44444444444444,
         "avg_return_games_played_yr": 87.66666666666667,
         "total_games_played": 1566,
         "avg_games_played_yr": 174,
         "_deepnote_index_column": 25
        },
        {
         "player": "Sebastian Baez",
         "career_length": 4,
         "backhand_type": 2,
         "aces": 65,
         "double_faults": 61,
         "first_serve": 73,
         "1st_serve_points_won": 64,
         "2nd_serve_points_won": 53,
         "break_points_faced": 286,
         "break_points_saved": 60,
         "service_games_played": 451,
         "service_games_won": 75,
         "total_service_points_won": 61,
         "1st_serve_return_won": 33,
         "2nd_serve_return_won": 52,
         "total_break_pts": 319,
         "break_pts_conv": 39,
         "return_games_played": 457,
         "return_games_won": 28,
         "return_points_won": 40,
         "total_pts_won": 50,
         "avg_aces_yr": 16.25,
         "avg_double_faults_yr": 15.25,
         "avg_break_points_faced_yr": 71.5,
         "avg_service_games_played_yr": 112.75,
         "avg_total_break_pts_yr": 79.75,
         "avg_return_games_played_yr": 114.25,
         "total_games_played": 908,
         "avg_games_played_yr": 227,
         "_deepnote_index_column": 35
        },
        {
         "player": "Ilya Ivashka",
         "career_length": 9,
         "backhand_type": 2,
         "aces": 718,
         "double_faults": 344,
         "first_serve": 61,
         "1st_serve_points_won": 72,
         "2nd_serve_points_won": 49,
         "break_points_faced": 772,
         "break_points_saved": 60,
         "service_games_played": 1403,
         "service_games_won": 78,
         "total_service_points_won": 63,
         "1st_serve_return_won": 29,
         "2nd_serve_return_won": 51,
         "total_break_pts": 847,
         "break_pts_conv": 38,
         "return_games_played": 1397,
         "return_games_won": 23,
         "return_points_won": 38,
         "total_pts_won": 50,
         "avg_aces_yr": 79.77777777777777,
         "avg_double_faults_yr": 38.22222222222222,
         "avg_break_points_faced_yr": 85.77777777777777,
         "avg_service_games_played_yr": 155.88888888888889,
         "avg_total_break_pts_yr": 94.11111111111111,
         "avg_return_games_played_yr": 155.22222222222223,
         "total_games_played": 2800,
         "avg_games_played_yr": 311.1111111111111,
         "_deepnote_index_column": 39
        },
        {
         "player": "Daniel Evans",
         "career_length": 16,
         "backhand_type": 1,
         "aces": 877,
         "double_faults": 587,
         "first_serve": 61,
         "1st_serve_points_won": 70,
         "2nd_serve_points_won": 51,
         "break_points_faced": 1530,
         "break_points_saved": 61,
         "service_games_played": 2607,
         "service_games_won": 77,
         "total_service_points_won": 63,
         "1st_serve_return_won": 30,
         "2nd_serve_return_won": 50,
         "total_break_pts": 1487,
         "break_pts_conv": 41,
         "return_games_played": 2636,
         "return_games_won": 23,
         "return_points_won": 38,
         "total_pts_won": 50,
         "avg_aces_yr": 54.8125,
         "avg_double_faults_yr": 36.6875,
         "avg_break_points_faced_yr": 95.625,
         "avg_service_games_played_yr": 162.9375,
         "avg_total_break_pts_yr": 92.9375,
         "avg_return_games_played_yr": 164.75,
         "total_games_played": 5243,
         "avg_games_played_yr": 327.6875,
         "_deepnote_index_column": 32
        },
        {
         "player": "Filip Krajinovic",
         "career_length": 14,
         "backhand_type": 2,
         "aces": 988,
         "double_faults": 420,
         "first_serve": 64,
         "1st_serve_points_won": 68,
         "2nd_serve_points_won": 51,
         "break_points_faced": 1563,
         "break_points_saved": 61,
         "service_games_played": 2586,
         "service_games_won": 76,
         "total_service_points_won": 62,
         "1st_serve_return_won": 29,
         "2nd_serve_return_won": 51,
         "total_break_pts": 1475,
         "break_pts_conv": 41,
         "return_games_played": 2588,
         "return_games_won": 24,
         "return_points_won": 38,
         "total_pts_won": 50,
         "avg_aces_yr": 70.57142857142857,
         "avg_double_faults_yr": 30,
         "avg_break_points_faced_yr": 111.64285714285714,
         "avg_service_games_played_yr": 184.71428571428572,
         "avg_total_break_pts_yr": 105.35714285714286,
         "avg_return_games_played_yr": 184.85714285714286,
         "total_games_played": 5174,
         "avg_games_played_yr": 369.57142857142856,
         "_deepnote_index_column": 30
        },
        {
         "player": "Lorenzo Sonego",
         "career_length": 9,
         "backhand_type": 2,
         "aces": 983,
         "double_faults": 320,
         "first_serve": 65,
         "1st_serve_points_won": 72,
         "2nd_serve_points_won": 51,
         "break_points_faced": 1013,
         "break_points_saved": 63,
         "service_games_played": 2036,
         "service_games_won": 82,
         "total_service_points_won": 65,
         "1st_serve_return_won": 29,
         "2nd_serve_return_won": 46,
         "total_break_pts": 1026,
         "break_pts_conv": 37,
         "return_games_played": 2022,
         "return_games_won": 19,
         "return_points_won": 35,
         "total_pts_won": 50,
         "avg_aces_yr": 109.22222222222223,
         "avg_double_faults_yr": 35.55555555555556,
         "avg_break_points_faced_yr": 112.55555555555556,
         "avg_service_games_played_yr": 226.22222222222223,
         "avg_total_break_pts_yr": 114,
         "avg_return_games_played_yr": 224.66666666666666,
         "total_games_played": 4058,
         "avg_games_played_yr": 450.8888888888889,
         "_deepnote_index_column": 31
        },
        {
         "player": "Tommy Paul",
         "career_length": 7,
         "backhand_type": 2,
         "aces": 588,
         "double_faults": 314,
         "first_serve": 61,
         "1st_serve_points_won": 70,
         "2nd_serve_points_won": 51,
         "break_points_faced": 926,
         "break_points_saved": 60,
         "service_games_played": 1651,
         "service_games_won": 77,
         "total_service_points_won": 63,
         "1st_serve_return_won": 29,
         "2nd_serve_return_won": 50,
         "total_break_pts": 938,
         "break_pts_conv": 39,
         "return_games_played": 1649,
         "return_games_won": 22,
         "return_points_won": 37,
         "total_pts_won": 50,
         "avg_aces_yr": 84,
         "avg_double_faults_yr": 44.857142857142854,
         "avg_break_points_faced_yr": 132.28571428571428,
         "avg_service_games_played_yr": 235.85714285714286,
         "avg_total_break_pts_yr": 134,
         "avg_return_games_played_yr": 235.57142857142858,
         "total_games_played": 3300,
         "avg_games_played_yr": 471.42857142857144,
         "_deepnote_index_column": 34
        },
        {
         "player": "Nikoloz Basilashvili",
         "career_length": 14,
         "backhand_type": 2,
         "aces": 1161,
         "double_faults": 1239,
         "first_serve": 59,
         "1st_serve_points_won": 68,
         "2nd_serve_points_won": 49,
         "break_points_faced": 2220,
         "break_points_saved": 58,
         "service_games_played": 3503,
         "service_games_won": 73,
         "total_service_points_won": 60,
         "1st_serve_return_won": 29,
         "2nd_serve_return_won": 50,
         "total_break_pts": 1988,
         "break_pts_conv": 39,
         "return_games_played": 3515,
         "return_games_won": 22,
         "return_points_won": 37,
         "total_pts_won": 49,
         "avg_aces_yr": 82.92857142857143,
         "avg_double_faults_yr": 88.5,
         "avg_break_points_faced_yr": 158.57142857142858,
         "avg_service_games_played_yr": 250.21428571428572,
         "avg_total_break_pts_yr": 142,
         "avg_return_games_played_yr": 251.07142857142858,
         "total_games_played": 7018,
         "avg_games_played_yr": 501.2857142857143,
         "_deepnote_index_column": 26
        },
        {
         "player": "Carlos Alcaraz",
         "career_length": 4,
         "backhand_type": 2,
         "aces": 267,
         "double_faults": 196,
         "first_serve": 64,
         "1st_serve_points_won": 70,
         "2nd_serve_points_won": 54,
         "break_points_faced": 569,
         "break_points_saved": 62,
         "service_games_played": 1080,
         "service_games_won": 80,
         "total_service_points_won": 64,
         "1st_serve_return_won": 34,
         "2nd_serve_return_won": 53,
         "total_break_pts": 798,
         "break_pts_conv": 43,
         "return_games_played": 1085,
         "return_games_won": 32,
         "return_points_won": 41,
         "total_pts_won": 53,
         "avg_aces_yr": 66.75,
         "avg_double_faults_yr": 49,
         "avg_break_points_faced_yr": 142.25,
         "avg_service_games_played_yr": 270,
         "avg_total_break_pts_yr": 199.5,
         "avg_return_games_played_yr": 271.25,
         "total_games_played": 2165,
         "avg_games_played_yr": 541.25,
         "_deepnote_index_column": 6
        }
       ]
      },
      "text/plain": "                         player  career_length  backhand_type   aces  \\\n36                   Oscar Otte             11              2    387   \n25      Botic van de Zandschulp              9              2    349   \n35               Sebastian Baez              4              2     65   \n39                 Ilya Ivashka              9              2    718   \n32                 Daniel Evans             16              1    877   \n30             Filip Krajinovic             14              2    988   \n31               Lorenzo Sonego              9              2    983   \n34                   Tommy Paul              7              2    588   \n26         Nikoloz Basilashvili             14              2   1161   \n6                Carlos Alcaraz              4              2    267   \n28                  Holger Rune              2              2    147   \n37  Alejandro Davidovich Fokina              5              2    247   \n17                Reilly Opelka              7              2   2967   \n38             Alexander Bublik              6              2   2011   \n9                Hubert Hurkacz              7              2   1715   \n4                   Casper Ruud              7              2    986   \n29            Miomir Kecmanovic              5              2    607   \n10            Matteo Berrettini              7              2   1962   \n23               Alex de Minaur              7              2    780   \n19        Roberto Bautista Agut             17              2   1745   \n14            Diego Schwartzman             12              2    809   \n18          Pablo Carreno Busta             13              2   1723   \n40         Albert Ramos-Vinolas             15              2   1778   \n12                Jannik Sinner              4              2    692   \n27               Frances Tiafoe              7              2   1616   \n21              Karen Khachanov              9              2   2660   \n7                 Andrey Rublev              8              2   2072   \n13                 Taylor Fritz              7              2   2596   \n0               Daniil Medvedev              8              2   2845   \n11               Cameron Norrie              5              2   1031   \n8         Felix Auger-Aliassime              5              2   1945   \n20              Grigor Dimitrov             14              1   4049   \n33              Jenson Brooksby              1              2    121   \n22                 Gael Monfils             18              2   6668   \n16                  Marin Cilic             17              2   7778   \n15             Denis Shapovalov              5              1   2130   \n1              Alexander Zverev              9              2   3974   \n24                   John Isner             15              2  13634   \n3                  Rafael Nadal             21              2   3856   \n5            Stefanos Tsitsipas              6              1   2329   \n2                Novak Djokovic             19              2   6440   \n\n    double_faults  first_serve  1st_serve_points_won  2nd_serve_points_won  \\\n36            190           58                    75                    49   \n25            192           64                    72                    50   \n35             61           73                    64                    53   \n39            344           61                    72                    49   \n32            587           61                    70                    51   \n30            420           64                    68                    51   \n31            320           65                    72                    51   \n34            314           61                    70                    51   \n26           1239           59                    68                    49   \n6             196           64                    70                    54   \n28            157           62                    69                    51   \n37            337           68                    65                    50   \n17            466           64                    79                    55   \n38           1073           58                    76                    45   \n9             447           63                    75                    52   \n4             461           65                    72                    54   \n29            331           61                    70                    54   \n10            395           63                    78                    53   \n23            517           60                    70                    53   \n19           1064           66                    70                    54   \n14           1140           63                    66                    50   \n18            784           65                    69                    52   \n40           1311           62                    68                    52   \n12            304           60                    71                    53   \n27            600           62                    71                    52   \n21            914           62                    74                    52   \n7             890           60                    74                    50   \n13            725           59                    75                    51   \n0            1187           60                    75                    52   \n11            668           65                    70                    50   \n8             919           64                    75                    50   \n20           2096           62                    74                    51   \n33             62           64                    68                    52   \n22           2917           62                    73                    50   \n16           2521           57                    77                    52   \n15           1370           59                    76                    52   \n1            1973           65                    74                    50   \n24           1674           69                    79                    56   \n3            2066           68                    72                    57   \n5             735           62                    76                    55   \n2            2672           65                    74                    55   \n\n    break_points_faced  break_points_saved  ...  return_points_won  \\\n36                 321                  62  ...                 36   \n25                 453                  65  ...                 38   \n35                 286                  60  ...                 40   \n39                 772                  60  ...                 38   \n32                1530                  61  ...                 38   \n30                1563                  61  ...                 38   \n31                1013                  63  ...                 35   \n34                 926                  60  ...                 37   \n26                2220                  58  ...                 37   \n6                  569                  62  ...                 41   \n28                 317                  58  ...                 39   \n37                 944                  56  ...                 39   \n17                 699                  68  ...                 28   \n38                1112                  62  ...                 35   \n9                 1087                  64  ...                 36   \n4                 1137                  63  ...                 37   \n29                1064                  62  ...                 37   \n10                1030                  69  ...                 35   \n23                1446                  61  ...                 39   \n19                3579                  62  ...                 40   \n14                3038                  57  ...                 42   \n18                2949                  61  ...                 38   \n40                3891                  61  ...                 38   \n12                 991                  64  ...                 40   \n27                1655                  61  ...                 35   \n21                2133                  64  ...                 37   \n7                 1931                  62  ...                 39   \n13                1747                  62  ...                 35   \n0                 1897                  63  ...                 39   \n11                1470                  62  ...                 38   \n8                 1317                  63  ...                 37   \n20                3593                  63  ...                 37   \n33                 302                  56  ...                 40   \n22                5061                  62  ...                 39   \n16                4890                  64  ...                 38   \n15                1610                  66  ...                 36   \n1                 2709                  61  ...                 38   \n24                2936                  71  ...                 30   \n3                 6309                  67  ...                 42   \n5                 1679                  65  ...                 36   \n2                 6017                  66  ...                 42   \n\n    total_pts_won  avg_aces_yr  avg_double_faults_yr  \\\n36             50    35.181818             17.272727   \n25             51    38.777778             21.333333   \n35             50    16.250000             15.250000   \n39             50    79.777778             38.222222   \n32             50    54.812500             36.687500   \n30             50    70.571429             30.000000   \n31             50   109.222222             35.555556   \n34             50    84.000000             44.857143   \n26             49    82.928571             88.500000   \n6              53    66.750000             49.000000   \n28             50    73.500000             78.500000   \n37             50    49.400000             67.400000   \n17             50   423.857143             66.571429   \n38             49   335.166667            178.833333   \n9              51   245.000000             63.857143   \n4              52   140.857143             65.857143   \n29             50   121.400000             66.200000   \n10             52   280.285714             56.428571   \n23             51   111.428571             73.857143   \n19             52   102.647059             62.588235   \n14             51    67.416667             95.000000   \n18             51   132.538462             60.307692   \n40             50   118.533333             87.400000   \n12             52   173.000000             76.000000   \n27             50   230.857143             85.714286   \n21             51   295.555556            101.555556   \n7              52   259.000000            111.250000   \n13             50   370.857143            103.571429   \n0              52   355.625000            148.375000   \n11             51   206.200000            133.600000   \n8              51   389.000000            183.800000   \n20             51   289.214286            149.714286   \n33             51   121.000000             62.000000   \n22             51   370.444444            162.055556   \n16             52   457.529412            148.294118   \n15             51   426.000000            274.000000   \n1              52   441.555556            219.222222   \n24             51   908.933333            111.600000   \n3              55   183.619048             98.380952   \n5              52   388.166667            122.500000   \n2              54   338.947368            140.631579   \n\n    avg_break_points_faced_yr  avg_service_games_played_yr  \\\n36                  29.181818                    56.909091   \n25                  50.333333                    86.333333   \n35                  71.500000                   112.750000   \n39                  85.777778                   155.888889   \n32                  95.625000                   162.937500   \n30                 111.642857                   184.714286   \n31                 112.555556                   226.222222   \n34                 132.285714                   235.857143   \n26                 158.571429                   250.214286   \n6                  142.250000                   270.000000   \n28                 158.500000                   280.000000   \n37                 188.800000                   291.600000   \n17                  99.857143                   316.714286   \n38                 185.333333                   331.500000   \n9                  155.285714                   346.000000   \n4                  162.428571                   361.285714   \n29                 212.800000                   372.000000   \n10                 147.142857                   374.142857   \n23                 206.571429                   378.571429   \n19                 210.529412                   403.235294   \n14                 253.166667                   399.916667   \n18                 226.846154                   408.692308   \n40                 259.400000                   429.600000   \n12                 247.750000                   457.250000   \n27                 236.428571                   456.000000   \n21                 237.000000                   482.111111   \n7                  241.375000                   487.500000   \n13                 249.571429                   520.571429   \n0                  237.125000                   528.750000   \n11                 294.000000                   530.600000   \n8                  263.400000                   543.800000   \n20                 256.642857                   544.071429   \n33                 302.000000                   560.000000   \n22                 281.166667                   562.222222   \n16                 287.647059                   634.705882   \n15                 322.000000                   671.600000   \n1                  301.000000                   670.777778   \n24                 195.733333                   699.000000   \n3                  300.428571                   703.809524   \n5                  279.833333                   708.333333   \n2                  316.684211                   767.263158   \n\n    avg_total_break_pts_yr  avg_return_games_played_yr  total_games_played  \\\n36               29.545455                   56.818182                1251   \n25               52.444444                   87.666667                1566   \n35               79.750000                  114.250000                 908   \n39               94.111111                  155.222222                2800   \n32               92.937500                  164.750000                5243   \n30              105.357143                  184.857143                5174   \n31              114.000000                  224.666667                4058   \n34              134.000000                  235.571429                3300   \n26              142.000000                  251.071429                7018   \n6               199.500000                  271.250000                2165   \n28              178.500000                  285.500000                1131   \n37              193.600000                  294.000000                2928   \n17              101.285714                  312.428571                4404   \n38              162.833333                  331.333333                3977   \n9               175.428571                  340.857143                4808   \n4               203.428571                  352.285714                4995   \n29              212.000000                  374.000000                3730   \n10              185.428571                  374.285714                5239   \n23              228.000000                  382.000000                5324   \n19              252.352941                  395.882353               13585   \n14              297.583333                  405.000000                9659   \n18              240.692308                  408.692308               10626   \n40              247.733333                  433.600000               12948   \n12              278.750000                  455.500000                3651   \n27              228.285714                  457.285714                6393   \n21              253.666667                  483.333333                8689   \n7               301.500000                  489.250000                7814   \n13              274.428571                  516.571429                7260   \n0               333.000000                  529.750000                8468   \n11              308.400000                  530.600000                5306   \n8               293.200000                  535.600000                5397   \n20              305.928571                  535.857143               15119   \n33              373.000000                  554.000000                1114   \n22              344.611111                  561.777778               20232   \n16              369.176471                  627.058824               21450   \n15              344.200000                  670.000000                6708   \n1               403.444444                  671.666667               12082   \n24              234.733333                  691.400000               20856   \n3               521.095238                  696.809524               29413   \n5               367.500000                  692.333333                8404   \n2               540.947368                  746.263158               28757   \n\n    avg_games_played_yr  \n36           113.727273  \n25           174.000000  \n35           227.000000  \n39           311.111111  \n32           327.687500  \n30           369.571429  \n31           450.888889  \n34           471.428571  \n26           501.285714  \n6            541.250000  \n28           565.500000  \n37           585.600000  \n17           629.142857  \n38           662.833333  \n9            686.857143  \n4            713.571429  \n29           746.000000  \n10           748.428571  \n23           760.571429  \n19           799.117647  \n14           804.916667  \n18           817.384615  \n40           863.200000  \n12           912.750000  \n27           913.285714  \n21           965.444444  \n7            976.750000  \n13          1037.142857  \n0           1058.500000  \n11          1061.200000  \n8           1079.400000  \n20          1079.928571  \n33          1114.000000  \n22          1124.000000  \n16          1261.764706  \n15          1341.600000  \n1           1342.444444  \n24          1390.400000  \n3           1400.619048  \n5           1400.666667  \n2           1513.526316  \n\n[41 rows x 29 columns]",
      "text/html": "<div>\n<style scoped>\n    .dataframe tbody tr th:only-of-type {\n        vertical-align: middle;\n    }\n\n    .dataframe tbody tr th {\n        vertical-align: top;\n    }\n\n    .dataframe thead th {\n        text-align: right;\n    }\n</style>\n<table border=\"1\" class=\"dataframe\">\n  <thead>\n    <tr style=\"text-align: right;\">\n      <th></th>\n      <th>player</th>\n      <th>career_length</th>\n      <th>backhand_type</th>\n      <th>aces</th>\n      <th>double_faults</th>\n      <th>first_serve</th>\n      <th>1st_serve_points_won</th>\n      <th>2nd_serve_points_won</th>\n      <th>break_points_faced</th>\n      <th>break_points_saved</th>\n      <th>...</th>\n      <th>return_points_won</th>\n      <th>total_pts_won</th>\n      <th>avg_aces_yr</th>\n      <th>avg_double_faults_yr</th>\n      <th>avg_break_points_faced_yr</th>\n      <th>avg_service_games_played_yr</th>\n      <th>avg_total_break_pts_yr</th>\n      <th>avg_return_games_played_yr</th>\n      <th>total_games_played</th>\n      <th>avg_games_played_yr</th>\n    </tr>\n  </thead>\n  <tbody>\n    <tr>\n      <th>36</th>\n      <td>Oscar Otte</td>\n      <td>11</td>\n      <td>2</td>\n      <td>387</td>\n      <td>190</td>\n      <td>58</td>\n      <td>75</td>\n      <td>49</td>\n      <td>321</td>\n      <td>62</td>\n      <td>...</td>\n      <td>36</td>\n      <td>50</td>\n      <td>35.181818</td>\n      <td>17.272727</td>\n      <td>29.181818</td>\n      <td>56.909091</td>\n      <td>29.545455</td>\n      <td>56.818182</td>\n      <td>1251</td>\n      <td>113.727273</td>\n    </tr>\n    <tr>\n      <th>25</th>\n      <td>Botic van de Zandschulp</td>\n      <td>9</td>\n      <td>2</td>\n      <td>349</td>\n      <td>192</td>\n      <td>64</td>\n      <td>72</td>\n      <td>50</td>\n      <td>453</td>\n      <td>65</td>\n      <td>...</td>\n      <td>38</td>\n      <td>51</td>\n      <td>38.777778</td>\n      <td>21.333333</td>\n      <td>50.333333</td>\n      <td>86.333333</td>\n      <td>52.444444</td>\n      <td>87.666667</td>\n      <td>1566</td>\n      <td>174.000000</td>\n    </tr>\n    <tr>\n      <th>35</th>\n      <td>Sebastian Baez</td>\n      <td>4</td>\n      <td>2</td>\n      <td>65</td>\n      <td>61</td>\n      <td>73</td>\n      <td>64</td>\n      <td>53</td>\n      <td>286</td>\n      <td>60</td>\n      <td>...</td>\n      <td>40</td>\n      <td>50</td>\n      <td>16.250000</td>\n      <td>15.250000</td>\n      <td>71.500000</td>\n      <td>112.750000</td>\n      <td>79.750000</td>\n      <td>114.250000</td>\n      <td>908</td>\n      <td>227.000000</td>\n    </tr>\n    <tr>\n      <th>39</th>\n      <td>Ilya Ivashka</td>\n      <td>9</td>\n      <td>2</td>\n      <td>718</td>\n      <td>344</td>\n      <td>61</td>\n      <td>72</td>\n      <td>49</td>\n      <td>772</td>\n      <td>60</td>\n      <td>...</td>\n      <td>38</td>\n      <td>50</td>\n      <td>79.777778</td>\n      <td>38.222222</td>\n      <td>85.777778</td>\n      <td>155.888889</td>\n      <td>94.111111</td>\n      <td>155.222222</td>\n      <td>2800</td>\n      <td>311.111111</td>\n    </tr>\n    <tr>\n      <th>32</th>\n      <td>Daniel Evans</td>\n      <td>16</td>\n      <td>1</td>\n      <td>877</td>\n      <td>587</td>\n      <td>61</td>\n      <td>70</td>\n      <td>51</td>\n      <td>1530</td>\n      <td>61</td>\n      <td>...</td>\n      <td>38</td>\n      <td>50</td>\n      <td>54.812500</td>\n      <td>36.687500</td>\n      <td>95.625000</td>\n      <td>162.937500</td>\n      <td>92.937500</td>\n      <td>164.750000</td>\n      <td>5243</td>\n      <td>327.687500</td>\n    </tr>\n    <tr>\n      <th>30</th>\n      <td>Filip Krajinovic</td>\n      <td>14</td>\n      <td>2</td>\n      <td>988</td>\n      <td>420</td>\n      <td>64</td>\n      <td>68</td>\n      <td>51</td>\n      <td>1563</td>\n      <td>61</td>\n      <td>...</td>\n      <td>38</td>\n      <td>50</td>\n      <td>70.571429</td>\n      <td>30.000000</td>\n      <td>111.642857</td>\n      <td>184.714286</td>\n      <td>105.357143</td>\n      <td>184.857143</td>\n      <td>5174</td>\n      <td>369.571429</td>\n    </tr>\n    <tr>\n      <th>31</th>\n      <td>Lorenzo Sonego</td>\n      <td>9</td>\n      <td>2</td>\n      <td>983</td>\n      <td>320</td>\n      <td>65</td>\n      <td>72</td>\n      <td>51</td>\n      <td>1013</td>\n      <td>63</td>\n      <td>...</td>\n      <td>35</td>\n      <td>50</td>\n      <td>109.222222</td>\n      <td>35.555556</td>\n      <td>112.555556</td>\n      <td>226.222222</td>\n      <td>114.000000</td>\n      <td>224.666667</td>\n      <td>4058</td>\n      <td>450.888889</td>\n    </tr>\n    <tr>\n      <th>34</th>\n      <td>Tommy Paul</td>\n      <td>7</td>\n      <td>2</td>\n      <td>588</td>\n      <td>314</td>\n      <td>61</td>\n      <td>70</td>\n      <td>51</td>\n      <td>926</td>\n      <td>60</td>\n      <td>...</td>\n      <td>37</td>\n      <td>50</td>\n      <td>84.000000</td>\n      <td>44.857143</td>\n      <td>132.285714</td>\n      <td>235.857143</td>\n      <td>134.000000</td>\n      <td>235.571429</td>\n      <td>3300</td>\n      <td>471.428571</td>\n    </tr>\n    <tr>\n      <th>26</th>\n      <td>Nikoloz Basilashvili</td>\n      <td>14</td>\n      <td>2</td>\n      <td>1161</td>\n      <td>1239</td>\n      <td>59</td>\n      <td>68</td>\n      <td>49</td>\n      <td>2220</td>\n      <td>58</td>\n      <td>...</td>\n      <td>37</td>\n      <td>49</td>\n      <td>82.928571</td>\n      <td>88.500000</td>\n      <td>158.571429</td>\n      <td>250.214286</td>\n      <td>142.000000</td>\n      <td>251.071429</td>\n      <td>7018</td>\n      <td>501.285714</td>\n    </tr>\n    <tr>\n      <th>6</th>\n      <td>Carlos Alcaraz</td>\n      <td>4</td>\n      <td>2</td>\n      <td>267</td>\n      <td>196</td>\n      <td>64</td>\n      <td>70</td>\n      <td>54</td>\n      <td>569</td>\n      <td>62</td>\n      <td>...</td>\n      <td>41</td>\n      <td>53</td>\n      <td>66.750000</td>\n      <td>49.000000</td>\n      <td>142.250000</td>\n      <td>270.000000</td>\n      <td>199.500000</td>\n      <td>271.250000</td>\n      <td>2165</td>\n      <td>541.250000</td>\n    </tr>\n    <tr>\n      <th>28</th>\n      <td>Holger Rune</td>\n      <td>2</td>\n      <td>2</td>\n      <td>147</td>\n      <td>157</td>\n      <td>62</td>\n      <td>69</td>\n      <td>51</td>\n      <td>317</td>\n      <td>58</td>\n      <td>...</td>\n      <td>39</td>\n      <td>50</td>\n      <td>73.500000</td>\n      <td>78.500000</td>\n      <td>158.500000</td>\n      <td>280.000000</td>\n      <td>178.500000</td>\n      <td>285.500000</td>\n      <td>1131</td>\n      <td>565.500000</td>\n    </tr>\n    <tr>\n      <th>37</th>\n      <td>Alejandro Davidovich Fokina</td>\n      <td>5</td>\n      <td>2</td>\n      <td>247</td>\n      <td>337</td>\n      <td>68</td>\n      <td>65</td>\n      <td>50</td>\n      <td>944</td>\n      <td>56</td>\n      <td>...</td>\n      <td>39</td>\n      <td>50</td>\n      <td>49.400000</td>\n      <td>67.400000</td>\n      <td>188.800000</td>\n      <td>291.600000</td>\n      <td>193.600000</td>\n      <td>294.000000</td>\n      <td>2928</td>\n      <td>585.600000</td>\n    </tr>\n    <tr>\n      <th>17</th>\n      <td>Reilly Opelka</td>\n      <td>7</td>\n      <td>2</td>\n      <td>2967</td>\n      <td>466</td>\n      <td>64</td>\n      <td>79</td>\n      <td>55</td>\n      <td>699</td>\n      <td>68</td>\n      <td>...</td>\n      <td>28</td>\n      <td>50</td>\n      <td>423.857143</td>\n      <td>66.571429</td>\n      <td>99.857143</td>\n      <td>316.714286</td>\n      <td>101.285714</td>\n      <td>312.428571</td>\n      <td>4404</td>\n      <td>629.142857</td>\n    </tr>\n    <tr>\n      <th>38</th>\n      <td>Alexander Bublik</td>\n      <td>6</td>\n      <td>2</td>\n      <td>2011</td>\n      <td>1073</td>\n      <td>58</td>\n      <td>76</td>\n      <td>45</td>\n      <td>1112</td>\n      <td>62</td>\n      <td>...</td>\n      <td>35</td>\n      <td>49</td>\n      <td>335.166667</td>\n      <td>178.833333</td>\n      <td>185.333333</td>\n      <td>331.500000</td>\n      <td>162.833333</td>\n      <td>331.333333</td>\n      <td>3977</td>\n      <td>662.833333</td>\n    </tr>\n    <tr>\n      <th>9</th>\n      <td>Hubert Hurkacz</td>\n      <td>7</td>\n      <td>2</td>\n      <td>1715</td>\n      <td>447</td>\n      <td>63</td>\n      <td>75</td>\n      <td>52</td>\n      <td>1087</td>\n      <td>64</td>\n      <td>...</td>\n      <td>36</td>\n      <td>51</td>\n      <td>245.000000</td>\n      <td>63.857143</td>\n      <td>155.285714</td>\n      <td>346.000000</td>\n      <td>175.428571</td>\n      <td>340.857143</td>\n      <td>4808</td>\n      <td>686.857143</td>\n    </tr>\n    <tr>\n      <th>4</th>\n      <td>Casper Ruud</td>\n      <td>7</td>\n      <td>2</td>\n      <td>986</td>\n      <td>461</td>\n      <td>65</td>\n      <td>72</td>\n      <td>54</td>\n      <td>1137</td>\n      <td>63</td>\n      <td>...</td>\n      <td>37</td>\n      <td>52</td>\n      <td>140.857143</td>\n      <td>65.857143</td>\n      <td>162.428571</td>\n      <td>361.285714</td>\n      <td>203.428571</td>\n      <td>352.285714</td>\n      <td>4995</td>\n      <td>713.571429</td>\n    </tr>\n    <tr>\n      <th>29</th>\n      <td>Miomir Kecmanovic</td>\n      <td>5</td>\n      <td>2</td>\n      <td>607</td>\n      <td>331</td>\n      <td>61</td>\n      <td>70</td>\n      <td>54</td>\n      <td>1064</td>\n      <td>62</td>\n      <td>...</td>\n      <td>37</td>\n      <td>50</td>\n      <td>121.400000</td>\n      <td>66.200000</td>\n      <td>212.800000</td>\n      <td>372.000000</td>\n      <td>212.000000</td>\n      <td>374.000000</td>\n      <td>3730</td>\n      <td>746.000000</td>\n    </tr>\n    <tr>\n      <th>10</th>\n      <td>Matteo Berrettini</td>\n      <td>7</td>\n      <td>2</td>\n      <td>1962</td>\n      <td>395</td>\n      <td>63</td>\n      <td>78</td>\n      <td>53</td>\n      <td>1030</td>\n      <td>69</td>\n      <td>...</td>\n      <td>35</td>\n      <td>52</td>\n      <td>280.285714</td>\n      <td>56.428571</td>\n      <td>147.142857</td>\n      <td>374.142857</td>\n      <td>185.428571</td>\n      <td>374.285714</td>\n      <td>5239</td>\n      <td>748.428571</td>\n    </tr>\n    <tr>\n      <th>23</th>\n      <td>Alex de Minaur</td>\n      <td>7</td>\n      <td>2</td>\n      <td>780</td>\n      <td>517</td>\n      <td>60</td>\n      <td>70</td>\n      <td>53</td>\n      <td>1446</td>\n      <td>61</td>\n      <td>...</td>\n      <td>39</td>\n      <td>51</td>\n      <td>111.428571</td>\n      <td>73.857143</td>\n      <td>206.571429</td>\n      <td>378.571429</td>\n      <td>228.000000</td>\n      <td>382.000000</td>\n      <td>5324</td>\n      <td>760.571429</td>\n    </tr>\n    <tr>\n      <th>19</th>\n      <td>Roberto Bautista Agut</td>\n      <td>17</td>\n      <td>2</td>\n      <td>1745</td>\n      <td>1064</td>\n      <td>66</td>\n      <td>70</td>\n      <td>54</td>\n      <td>3579</td>\n      <td>62</td>\n      <td>...</td>\n      <td>40</td>\n      <td>52</td>\n      <td>102.647059</td>\n      <td>62.588235</td>\n      <td>210.529412</td>\n      <td>403.235294</td>\n      <td>252.352941</td>\n      <td>395.882353</td>\n      <td>13585</td>\n      <td>799.117647</td>\n    </tr>\n    <tr>\n      <th>14</th>\n      <td>Diego Schwartzman</td>\n      <td>12</td>\n      <td>2</td>\n      <td>809</td>\n      <td>1140</td>\n      <td>63</td>\n      <td>66</td>\n      <td>50</td>\n      <td>3038</td>\n      <td>57</td>\n      <td>...</td>\n      <td>42</td>\n      <td>51</td>\n      <td>67.416667</td>\n      <td>95.000000</td>\n      <td>253.166667</td>\n      <td>399.916667</td>\n      <td>297.583333</td>\n      <td>405.000000</td>\n      <td>9659</td>\n      <td>804.916667</td>\n    </tr>\n    <tr>\n      <th>18</th>\n      <td>Pablo Carreno Busta</td>\n      <td>13</td>\n      <td>2</td>\n      <td>1723</td>\n      <td>784</td>\n      <td>65</td>\n      <td>69</td>\n      <td>52</td>\n      <td>2949</td>\n      <td>61</td>\n      <td>...</td>\n      <td>38</td>\n      <td>51</td>\n      <td>132.538462</td>\n      <td>60.307692</td>\n      <td>226.846154</td>\n      <td>408.692308</td>\n      <td>240.692308</td>\n      <td>408.692308</td>\n      <td>10626</td>\n      <td>817.384615</td>\n    </tr>\n    <tr>\n      <th>40</th>\n      <td>Albert Ramos-Vinolas</td>\n      <td>15</td>\n      <td>2</td>\n      <td>1778</td>\n      <td>1311</td>\n      <td>62</td>\n      <td>68</td>\n      <td>52</td>\n      <td>3891</td>\n      <td>61</td>\n      <td>...</td>\n      <td>38</td>\n      <td>50</td>\n      <td>118.533333</td>\n      <td>87.400000</td>\n      <td>259.400000</td>\n      <td>429.600000</td>\n      <td>247.733333</td>\n      <td>433.600000</td>\n      <td>12948</td>\n      <td>863.200000</td>\n    </tr>\n    <tr>\n      <th>12</th>\n      <td>Jannik Sinner</td>\n      <td>4</td>\n      <td>2</td>\n      <td>692</td>\n      <td>304</td>\n      <td>60</td>\n      <td>71</td>\n      <td>53</td>\n      <td>991</td>\n      <td>64</td>\n      <td>...</td>\n      <td>40</td>\n      <td>52</td>\n      <td>173.000000</td>\n      <td>76.000000</td>\n      <td>247.750000</td>\n      <td>457.250000</td>\n      <td>278.750000</td>\n      <td>455.500000</td>\n      <td>3651</td>\n      <td>912.750000</td>\n    </tr>\n    <tr>\n      <th>27</th>\n      <td>Frances Tiafoe</td>\n      <td>7</td>\n      <td>2</td>\n      <td>1616</td>\n      <td>600</td>\n      <td>62</td>\n      <td>71</td>\n      <td>52</td>\n      <td>1655</td>\n      <td>61</td>\n      <td>...</td>\n      <td>35</td>\n      <td>50</td>\n      <td>230.857143</td>\n      <td>85.714286</td>\n      <td>236.428571</td>\n      <td>456.000000</td>\n      <td>228.285714</td>\n      <td>457.285714</td>\n      <td>6393</td>\n      <td>913.285714</td>\n    </tr>\n    <tr>\n      <th>21</th>\n      <td>Karen Khachanov</td>\n      <td>9</td>\n      <td>2</td>\n      <td>2660</td>\n      <td>914</td>\n      <td>62</td>\n      <td>74</td>\n      <td>52</td>\n      <td>2133</td>\n      <td>64</td>\n      <td>...</td>\n      <td>37</td>\n      <td>51</td>\n      <td>295.555556</td>\n      <td>101.555556</td>\n      <td>237.000000</td>\n      <td>482.111111</td>\n      <td>253.666667</td>\n      <td>483.333333</td>\n      <td>8689</td>\n      <td>965.444444</td>\n    </tr>\n    <tr>\n      <th>7</th>\n      <td>Andrey Rublev</td>\n      <td>8</td>\n      <td>2</td>\n      <td>2072</td>\n      <td>890</td>\n      <td>60</td>\n      <td>74</td>\n      <td>50</td>\n      <td>1931</td>\n      <td>62</td>\n      <td>...</td>\n      <td>39</td>\n      <td>52</td>\n      <td>259.000000</td>\n      <td>111.250000</td>\n      <td>241.375000</td>\n      <td>487.500000</td>\n      <td>301.500000</td>\n      <td>489.250000</td>\n      <td>7814</td>\n      <td>976.750000</td>\n    </tr>\n    <tr>\n      <th>13</th>\n      <td>Taylor Fritz</td>\n      <td>7</td>\n      <td>2</td>\n      <td>2596</td>\n      <td>725</td>\n      <td>59</td>\n      <td>75</td>\n      <td>51</td>\n      <td>1747</td>\n      <td>62</td>\n      <td>...</td>\n      <td>35</td>\n      <td>50</td>\n      <td>370.857143</td>\n      <td>103.571429</td>\n      <td>249.571429</td>\n      <td>520.571429</td>\n      <td>274.428571</td>\n      <td>516.571429</td>\n      <td>7260</td>\n      <td>1037.142857</td>\n    </tr>\n    <tr>\n      <th>0</th>\n      <td>Daniil Medvedev</td>\n      <td>8</td>\n      <td>2</td>\n      <td>2845</td>\n      <td>1187</td>\n      <td>60</td>\n      <td>75</td>\n      <td>52</td>\n      <td>1897</td>\n      <td>63</td>\n      <td>...</td>\n      <td>39</td>\n      <td>52</td>\n      <td>355.625000</td>\n      <td>148.375000</td>\n      <td>237.125000</td>\n      <td>528.750000</td>\n      <td>333.000000</td>\n      <td>529.750000</td>\n      <td>8468</td>\n      <td>1058.500000</td>\n    </tr>\n    <tr>\n      <th>11</th>\n      <td>Cameron Norrie</td>\n      <td>5</td>\n      <td>2</td>\n      <td>1031</td>\n      <td>668</td>\n      <td>65</td>\n      <td>70</td>\n      <td>50</td>\n      <td>1470</td>\n      <td>62</td>\n      <td>...</td>\n      <td>38</td>\n      <td>51</td>\n      <td>206.200000</td>\n      <td>133.600000</td>\n      <td>294.000000</td>\n      <td>530.600000</td>\n      <td>308.400000</td>\n      <td>530.600000</td>\n      <td>5306</td>\n      <td>1061.200000</td>\n    </tr>\n    <tr>\n      <th>8</th>\n      <td>Felix Auger-Aliassime</td>\n      <td>5</td>\n      <td>2</td>\n      <td>1945</td>\n      <td>919</td>\n      <td>64</td>\n      <td>75</td>\n      <td>50</td>\n      <td>1317</td>\n      <td>63</td>\n      <td>...</td>\n      <td>37</td>\n      <td>51</td>\n      <td>389.000000</td>\n      <td>183.800000</td>\n      <td>263.400000</td>\n      <td>543.800000</td>\n      <td>293.200000</td>\n      <td>535.600000</td>\n      <td>5397</td>\n      <td>1079.400000</td>\n    </tr>\n    <tr>\n      <th>20</th>\n      <td>Grigor Dimitrov</td>\n      <td>14</td>\n      <td>1</td>\n      <td>4049</td>\n      <td>2096</td>\n      <td>62</td>\n      <td>74</td>\n      <td>51</td>\n      <td>3593</td>\n      <td>63</td>\n      <td>...</td>\n      <td>37</td>\n      <td>51</td>\n      <td>289.214286</td>\n      <td>149.714286</td>\n      <td>256.642857</td>\n      <td>544.071429</td>\n      <td>305.928571</td>\n      <td>535.857143</td>\n      <td>15119</td>\n      <td>1079.928571</td>\n    </tr>\n    <tr>\n      <th>33</th>\n      <td>Jenson Brooksby</td>\n      <td>1</td>\n      <td>2</td>\n      <td>121</td>\n      <td>62</td>\n      <td>64</td>\n      <td>68</td>\n      <td>52</td>\n      <td>302</td>\n      <td>56</td>\n      <td>...</td>\n      <td>40</td>\n      <td>51</td>\n      <td>121.000000</td>\n      <td>62.000000</td>\n      <td>302.000000</td>\n      <td>560.000000</td>\n      <td>373.000000</td>\n      <td>554.000000</td>\n      <td>1114</td>\n      <td>1114.000000</td>\n    </tr>\n    <tr>\n      <th>22</th>\n      <td>Gael Monfils</td>\n      <td>18</td>\n      <td>2</td>\n      <td>6668</td>\n      <td>2917</td>\n      <td>62</td>\n      <td>73</td>\n      <td>50</td>\n      <td>5061</td>\n      <td>62</td>\n      <td>...</td>\n      <td>39</td>\n      <td>51</td>\n      <td>370.444444</td>\n      <td>162.055556</td>\n      <td>281.166667</td>\n      <td>562.222222</td>\n      <td>344.611111</td>\n      <td>561.777778</td>\n      <td>20232</td>\n      <td>1124.000000</td>\n    </tr>\n    <tr>\n      <th>16</th>\n      <td>Marin Cilic</td>\n      <td>17</td>\n      <td>2</td>\n      <td>7778</td>\n      <td>2521</td>\n      <td>57</td>\n      <td>77</td>\n      <td>52</td>\n      <td>4890</td>\n      <td>64</td>\n      <td>...</td>\n      <td>38</td>\n      <td>52</td>\n      <td>457.529412</td>\n      <td>148.294118</td>\n      <td>287.647059</td>\n      <td>634.705882</td>\n      <td>369.176471</td>\n      <td>627.058824</td>\n      <td>21450</td>\n      <td>1261.764706</td>\n    </tr>\n    <tr>\n      <th>15</th>\n      <td>Denis Shapovalov</td>\n      <td>5</td>\n      <td>1</td>\n      <td>2130</td>\n      <td>1370</td>\n      <td>59</td>\n      <td>76</td>\n      <td>52</td>\n      <td>1610</td>\n      <td>66</td>\n      <td>...</td>\n      <td>36</td>\n      <td>51</td>\n      <td>426.000000</td>\n      <td>274.000000</td>\n      <td>322.000000</td>\n      <td>671.600000</td>\n      <td>344.200000</td>\n      <td>670.000000</td>\n      <td>6708</td>\n      <td>1341.600000</td>\n    </tr>\n    <tr>\n      <th>1</th>\n      <td>Alexander Zverev</td>\n      <td>9</td>\n      <td>2</td>\n      <td>3974</td>\n      <td>1973</td>\n      <td>65</td>\n      <td>74</td>\n      <td>50</td>\n      <td>2709</td>\n      <td>61</td>\n      <td>...</td>\n      <td>38</td>\n      <td>52</td>\n      <td>441.555556</td>\n      <td>219.222222</td>\n      <td>301.000000</td>\n      <td>670.777778</td>\n      <td>403.444444</td>\n      <td>671.666667</td>\n      <td>12082</td>\n      <td>1342.444444</td>\n    </tr>\n    <tr>\n      <th>24</th>\n      <td>John Isner</td>\n      <td>15</td>\n      <td>2</td>\n      <td>13634</td>\n      <td>1674</td>\n      <td>69</td>\n      <td>79</td>\n      <td>56</td>\n      <td>2936</td>\n      <td>71</td>\n      <td>...</td>\n      <td>30</td>\n      <td>51</td>\n      <td>908.933333</td>\n      <td>111.600000</td>\n      <td>195.733333</td>\n      <td>699.000000</td>\n      <td>234.733333</td>\n      <td>691.400000</td>\n      <td>20856</td>\n      <td>1390.400000</td>\n    </tr>\n    <tr>\n      <th>3</th>\n      <td>Rafael Nadal</td>\n      <td>21</td>\n      <td>2</td>\n      <td>3856</td>\n      <td>2066</td>\n      <td>68</td>\n      <td>72</td>\n      <td>57</td>\n      <td>6309</td>\n      <td>67</td>\n      <td>...</td>\n      <td>42</td>\n      <td>55</td>\n      <td>183.619048</td>\n      <td>98.380952</td>\n      <td>300.428571</td>\n      <td>703.809524</td>\n      <td>521.095238</td>\n      <td>696.809524</td>\n      <td>29413</td>\n      <td>1400.619048</td>\n    </tr>\n    <tr>\n      <th>5</th>\n      <td>Stefanos Tsitsipas</td>\n      <td>6</td>\n      <td>1</td>\n      <td>2329</td>\n      <td>735</td>\n      <td>62</td>\n      <td>76</td>\n      <td>55</td>\n      <td>1679</td>\n      <td>65</td>\n      <td>...</td>\n      <td>36</td>\n      <td>52</td>\n      <td>388.166667</td>\n      <td>122.500000</td>\n      <td>279.833333</td>\n      <td>708.333333</td>\n      <td>367.500000</td>\n      <td>692.333333</td>\n      <td>8404</td>\n      <td>1400.666667</td>\n    </tr>\n    <tr>\n      <th>2</th>\n      <td>Novak Djokovic</td>\n      <td>19</td>\n      <td>2</td>\n      <td>6440</td>\n      <td>2672</td>\n      <td>65</td>\n      <td>74</td>\n      <td>55</td>\n      <td>6017</td>\n      <td>66</td>\n      <td>...</td>\n      <td>42</td>\n      <td>54</td>\n      <td>338.947368</td>\n      <td>140.631579</td>\n      <td>316.684211</td>\n      <td>767.263158</td>\n      <td>540.947368</td>\n      <td>746.263158</td>\n      <td>28757</td>\n      <td>1513.526316</td>\n    </tr>\n  </tbody>\n</table>\n<p>41 rows × 29 columns</p>\n</div>"
     },
     "metadata": {}
    }
   ],
   "execution_count": null
  },
  {
   "cell_type": "markdown",
   "source": "<a style='text-decoration:none;line-height:16px;display:flex;color:#5B5B62;padding:10px;justify-content:end;' href='https://deepnote.com?utm_source=created-in-deepnote-cell&projectId=b62d15e2-711d-4773-aa8c-7cdf1155e6fd' target=\"_blank\">\n<img alt='Created in deepnote.com' style='display:inline;max-height:16px;margin:0px;margin-right:7.5px;' src='data:image/svg+xml;base64,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' > </img>\nCreated in <span style='font-weight:600;margin-left:4px;'>Deepnote</span></a>",
   "metadata": {
    "tags": [],
    "created_in_deepnote_cell": true,
    "deepnote_cell_type": "markdown"
   }
  }
 ],
 "nbformat": 4,
 "nbformat_minor": 2,
 "metadata": {
  "orig_nbformat": 2,
  "deepnote": {},
  "deepnote_notebook_id": "2e574193-ae17-4eaf-a79c-6025bbd7c951",
  "deepnote_execution_queue": []
 }
}